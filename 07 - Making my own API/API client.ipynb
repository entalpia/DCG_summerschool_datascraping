{
 "cells": [
  {
   "cell_type": "markdown",
   "metadata": {},
   "source": [
    "# First test, ask for the entire list of tasks"
   ]
  },
  {
   "cell_type": "code",
   "execution_count": 1,
   "metadata": {},
   "outputs": [
    {
     "name": "stdout",
     "output_type": "stream",
     "text": [
      "{\n",
      "  \"tasks\": [\n",
      "    {\n",
      "      \"id\": 1, \n",
      "      \"url\": \"http://myfirsturltoscrape.com\"\n",
      "    }, \n",
      "    {\n",
      "      \"id\": 2, \n",
      "      \"url\": \"http://mysecondurltoscrape.com\"\n",
      "    }\n",
      "  ]\n",
      "}\n",
      "\n"
     ]
    }
   ],
   "source": [
    "import requests\n",
    "\n",
    "api_url = 'http://localhost:9000/todo/api/v1.0/tasks'\n",
    "\n",
    "r = requests.get(api_url)\n",
    "print(r.text)"
   ]
  },
  {
   "cell_type": "markdown",
   "metadata": {},
   "source": [
    "# Second Test, retreive a specific task "
   ]
  },
  {
   "cell_type": "code",
   "execution_count": 2,
   "metadata": {},
   "outputs": [
    {
     "name": "stdout",
     "output_type": "stream",
     "text": [
      "{\n",
      "  \"task\": {\n",
      "    \"id\": 2, \n",
      "    \"url\": \"http://mysecondurltoscrape.com\"\n",
      "  }\n",
      "}\n",
      "\n"
     ]
    }
   ],
   "source": [
    "import requests\n",
    "\n",
    "api_url = 'http://localhost:9000/todo/api/v1.0/tasks/2'\n",
    "\n",
    "r = requests.get(api_url)\n",
    "print(r.text)"
   ]
  },
  {
   "cell_type": "markdown",
   "metadata": {},
   "source": [
    "# Third test - test all the previews enpoint and test + a wrong one"
   ]
  },
  {
   "cell_type": "code",
   "execution_count": 4,
   "metadata": {},
   "outputs": [
    {
     "name": "stdout",
     "output_type": "stream",
     "text": [
      "{\n",
      "  \"error\": \"Not found\"\n",
      "}\n",
      "\n"
     ]
    }
   ],
   "source": [
    "import requests\n",
    "\n",
    "api_url = 'http://localhost:9000/todo/api/v1.0/tasm/2'\n",
    "\n",
    "r = requests.get(api_url)\n",
    "print(r.text)"
   ]
  },
  {
   "cell_type": "markdown",
   "metadata": {},
   "source": [
    "# Fourth - POST data to the API and check if the data has being updated"
   ]
  },
  {
   "cell_type": "code",
   "execution_count": 7,
   "metadata": {},
   "outputs": [
    {
     "name": "stdout",
     "output_type": "stream",
     "text": [
      "{\n",
      "  \"task\": {\n",
      "    \"id\": 3, \n",
      "    \"url\": \"http://newurl.com\"\n",
      "  }\n",
      "}\n",
      "\n"
     ]
    }
   ],
   "source": [
    "import requests\n",
    "import json \n",
    "\n",
    "api_url = 'http://localhost:9000/todo/api/v1.0/tasks'\n",
    "data = { 'id': 3 , 'url':'http://newurl.com' }\n",
    "headers = {'content-type': 'application/json'}\n",
    "\n",
    "\n",
    "r = requests.post(api_url,  data=json.dumps(data), headers=headers)\n",
    "print(r.text)"
   ]
  },
  {
   "cell_type": "code",
   "execution_count": 8,
   "metadata": {},
   "outputs": [
    {
     "name": "stdout",
     "output_type": "stream",
     "text": [
      "{\n",
      "  \"tasks\": [\n",
      "    {\n",
      "      \"id\": 1, \n",
      "      \"url\": \"http://myfirsturltoscrape.com\"\n",
      "    }, \n",
      "    {\n",
      "      \"id\": 2, \n",
      "      \"url\": \"http://mysecondurltoscrape.com\"\n",
      "    }, \n",
      "    {\n",
      "      \"id\": 3, \n",
      "      \"url\": \"http://newurl.com\"\n",
      "    }\n",
      "  ]\n",
      "}\n",
      "\n"
     ]
    }
   ],
   "source": [
    "import requests\n",
    "\n",
    "api_url = 'http://localhost:9000/todo/api/v1.0/tasks'\n",
    "\n",
    "r = requests.get(api_url)\n",
    "print(r.text)"
   ]
  },
  {
   "cell_type": "markdown",
   "metadata": {},
   "source": []
  },
  {
   "cell_type": "code",
   "execution_count": 12,
   "metadata": {},
   "outputs": [
    {
     "name": "stdout",
     "output_type": "stream",
     "text": [
      "{\n",
      "  \"area\": \"200\", \n",
      "  \"bathrooms\": \"3+\", \n",
      "  \"price\": \" 590000\", \n",
      "  \"rooms\": \"5+\", \n",
      "  \"title\": \"Casa indipendente via Sesia, Rivoli\"\n",
      "}\n",
      "\n"
     ]
    }
   ],
   "source": [
    "import requests\n",
    "import json \n",
    "\n",
    "api_url = 'http://localhost:9000/todo/api/v1.0/tasks'\n",
    "data = { 'id': 4 , 'url':'https://www.immobiliare.it/68148533-Vendita-Casa-indipendente-via-Sesia-Rivoli.html' }\n",
    "headers = {'content-type': 'application/json'}\n",
    "\n",
    "\n",
    "r = requests.post(api_url,  data=json.dumps(data), headers=headers)\n",
    "print(r.text)"
   ]
  },
  {
   "cell_type": "code",
   "execution_count": null,
   "metadata": {
    "collapsed": true
   },
   "outputs": [],
   "source": []
  }
 ],
 "metadata": {
  "kernelspec": {
   "display_name": "Python 3",
   "language": "python",
   "name": "python3"
  },
  "language_info": {
   "codemirror_mode": {
    "name": "ipython",
    "version": 3
   },
   "file_extension": ".py",
   "mimetype": "text/x-python",
   "name": "python",
   "nbconvert_exporter": "python",
   "pygments_lexer": "ipython3",
   "version": "3.6.2"
  }
 },
 "nbformat": 4,
 "nbformat_minor": 2
}
