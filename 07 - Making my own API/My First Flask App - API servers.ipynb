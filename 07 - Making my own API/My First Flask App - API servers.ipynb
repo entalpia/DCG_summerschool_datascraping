{
 "cells": [
  {
   "cell_type": "markdown",
   "metadata": {},
   "source": [
    "# A barebone Flask app\n",
    "\n",
    "flask is a python framework that allow user to create their own \n",
    "web application"
   ]
  },
  {
   "cell_type": "code",
   "execution_count": 3,
   "metadata": {},
   "outputs": [
    {
     "name": "stderr",
     "output_type": "stream",
     "text": [
      " * Running on http://localhost:9000/ (Press CTRL+C to quit)\n"
     ]
    }
   ],
   "source": [
    "# importing some library, the first is to load flask inside Jupyther\n",
    "from werkzeug.wrappers import Request, Response\n",
    "from flask import Flask # this library it's just Flask\n",
    "\n",
    "app = Flask(__name__) # initialize the Flask app\n",
    "\n",
    "# we create the first app endpoint\n",
    "@app.route(\"/\")\n",
    "def hello():\n",
    "    return \"Hello World!\"\n",
    "\n",
    "# if your run this block code, than Flask will start\n",
    "if __name__ == '__main__':\n",
    "    from werkzeug.serving import run_simple\n",
    "    run_simple('localhost', 9000, app)"
   ]
  },
  {
   "cell_type": "markdown",
   "metadata": {},
   "source": [
    "# 1) API that retreive a list of tasks to do\n",
    "\n"
   ]
  },
  {
   "cell_type": "code",
   "execution_count": 2,
   "metadata": {},
   "outputs": [
    {
     "name": "stderr",
     "output_type": "stream",
     "text": [
      " * Running on http://localhost:9000/ (Press CTRL+C to quit)\n",
      "127.0.0.1 - - [02/Jul/2018 23:18:31] \"\u001b[37mGET /todo/api/v1.0/tasks HTTP/1.1\u001b[0m\" 200 -\n",
      "127.0.0.1 - - [02/Jul/2018 23:18:40] \"\u001b[37mGET /todo/api/v1.0/tasks HTTP/1.1\u001b[0m\" 200 -\n"
     ]
    }
   ],
   "source": [
    "# importing some library, the first is to load flask inside Jupyther\n",
    "from werkzeug.wrappers import Request, Response\n",
    "from flask import Flask, jsonify# this library it's just Flask\n",
    "\n",
    "app = Flask(__name__) # initialize the Flask app\n",
    "\n",
    "tasks = [\n",
    "    {\n",
    "        'id': 1,\n",
    "        'url': 'http://myfirsturltoscrape.com'\n",
    "    },\n",
    "    {\n",
    "        'id': 2,\n",
    "        'url': 'http://mysecondurltoscrape.com'\n",
    "    }\n",
    "]\n",
    "\n",
    "@app.route('/todo/api/v1.0/tasks', methods=['GET'])\n",
    "def get_tasks():\n",
    "    return jsonify({'tasks': tasks})\n",
    "\n",
    "# if your run this block code, than Flask will start\n",
    "if __name__ == '__main__':\n",
    "    from werkzeug.serving import run_simple\n",
    "    run_simple('localhost', 9000, app)"
   ]
  },
  {
   "cell_type": "markdown",
   "metadata": {},
   "source": [
    "# 2) API that retreive a specific task item"
   ]
  },
  {
   "cell_type": "code",
   "execution_count": 3,
   "metadata": {},
   "outputs": [
    {
     "name": "stderr",
     "output_type": "stream",
     "text": [
      " * Running on http://localhost:9000/ (Press CTRL+C to quit)\n",
      "127.0.0.1 - - [02/Jul/2018 23:24:34] \"\u001b[37mGET /todo/api/v1.0/tasks/2 HTTP/1.1\u001b[0m\" 200 -\n",
      "127.0.0.1 - - [02/Jul/2018 23:24:53] \"\u001b[33mGET /todo/api/v1.0/tasks HTTP/1.1\u001b[0m\" 404 -\n"
     ]
    }
   ],
   "source": [
    "# importing some library, the first is to load flask inside Jupyther\n",
    "from werkzeug.wrappers import Request, Response\n",
    "from flask import Flask, jsonify # this library it's just Flask\n",
    "from flask import abort\n",
    "\n",
    "app = Flask(__name__) # initialize the Flask app\n",
    "\n",
    "tasks = [\n",
    "    {\n",
    "        'id': 1,\n",
    "        'url': 'http://myfirsturltoscrape.com'\n",
    "    },\n",
    "    {\n",
    "        'id': 2,\n",
    "        'url': 'http://mysecondurltoscrape.com'\n",
    "    }\n",
    "]\n",
    "\n",
    "@app.route('/todo/api/v1.0/tasks/<int:task_id>', methods=['GET'])\n",
    "def get_task(task_id):\n",
    "    # this filter the dictionary looking for a dictionary that has id == to the value task_id\n",
    "    task = [task for task in tasks if task['id'] == task_id]\n",
    "    # if there is no results\n",
    "    if len(task) == 0:\n",
    "        abort(404)\n",
    "    # otherwise\n",
    "    return jsonify({'task': task[0]})\n",
    "\n",
    "\n",
    "# if your run this block code, than Flask will start\n",
    "if __name__ == '__main__':\n",
    "    from werkzeug.serving import run_simple\n",
    "    run_simple('localhost', 9000, app)"
   ]
  },
  {
   "cell_type": "markdown",
   "metadata": {},
   "source": [
    "# 3) Give error whend the API endpoint does not exists"
   ]
  },
  {
   "cell_type": "code",
   "execution_count": 6,
   "metadata": {},
   "outputs": [
    {
     "name": "stderr",
     "output_type": "stream",
     "text": [
      " * Running on http://localhost:9000/ (Press CTRL+C to quit)\n",
      "127.0.0.1 - - [02/Jul/2018 23:30:08] \"\u001b[37mGET /todo/api/v1.0/tasks HTTP/1.1\u001b[0m\" 200 -\n",
      "127.0.0.1 - - [02/Jul/2018 23:30:10] \"\u001b[37mGET /todo/api/v1.0/tasks/2 HTTP/1.1\u001b[0m\" 200 -\n",
      "127.0.0.1 - - [02/Jul/2018 23:32:00] \"\u001b[33mGET /todo/api/v1.0/tasm/2 HTTP/1.1\u001b[0m\" 404 -\n"
     ]
    }
   ],
   "source": [
    "# importing some library, the first is to load flask inside Jupyther\n",
    "from werkzeug.wrappers import Request, Response\n",
    "from flask import Flask, jsonify # this library it's just Flask\n",
    "from flask import abort\n",
    "from flask import make_response\n",
    "\n",
    "app = Flask(__name__) # initialize the Flask app\n",
    "\n",
    "tasks = [\n",
    "    {\n",
    "        'id': 1,\n",
    "        'url': 'http://myfirsturltoscrape.com'\n",
    "    },\n",
    "    {\n",
    "        'id': 2,\n",
    "        'url': 'http://mysecondurltoscrape.com'\n",
    "    }\n",
    "]\n",
    "\n",
    "\n",
    "@app.route('/todo/api/v1.0/tasks', methods=['GET'])\n",
    "def get_tasks():\n",
    "    return jsonify({'tasks': tasks})\n",
    "\n",
    "@app.route('/todo/api/v1.0/tasks/<int:task_id>', methods=['GET'])\n",
    "def get_task(task_id):\n",
    "    # this filter the dictionary looking for a dictionary that has id == to the value task_id\n",
    "    task = [task for task in tasks if task['id'] == task_id]\n",
    "    # if there is no results\n",
    "    if len(task) == 0:\n",
    "        abort(404)\n",
    "    # otherwise\n",
    "    return jsonify({'task': task[0]})\n",
    "\n",
    "@app.errorhandler(404)\n",
    "def not_found(error):\n",
    "    return make_response(jsonify({'error': 'Not found'}), 404)\n",
    "\n",
    "# if your run this block code, than Flask will start\n",
    "if __name__ == '__main__':\n",
    "    from werkzeug.serving import run_simple\n",
    "    run_simple('localhost', 9000, app)"
   ]
  },
  {
   "cell_type": "markdown",
   "metadata": {},
   "source": [
    "# 4) API capable of receive a POST"
   ]
  },
  {
   "cell_type": "code",
   "execution_count": 9,
   "metadata": {},
   "outputs": [
    {
     "name": "stderr",
     "output_type": "stream",
     "text": [
      " * Running on http://localhost:9000/ (Press CTRL+C to quit)\n",
      "127.0.0.1 - - [02/Jul/2018 23:41:57] \"\u001b[37mPOST /todo/api/v1.0/tasks HTTP/1.1\u001b[0m\" 201 -\n",
      "127.0.0.1 - - [02/Jul/2018 23:42:09] \"\u001b[37mGET /todo/api/v1.0/tasks HTTP/1.1\u001b[0m\" 200 -\n"
     ]
    }
   ],
   "source": [
    "# importing some library, the first is to load flask inside Jupyther\n",
    "from werkzeug.wrappers import Request, Response\n",
    "from flask import Flask, jsonify # this library it's just Flask\n",
    "from flask import abort\n",
    "from flask import make_response\n",
    "from flask import request\n",
    "\n",
    "app = Flask(__name__) # initialize the Flask app\n",
    "\n",
    "tasks = [\n",
    "    {\n",
    "        'id': 1,\n",
    "        'url': 'http://myfirsturltoscrape.com'\n",
    "    },\n",
    "    {\n",
    "        'id': 2,\n",
    "        'url': 'http://mysecondurltoscrape.com'\n",
    "    }\n",
    "]\n",
    "\n",
    "\n",
    "@app.route('/todo/api/v1.0/tasks', methods=['GET'])\n",
    "def get_tasks():\n",
    "    return jsonify({'tasks': tasks})\n",
    "\n",
    "@app.route('/todo/api/v1.0/tasks/<int:task_id>', methods=['GET'])\n",
    "def get_task(task_id):\n",
    "    # this filter the dictionary looking for a dictionary that has id == to the value task_id\n",
    "    task = [task for task in tasks if task['id'] == task_id]\n",
    "    # if there is no results\n",
    "    if len(task) == 0:\n",
    "        abort(404)\n",
    "    # otherwise\n",
    "    return jsonify({'task': task[0]})\n",
    "\n",
    "@app.errorhandler(404)\n",
    "def not_found(error):\n",
    "    return make_response(jsonify({'error': 'Not found'}), 404)\n",
    "\n",
    "@app.route('/todo/api/v1.0/tasks', methods=['POST'])\n",
    "def create_task():\n",
    "    if not request.json or not 'id' in request.json:\n",
    "        abort(400)\n",
    "    task = {\n",
    "        'id': request.json['id'],\n",
    "        'url': request.json['url']\n",
    "    }\n",
    "    tasks.append(task)\n",
    "    return jsonify({'task': task}), 201\n",
    "\n",
    "# if your run this block code, than Flask will start\n",
    "if __name__ == '__main__':\n",
    "    from werkzeug.serving import run_simple\n",
    "    run_simple('localhost', 9000, app)"
   ]
  },
  {
   "cell_type": "markdown",
   "metadata": {},
   "source": [
    "# Adding the Single Post Class"
   ]
  },
  {
   "cell_type": "code",
   "execution_count": 13,
   "metadata": {
    "collapsed": true
   },
   "outputs": [],
   "source": [
    "import requests\n",
    "from lxml import html\n",
    "\n",
    "class SinglePost():\n",
    "    def __init__(self,url):\n",
    "        self.url = url\n",
    "        self.paths = { \n",
    "                      'title':'//*[@id=\"sticky-contact-bottom\"]/div[1]/h1/text()',\n",
    "                      'price':'//*[@id=\"sticky-contact-bottom\"]/div[1]/div[1]/div[1]/ul[1]/li[1]/span/text()',\n",
    "                      'rooms':'//*[@id=\"sticky-contact-bottom\"]/div[1]/div[1]/div[1]/ul[2]/li[1]/div[1]/span/text()',\n",
    "                      'bathrooms':'//*[@id=\"sticky-contact-bottom\"]/div[1]/div[1]/div[1]/ul[2]/li[2]/div[1]/span/text()',\n",
    "                      'area':'//*[@id=\"sticky-contact-bottom\"]/div[1]/div[1]/div[1]/ul[2]/li[3]/div[1]/span/text()'\n",
    "                     }\n",
    "        \n",
    "        # here we have some vars waiting to be assigned\n",
    "        self.r = None\n",
    "        self.tree = None\n",
    "        self.data = {}\n",
    "\n",
    "    # a function that is just waiting to be \n",
    "    def openUrl(self):\n",
    "        self.r = requests.get(self.url)\n",
    "        self.tree = html.fromstring(self.r.text)  \n",
    "    \n",
    "    # check if the data if ok avoiding errors\n",
    "    def controlData(self,data):\n",
    "        f = None\n",
    "        if data:\n",
    "            f = data[0].replace('€','').replace('\\xa0','').replace('.','')\n",
    "        else:\n",
    "            f = ''\n",
    "        return f\n",
    "    \n",
    "    # extract the data from the xpath\n",
    "    def getData(self):\n",
    "        for key, value in self.paths.items():\n",
    "            d = { key : self.controlData(self.tree.xpath(value)) }\n",
    "            self.data.update(d)\n",
    "            \n",
    "    # just show our data \n",
    "    def show(self):\n",
    "        print(self.data)\n",
    "      \n",
    "    #def pushtoDB(self):\n",
    "    #    s = session()\n",
    "    #    post = MyTable( address = self.data['title'],\n",
    "    #                  price = self.data['price'],\n",
    "    #                  rooms = self.data['rooms'],\n",
    "    #                  bathrooms = self.data['bathrooms'],\n",
    "    #                  area = self.data['area'],\n",
    "    #                  url = self.url )\n",
    "    #    s.add(post)\n",
    "    #    s.commit()\n",
    "        \n",
    "         \n",
    "    def run(self):\n",
    "        self.openUrl()\n",
    "        self.getData()\n",
    "        #self.pushtoDB()\n",
    "        #self.show()\n",
    "        return self.data"
   ]
  },
  {
   "cell_type": "code",
   "execution_count": null,
   "metadata": {},
   "outputs": [
    {
     "name": "stderr",
     "output_type": "stream",
     "text": [
      " * Running on http://localhost:9000/ (Press CTRL+C to quit)\n",
      "127.0.0.1 - - [02/Jul/2018 23:53:16] \"\u001b[37mPOST /todo/api/v1.0/tasks HTTP/1.1\u001b[0m\" 201 -\n"
     ]
    }
   ],
   "source": [
    "# importing some library, the first is to load flask inside Jupyther\n",
    "from werkzeug.wrappers import Request, Response\n",
    "from flask import Flask, jsonify # this library it's just Flask\n",
    "from flask import abort\n",
    "from flask import make_response\n",
    "from flask import request\n",
    "\n",
    "app = Flask(__name__) # initialize the Flask app\n",
    "\n",
    "\n",
    "@app.errorhandler(404)\n",
    "def not_found(error):\n",
    "    return make_response(jsonify({'error': 'Not found'}), 404)\n",
    "\n",
    "@app.route('/todo/api/v1.0/tasks', methods=['POST'])\n",
    "def create_task():\n",
    "    if not request.json or not 'id' in request.json:\n",
    "        abort(400)\n",
    "        \n",
    "    s = SinglePost(request.json['url'])\n",
    "    result = s.run()\n",
    "    return jsonify(result), 201\n",
    "\n",
    "# if your run this block code, than Flask will start\n",
    "if __name__ == '__main__':\n",
    "    from werkzeug.serving import run_simple\n",
    "    run_simple('localhost', 9000, app)"
   ]
  },
  {
   "cell_type": "code",
   "execution_count": null,
   "metadata": {
    "collapsed": true
   },
   "outputs": [],
   "source": []
  }
 ],
 "metadata": {
  "kernelspec": {
   "display_name": "Python 3",
   "language": "python",
   "name": "python3"
  },
  "language_info": {
   "codemirror_mode": {
    "name": "ipython",
    "version": 3
   },
   "file_extension": ".py",
   "mimetype": "text/x-python",
   "name": "python",
   "nbconvert_exporter": "python",
   "pygments_lexer": "ipython3",
   "version": "3.6.2"
  }
 },
 "nbformat": 4,
 "nbformat_minor": 2
}
