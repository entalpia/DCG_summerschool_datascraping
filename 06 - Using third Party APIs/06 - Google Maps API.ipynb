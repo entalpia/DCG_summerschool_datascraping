{
 "cells": [
  {
   "cell_type": "markdown",
   "metadata": {},
   "source": [
    "# APIs\n",
    "\n",
    "Google Maps Geocoding Example\n",
    "\n",
    "https://developers.google.com/maps/documentation/geocoding/start\n"
   ]
  },
  {
   "cell_type": "code",
   "execution_count": 6,
   "metadata": {},
   "outputs": [
    {
     "name": "stdout",
     "output_type": "stream",
     "text": [
      "https://maps.googleapis.com/maps/api/geocode/json?address=Rua%20S%C3%A1%20Nogueira%2C%20Alto%20da%20Ajuda%201349-063%20Lisboa\n"
     ]
    }
   ],
   "source": [
    "import urllib.parse as p\n",
    "\n",
    "api_url = \"https://maps.googleapis.com/maps/api/geocode/json?address=\"\n",
    "\n",
    "address = \"Rua Sá Nogueira, Alto da Ajuda 1349-063 Lisboa\"\n",
    "\n",
    "url = api_url+p.quote(address)\n",
    "\n",
    "print(url)"
   ]
  },
  {
   "cell_type": "markdown",
   "metadata": {},
   "source": [
    "once the url is structured we can ask thru the usual procedure to open the link"
   ]
  },
  {
   "cell_type": "code",
   "execution_count": 7,
   "metadata": {},
   "outputs": [
    {
     "data": {
      "text/plain": [
       "'{\\n   \"results\" : [\\n      {\\n         \"address_components\" : [\\n            {\\n               \"long_name\" : \"Rua Sá Nogueira\",\\n               \"short_name\" : \"R. Sá Nogueira\",\\n               \"types\" : [ \"route\" ]\\n            },\\n            {\\n               \"long_name\" : \"Lisboa\",\\n               \"short_name\" : \"Lisboa\",\\n               \"types\" : [ \"locality\", \"political\" ]\\n            },\\n            {\\n               \"long_name\" : \"Lisboa\",\\n               \"short_name\" : \"Lisboa\",\\n               \"types\" : [ \"administrative_area_level_1\", \"political\" ]\\n            },\\n            {\\n               \"long_name\" : \"Portugal\",\\n               \"short_name\" : \"PT\",\\n               \"types\" : [ \"country\", \"political\" ]\\n            },\\n            {\\n               \"long_name\" : \"1300\",\\n               \"short_name\" : \"1300\",\\n               \"types\" : [ \"postal_code\", \"postal_code_prefix\" ]\\n            }\\n         ],\\n         \"formatted_address\" : \"R. Sá Nogueira, 1300 Lisboa, Portugal\",\\n         \"geometry\" : {\\n            \"bounds\" : {\\n               \"northeast\" : {\\n                  \"lat\" : 38.7135115,\\n                  \"lng\" : -9.194699999999999\\n               },\\n               \"southwest\" : {\\n                  \"lat\" : 38.7099357,\\n                  \"lng\" : -9.1958419\\n               }\\n            },\\n            \"location\" : {\\n               \"lat\" : 38.7116943,\\n               \"lng\" : -9.195475699999999\\n            },\\n            \"location_type\" : \"GEOMETRIC_CENTER\",\\n            \"viewport\" : {\\n               \"northeast\" : {\\n                  \"lat\" : 38.7135115,\\n                  \"lng\" : -9.193921969708498\\n               },\\n               \"southwest\" : {\\n                  \"lat\" : 38.7099357,\\n                  \"lng\" : -9.196619930291503\\n               }\\n            }\\n         },\\n         \"place_id\" : \"ChIJ50BU1KvMHg0RUCVCGokaWOQ\",\\n         \"types\" : [ \"route\" ]\\n      }\\n   ],\\n   \"status\" : \"OK\"\\n}\\n'"
      ]
     },
     "execution_count": 7,
     "metadata": {},
     "output_type": "execute_result"
    }
   ],
   "source": [
    "import requests\n",
    "\n",
    "r = requests.get(url)\n",
    "# print the status code \n",
    "r.text\n"
   ]
  },
  {
   "cell_type": "markdown",
   "metadata": {},
   "source": [
    "Ok! we got a response.\n",
    "The content is structured as JSON, for this reason is preferable to use the right method presence already in requests .json()"
   ]
  },
  {
   "cell_type": "code",
   "execution_count": 8,
   "metadata": {},
   "outputs": [
    {
     "data": {
      "text/plain": [
       "{'results': [{'address_components': [{'long_name': 'Rua Sá Nogueira',\n",
       "     'short_name': 'R. Sá Nogueira',\n",
       "     'types': ['route']},\n",
       "    {'long_name': 'Lisboa',\n",
       "     'short_name': 'Lisboa',\n",
       "     'types': ['locality', 'political']},\n",
       "    {'long_name': 'Lisboa',\n",
       "     'short_name': 'Lisboa',\n",
       "     'types': ['administrative_area_level_1', 'political']},\n",
       "    {'long_name': 'Portugal',\n",
       "     'short_name': 'PT',\n",
       "     'types': ['country', 'political']},\n",
       "    {'long_name': '1300',\n",
       "     'short_name': '1300',\n",
       "     'types': ['postal_code', 'postal_code_prefix']}],\n",
       "   'formatted_address': 'R. Sá Nogueira, 1300 Lisboa, Portugal',\n",
       "   'geometry': {'bounds': {'northeast': {'lat': 38.7135115, 'lng': -9.1947},\n",
       "     'southwest': {'lat': 38.7099357, 'lng': -9.1958419}},\n",
       "    'location': {'lat': 38.7116943, 'lng': -9.1954757},\n",
       "    'location_type': 'GEOMETRIC_CENTER',\n",
       "    'viewport': {'northeast': {'lat': 38.7135115, 'lng': -9.193921969708498},\n",
       "     'southwest': {'lat': 38.7099357, 'lng': -9.196619930291503}}},\n",
       "   'place_id': 'ChIJ50BU1KvMHg0RUCVCGokaWOQ',\n",
       "   'types': ['route']}],\n",
       " 'status': 'OK'}"
      ]
     },
     "execution_count": 8,
     "metadata": {},
     "output_type": "execute_result"
    }
   ],
   "source": [
    "r.json()"
   ]
  },
  {
   "cell_type": "code",
   "execution_count": 9,
   "metadata": {},
   "outputs": [
    {
     "name": "stdout",
     "output_type": "stream",
     "text": [
      "[{'address_components': [{'long_name': 'Rua Sá Nogueira', 'short_name': 'R. Sá Nogueira', 'types': ['route']}, {'long_name': 'Lisboa', 'short_name': 'Lisboa', 'types': ['locality', 'political']}, {'long_name': 'Lisboa', 'short_name': 'Lisboa', 'types': ['administrative_area_level_1', 'political']}, {'long_name': 'Portugal', 'short_name': 'PT', 'types': ['country', 'political']}, {'long_name': '1300', 'short_name': '1300', 'types': ['postal_code', 'postal_code_prefix']}], 'formatted_address': 'R. Sá Nogueira, 1300 Lisboa, Portugal', 'geometry': {'bounds': {'northeast': {'lat': 38.7135115, 'lng': -9.1947}, 'southwest': {'lat': 38.7099357, 'lng': -9.1958419}}, 'location': {'lat': 38.7116943, 'lng': -9.1954757}, 'location_type': 'GEOMETRIC_CENTER', 'viewport': {'northeast': {'lat': 38.7135115, 'lng': -9.193921969708498}, 'southwest': {'lat': 38.7099357, 'lng': -9.196619930291503}}}, 'place_id': 'ChIJ50BU1KvMHg0RUCVCGokaWOQ', 'types': ['route']}]\n"
     ]
    }
   ],
   "source": [
    "data = r.json()\n",
    "print(data[\"results\"])"
   ]
  },
  {
   "cell_type": "markdown",
   "metadata": {},
   "source": [
    "To be sure to undertand how is structured the JSON   \n",
    "\n",
    "you can find few online JSON tree helper:\n",
    "\n",
    "-  http://jsonviewer.stack.hu/"
   ]
  },
  {
   "cell_type": "code",
   "execution_count": 10,
   "metadata": {},
   "outputs": [
    {
     "name": "stdout",
     "output_type": "stream",
     "text": [
      "{'lat': 38.7116943, 'lng': -9.1954757}\n"
     ]
    }
   ],
   "source": [
    "print(data[\"results\"][0][\"geometry\"][\"location\"])"
   ]
  },
  {
   "cell_type": "code",
   "execution_count": 11,
   "metadata": {},
   "outputs": [
    {
     "name": "stdout",
     "output_type": "stream",
     "text": [
      "38.7116943 -9.1954757\n"
     ]
    }
   ],
   "source": [
    "lat = data[\"results\"][0][\"geometry\"][\"location\"][\"lat\"]\n",
    "lng = data[\"results\"][0][\"geometry\"][\"location\"][\"lng\"]\n",
    "\n",
    "print(lat,lng)"
   ]
  },
  {
   "cell_type": "markdown",
   "metadata": {},
   "source": [
    "# Multiple APIs call\n",
    "\n",
    "api have structures, \n",
    "and rules.\n",
    "\n",
    "too many calls from a single api user in a limited amount of time could be unpolite\n",
    "for this reason is better to use a time function to delay the calls :)\n",
    "\n",
    "in case of google, un-authenticated api calls for the geocoding service are limited to 2500/day\n"
   ]
  },
  {
   "cell_type": "code",
   "execution_count": 12,
   "metadata": {},
   "outputs": [
    {
     "name": "stdout",
     "output_type": "stream",
     "text": [
      "Rua Sá Nogueira, Alto da Ajuda 1349-063 Lisboa 38.7116943 -9.1954757\n",
      "Lisboa 38.7116943 -9.1954757\n",
      "Duomo di Milano, Milan 38.7116943 -9.1954757\n",
      "Time Square New York 38.7116943 -9.1954757\n"
     ]
    }
   ],
   "source": [
    "import time\n",
    "\n",
    "sleep_time = 3 # seconds\n",
    "\n",
    "addresses = [\"Rua Sá Nogueira, Alto da Ajuda 1349-063 Lisboa\",\n",
    "             \"Lisboa\",\n",
    "             \"Duomo di Milano, Milan\",\n",
    "             \"Time Square New York\"\n",
    "            ]\n",
    "\n",
    "for address in addresses:\n",
    "    time.sleep(sleep_time)\n",
    "    url = api_url+p.quote(address)\n",
    "    r = requests.get(url)\n",
    "    data = r.json()\n",
    "    try:\n",
    "        lat = data[\"results\"][0][\"geometry\"][\"location\"][\"lat\"]\n",
    "        lng = data[\"results\"][0][\"geometry\"][\"location\"][\"lng\"]\n",
    "    except:\n",
    "        pass\n",
    "    \n",
    "    print(address,lat,lng)"
   ]
  },
  {
   "cell_type": "markdown",
   "metadata": {},
   "source": [
    "now we merge the data collected now we save the data using a CSV file"
   ]
  },
  {
   "cell_type": "code",
   "execution_count": 15,
   "metadata": {},
   "outputs": [
    {
     "name": "stdout",
     "output_type": "stream",
     "text": [
      "Rua Sá Nogueira, Alto da Ajuda 1349-063 Lisboa 38.7116943 -9.1954757\n",
      "Lisboa 38.7222524 -9.1393366\n",
      "Duomo di Milano, Milan 45.4640976 9.1919265\n",
      "Time Square New York 40.759011 -73.9844722\n"
     ]
    }
   ],
   "source": [
    "import csv\n",
    "\n",
    "sleep_time = 3 # seconds\n",
    "\n",
    "addresses = [\"Rua Sá Nogueira, Alto da Ajuda 1349-063 Lisboa\",\n",
    "             \"Lisboa\",\n",
    "             \"Duomo di Milano, Milan\",\n",
    "             \"Time Square New York\"\n",
    "            ]\n",
    "\n",
    "# create the file\n",
    "file = open('geocode_addreses.csv','w')\n",
    "# setup the csv writer \n",
    "writer = csv.writer(file, delimiter=',', \n",
    "                    quotechar='\"',\n",
    "                    quoting=csv.QUOTE_ALL\n",
    "                   )\n",
    "# write the header\n",
    "writer.writerow(['address','lat','lng'])\n",
    "for address in addresses:\n",
    "    time.sleep(sleep_time)\n",
    "    url = api_url+p.quote(address)\n",
    "    r = requests.get(url)\n",
    "    data = r.json()\n",
    "    try:\n",
    "        lat = data[\"results\"][0][\"geometry\"][\"location\"][\"lat\"]\n",
    "        lng = data[\"results\"][0][\"geometry\"][\"location\"][\"lng\"]\n",
    "        writer.writerow([address,lat,lng])\n",
    "        print(address,lat,lng)\n",
    "    except:\n",
    "        pass\n",
    "    \n",
    "# close a file\n",
    "file.close()"
   ]
  },
  {
   "cell_type": "markdown",
   "metadata": {},
   "source": [
    "on how to plot the data on a may straigth from Jupyther looks at Maptolib\n",
    "\n",
    "examples:\n",
    "- http://www.bigendiandata.com/2017-06-27-Mapping_in_Jupyter/\n"
   ]
  },
  {
   "cell_type": "code",
   "execution_count": null,
   "metadata": {
    "collapsed": true
   },
   "outputs": [],
   "source": []
  }
 ],
 "metadata": {
  "kernelspec": {
   "display_name": "Python 3",
   "language": "python",
   "name": "python3"
  },
  "language_info": {
   "codemirror_mode": {
    "name": "ipython",
    "version": 3
   },
   "file_extension": ".py",
   "mimetype": "text/x-python",
   "name": "python",
   "nbconvert_exporter": "python",
   "pygments_lexer": "ipython3",
   "version": "3.6.2"
  }
 },
 "nbformat": 4,
 "nbformat_minor": 2
}
