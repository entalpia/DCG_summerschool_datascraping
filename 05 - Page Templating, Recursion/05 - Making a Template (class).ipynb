{
 "cells": [
  {
   "cell_type": "code",
   "execution_count": 4,
   "metadata": {},
   "outputs": [
    {
     "name": "stdout",
     "output_type": "stream",
     "text": [
      "<Element html at 0x10738dd68>\n",
      "[['Bilocale via Giuseppe Garibaldi 20, Loano'], ['€ 279.000'], ['2\\xa0'], ['1\\xa0'], ['53']]\n"
     ]
    }
   ],
   "source": [
    "import requests\n",
    "from lxml import html\n",
    "import time\n",
    "\n",
    "\n",
    "start_url = \"https://www.immobiliare.it/66942457-Vendita-Bilocale-via-Giuseppe-Garibaldi-20-Loano.html\"\n",
    "urls_to_scrape = [start_url]\n",
    "urls_scraped = []\n",
    "urls_posts = []\n",
    "\n",
    "# in this list are stored all the paths needed to parse on the homepage\n",
    "\n",
    "post_paths = []\n",
    "\n",
    "title = '//*[@id=\"sticky-contact-bottom\"]/div[1]/h1/text()'\n",
    "price = '//*[@id=\"sticky-contact-bottom\"]/div[1]/div[1]/div[1]/ul[1]/li[1]/span/text()'\n",
    "rooms = '//*[@id=\"sticky-contact-bottom\"]/div[1]/div[1]/div[1]/ul[2]/li[1]/div[1]/span/text()'\n",
    "bathrooms = '//*[@id=\"sticky-contact-bottom\"]/div[1]/div[1]/div[1]/ul[2]/li[2]/div[1]/span/text()'\n",
    "area = '//*[@id=\"sticky-contact-bottom\"]/div[1]/div[1]/div[1]/ul[2]/li[3]/div[1]/span/text()'\n",
    "\n",
    "post_Xpath = [title,price,rooms,bathrooms,area]\n",
    "\n",
    "sleep_time = 2 # seconds\n",
    "\n",
    "def main():\n",
    "    \n",
    "    # if the list of links to scrape is not empty\n",
    "    if urls_to_scrape:\n",
    "        \n",
    "        # take the fist element of the list  \n",
    "        url = urls_to_scrape[0]\n",
    "        # open the url\n",
    "        r = requests.get(url)\n",
    "        # transform the pure text in HTML \n",
    "        tree = html.fromstring(r.text)\n",
    "        print(tree)\n",
    "        # for all the path in paths \n",
    "        time.sleep(sleep_time)\n",
    "        post = []\n",
    "        for path in post_Xpath:\n",
    "\n",
    "            info = tree.xpath(path)\n",
    "            post.append(info)\n",
    "\n",
    "        print(post)\n",
    "                \n",
    "# here we initialize the script\n",
    "main()"
   ]
  },
  {
   "cell_type": "markdown",
   "metadata": {
    "collapsed": true
   },
   "source": [
    "# Create a Class that will handle this entire process for you"
   ]
  },
  {
   "cell_type": "code",
   "execution_count": 19,
   "metadata": {
    "collapsed": true
   },
   "outputs": [],
   "source": [
    "# our first definition of SinglePost class\n",
    "class SinglePost():\n",
    "    def __init__(self,url):\n",
    "        self.url = url\n",
    "        self.paths = { \n",
    "                      'title':'//*[@id=\"sticky-contact-bottom\"]/div[1]/h1/text()',\n",
    "                      'price':'//*[@id=\"sticky-contact-bottom\"]/div[1]/div[1]/div[1]/ul[1]/li[1]/span/text()',\n",
    "                      'rooms':'//*[@id=\"sticky-contact-bottom\"]/div[1]/div[1]/div[1]/ul[2]/li[1]/div[1]/span/text()',\n",
    "                      'bathrooms':'//*[@id=\"sticky-contact-bottom\"]/div[1]/div[1]/div[1]/ul[2]/li[2]/div[1]/span/text()',\n",
    "                      'area':'//*[@id=\"sticky-contact-bottom\"]/div[1]/div[1]/div[1]/ul[2]/li[3]/div[1]/span/text()'\n",
    "                     }\n",
    "        \n",
    "        # here we have some vars waiting to be assigned\n",
    "        self.r = None\n",
    "        self.tree = None\n",
    "        self.data = {}\n",
    "    \n",
    "    # a function that is just waiting to be \n",
    "    def openUrl(self):\n",
    "        self.r = requests.get(self.url)\n",
    "        self.tree = html.fromstring(self.r.text)\n",
    "    \n",
    "    # check if the data if ok avoiding errors\n",
    "    def controlData(self,data):\n",
    "        f = None\n",
    "        if data:\n",
    "            f = data[0].replace('€','').replace('\\xa0','').replace('.','')\n",
    "        else:\n",
    "            f = ''\n",
    "        return f\n",
    "    \n",
    "    # extract the data from the xpath\n",
    "    def getData(self):\n",
    "        for key, value in self.paths.items():\n",
    "            d = { key : self.controlData(self.tree.xpath(value)) }\n",
    "            self.data.update(d)\n",
    "    \n",
    "    # just show our data \n",
    "    def show(self):\n",
    "        print(self.data)\n",
    "    \n",
    "    # all things together\n",
    "    def run(self):\n",
    "        self.openUrl()\n",
    "        self.getData()\n",
    "        self.show()\n",
    "            "
   ]
  },
  {
   "cell_type": "code",
   "execution_count": 20,
   "metadata": {},
   "outputs": [
    {
     "name": "stdout",
     "output_type": "stream",
     "text": [
      "{'title': 'Bilocale via Giuseppe Garibaldi 20, Loano', 'price': ' 279000', 'rooms': '2', 'bathrooms': '1', 'area': '53'}\n"
     ]
    }
   ],
   "source": [
    "import requests\n",
    "from lxml import html\n",
    "import time\n",
    "\n",
    "\n",
    "start_url = \"https://www.immobiliare.it/66942457-Vendita-Bilocale-via-Giuseppe-Garibaldi-20-Loano.html\"\n",
    "urls_to_scrape = [start_url]\n",
    "urls_scraped = []\n",
    "urls_posts = []\n",
    "\n",
    "# in this list are stored all the paths needed to parse on the homepage\n",
    "sleep_time = 2 # seconds\n",
    "\n",
    "def main():\n",
    "    \n",
    "    # if the list of links to scrape is not empty\n",
    "    if urls_to_scrape:\n",
    "        \n",
    "        # take the fist element of the list  \n",
    "        url = urls_to_scrape[0]\n",
    "        \n",
    "        # open the url with our Class \n",
    "        s = SinglePost(url)\n",
    "        s.run()\n",
    "                \n",
    "# here we initialize the script\n",
    "main()"
   ]
  },
  {
   "cell_type": "code",
   "execution_count": null,
   "metadata": {
    "collapsed": true
   },
   "outputs": [],
   "source": []
  },
  {
   "cell_type": "code",
   "execution_count": null,
   "metadata": {
    "collapsed": true
   },
   "outputs": [],
   "source": []
  }
 ],
 "metadata": {
  "kernelspec": {
   "display_name": "Python 3",
   "language": "python",
   "name": "python3"
  },
  "language_info": {
   "codemirror_mode": {
    "name": "ipython",
    "version": 3
   },
   "file_extension": ".py",
   "mimetype": "text/x-python",
   "name": "python",
   "nbconvert_exporter": "python",
   "pygments_lexer": "ipython3",
   "version": "3.6.2"
  }
 },
 "nbformat": 4,
 "nbformat_minor": 2
}
