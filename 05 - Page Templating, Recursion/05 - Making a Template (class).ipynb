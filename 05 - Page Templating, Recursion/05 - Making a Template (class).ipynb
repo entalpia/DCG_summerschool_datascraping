{
 "cells": [
  {
   "cell_type": "code",
   "execution_count": 1,
   "metadata": {},
   "outputs": [
    {
     "name": "stdout",
     "output_type": "stream",
     "text": [
      "<Element html at 0x110b3f2c8>\n",
      "[['Bilocale via Giuseppe Garibaldi 20, Loano'], ['€ 279.000'], ['2\\xa0'], ['1\\xa0'], ['53']]\n"
     ]
    }
   ],
   "source": [
    "import requests\n",
    "from lxml import html\n",
    "import time\n",
    "\n",
    "\n",
    "start_url = \"https://www.immobiliare.it/66942457-Vendita-Bilocale-via-Giuseppe-Garibaldi-20-Loano.html\"\n",
    "urls_to_scrape = [start_url]\n",
    "urls_scraped = []\n",
    "urls_posts = []\n",
    "\n",
    "# in this list are stored all the paths needed to parse on the homepage\n",
    "\n",
    "post_paths = []\n",
    "\n",
    "title = '//*[@id=\"sticky-contact-bottom\"]/div[1]/h1/text()'\n",
    "price = '//*[@id=\"sticky-contact-bottom\"]/div[1]/div[1]/div[1]/ul[1]/li[1]/span/text()'\n",
    "rooms = '//*[@id=\"sticky-contact-bottom\"]/div[1]/div[1]/div[1]/ul[2]/li[1]/div[1]/span/text()'\n",
    "bathrooms = '//*[@id=\"sticky-contact-bottom\"]/div[1]/div[1]/div[1]/ul[2]/li[2]/div[1]/span/text()'\n",
    "area = '//*[@id=\"sticky-contact-bottom\"]/div[1]/div[1]/div[1]/ul[2]/li[3]/div[1]/span/text()'\n",
    "\n",
    "post_Xpath = [title,price,rooms,bathrooms,area]\n",
    "\n",
    "sleep_time = 2 # seconds\n",
    "\n",
    "def main():\n",
    "    \n",
    "    # if the list of links to scrape is not empty\n",
    "    if urls_to_scrape:\n",
    "        \n",
    "        # take the fist element of the list  \n",
    "        url = urls_to_scrape[0]\n",
    "        # open the url\n",
    "        r = requests.get(url)\n",
    "        # transform the pure text in HTML \n",
    "        tree = html.fromstring(r.text)\n",
    "        print(tree)\n",
    "        # for all the path in paths \n",
    "        post = []\n",
    "        for path in post_Xpath:\n",
    "\n",
    "            info = tree.xpath(path)\n",
    "            post.append(info)\n",
    "\n",
    "        print(post)\n",
    "                \n",
    "# here we initialize the script\n",
    "main()"
   ]
  },
  {
   "cell_type": "code",
   "execution_count": 9,
   "metadata": {},
   "outputs": [
    {
     "name": "stdout",
     "output_type": "stream",
     "text": [
      "{'title': 'Bilocale via Giuseppe Garibaldi 20, Loano', 'price': '279000', 'rooms': '2', 'bathrooms': '1', 'area': '53'}\n"
     ]
    }
   ],
   "source": [
    "paths = { \n",
    "            'title':'//*[@id=\"sticky-contact-bottom\"]/div[1]/h1/text()',\n",
    "            'price':'//*[@id=\"sticky-contact-bottom\"]/div[1]/div[1]/div[1]/ul[1]/li[1]/span/text()',\n",
    "            'rooms':'//*[@id=\"sticky-contact-bottom\"]/div[1]/div[1]/div[1]/ul[2]/li[1]/div[1]/span/text()',\n",
    "            'bathrooms':'//*[@id=\"sticky-contact-bottom\"]/div[1]/div[1]/div[1]/ul[2]/li[2]/div[1]/span/text()',\n",
    "            'area':'//*[@id=\"sticky-contact-bottom\"]/div[1]/div[1]/div[1]/ul[2]/li[3]/div[1]/span/text()'\n",
    "        }\n",
    "\n",
    "def main():\n",
    "    # if the list of links to scrape is not empty\n",
    "    if urls_to_scrape:\n",
    "        \n",
    "        # take the fist element of the list  \n",
    "        url = urls_to_scrape[0]\n",
    "        # open the url\n",
    "        r = requests.get(url)\n",
    "        # transform the pure text in HTML \n",
    "        tree = html.fromstring(r.text)\n",
    "        # for all the path in paths \n",
    "        post = []\n",
    "        d = {}\n",
    "        for key, value in paths.items():\n",
    "            d.update({ key : tree.xpath(value)[0].replace('€','').replace('\\xa0','').replace('.','').strip() })\n",
    "            \n",
    "        print(d)\n",
    "\n",
    "main()       "
   ]
  },
  {
   "cell_type": "markdown",
   "metadata": {
    "collapsed": true
   },
   "source": [
    "# Create a Class that will handle this entire process for you"
   ]
  },
  {
   "cell_type": "code",
   "execution_count": 19,
   "metadata": {
    "collapsed": true
   },
   "outputs": [],
   "source": [
    "# our first definition of SinglePost class\n",
    "class SinglePost():\n",
    "    def __init__(self,url):\n",
    "        self.url = url\n",
    "        self.paths = { \n",
    "                      'title':'//*[@id=\"sticky-contact-bottom\"]/div[1]/h1/text()',\n",
    "                      'price':'//*[@id=\"sticky-contact-bottom\"]/div[1]/div[1]/div[1]/ul[1]/li[1]/span/text()',\n",
    "                      'rooms':'//*[@id=\"sticky-contact-bottom\"]/div[1]/div[1]/div[1]/ul[2]/li[1]/div[1]/span/text()',\n",
    "                      'bathrooms':'//*[@id=\"sticky-contact-bottom\"]/div[1]/div[1]/div[1]/ul[2]/li[2]/div[1]/span/text()',\n",
    "                      'area':'//*[@id=\"sticky-contact-bottom\"]/div[1]/div[1]/div[1]/ul[2]/li[3]/div[1]/span/text()'\n",
    "                     }\n",
    "        \n",
    "        # here we have some vars waiting to be assigned\n",
    "        self.r = None\n",
    "        self.tree = None\n",
    "        self.data = {}\n",
    "    \n",
    "    # a function that is just waiting to be \n",
    "    def openUrl(self):\n",
    "        self.r = requests.get(self.url)\n",
    "        self.tree = html.fromstring(self.r.text)\n",
    "    \n",
    "    # check if the data if ok avoiding errors\n",
    "    def controlData(self,data):\n",
    "        f = None\n",
    "        if data:\n",
    "            f = data[0].replace('€','').replace('\\xa0','').replace('.','')\n",
    "        else:\n",
    "            f = ''\n",
    "        return f\n",
    "    \n",
    "    # extract the data from the xpath\n",
    "    def getData(self):\n",
    "        for key, value in self.paths.items():\n",
    "            d = { key : self.controlData(self.tree.xpath(value)) }\n",
    "            self.data.update(d)\n",
    "    \n",
    "    # just show our data \n",
    "    def show(self):\n",
    "        print(self.data)\n",
    "    \n",
    "    # all things together\n",
    "    def run(self):\n",
    "        self.openUrl()\n",
    "        self.getData()\n",
    "        self.show()\n",
    "            "
   ]
  },
  {
   "cell_type": "code",
   "execution_count": 20,
   "metadata": {},
   "outputs": [
    {
     "name": "stdout",
     "output_type": "stream",
     "text": [
      "{'title': 'Bilocale via Giuseppe Garibaldi 20, Loano', 'price': ' 279000', 'rooms': '2', 'bathrooms': '1', 'area': '53'}\n"
     ]
    }
   ],
   "source": [
    "import requests\n",
    "from lxml import html\n",
    "import time\n",
    "\n",
    "\n",
    "start_url = \"https://www.immobiliare.it/66942457-Vendita-Bilocale-via-Giuseppe-Garibaldi-20-Loano.html\"\n",
    "urls_to_scrape = [start_url]\n",
    "urls_scraped = []\n",
    "urls_posts = []\n",
    "\n",
    "# in this list are stored all the paths needed to parse on the homepage\n",
    "sleep_time = 2 # seconds\n",
    "\n",
    "def main():\n",
    "    \n",
    "    # if the list of links to scrape is not empty\n",
    "    if urls_to_scrape:\n",
    "        \n",
    "        # take the fist element of the list  \n",
    "        url = urls_to_scrape[0]\n",
    "        \n",
    "        # open the url with our Class \n",
    "        s = SinglePost(url)\n",
    "        s.run()\n",
    "                \n",
    "# here we initialize the script\n",
    "main()"
   ]
  },
  {
   "cell_type": "code",
   "execution_count": 39,
   "metadata": {},
   "outputs": [
    {
     "name": "stdout",
     "output_type": "stream",
     "text": [
      "2018-07-02 15:26:09,351 INFO sqlalchemy.engine.base.Engine SELECT CAST('test plain returns' AS VARCHAR(60)) AS anon_1\n",
      "2018-07-02 15:26:09,353 INFO sqlalchemy.engine.base.Engine ()\n",
      "2018-07-02 15:26:09,355 INFO sqlalchemy.engine.base.Engine SELECT CAST('test unicode returns' AS VARCHAR(60)) AS anon_1\n",
      "2018-07-02 15:26:09,356 INFO sqlalchemy.engine.base.Engine ()\n",
      "2018-07-02 15:26:09,359 INFO sqlalchemy.engine.base.Engine PRAGMA table_info(\"mytable\")\n",
      "2018-07-02 15:26:09,360 INFO sqlalchemy.engine.base.Engine ()\n",
      "2018-07-02 15:26:09,363 INFO sqlalchemy.engine.base.Engine \n",
      "CREATE TABLE mytable (\n",
      "\tid INTEGER NOT NULL, \n",
      "\taddress TEXT, \n",
      "\tprice TEXT, \n",
      "\trooms TEXT, \n",
      "\tbathrooms TEXT, \n",
      "\tarea TEXT, \n",
      "\turl TEXT, \n",
      "\tPRIMARY KEY (id)\n",
      ")\n",
      "\n",
      "\n",
      "2018-07-02 15:26:09,365 INFO sqlalchemy.engine.base.Engine ()\n",
      "2018-07-02 15:26:09,369 INFO sqlalchemy.engine.base.Engine COMMIT\n"
     ]
    }
   ],
   "source": [
    "# import a bounch of stuff that allow us to play with sqlalchemy as ORM\n",
    "from sqlalchemy import create_engine\n",
    "from sqlalchemy import Column, DateTime, String, Text, Integer, ForeignKey, func, Boolean, update, or_, desc # some datatype and filters\n",
    "from sqlalchemy.orm import relationship, backref, sessionmaker,session # session plus a little more\n",
    "from sqlalchemy.ext.declarative import declarative_base\n",
    "\n",
    "# we inicialize the declarative mode \n",
    "Base = declarative_base()\n",
    "\n",
    "# we create a class that will map the columns in the db\n",
    "class MyTable(Base):\n",
    "    # table name\n",
    "    __tablename__ = 'mytable'\n",
    "    # all columns \n",
    "    id = Column('id',Integer, primary_key=True, autoincrement=True )\n",
    "    address = Column('address',Text )\n",
    "    price = Column('price',Text)\n",
    "    rooms = Column('rooms',Text)\n",
    "    bathrooms = Column('bathrooms',Text)\n",
    "    area = Column('area',Text)\n",
    "    url = Column('url',Text) # Text, can be also Integer, Boolean \n",
    "\n",
    "# were we gonna store the SQLite DB\n",
    "db = create_engine(\"sqlite:///database.sqlite\")\n",
    "# it will plot the log of the dialog of the db\n",
    "db.echo = True  # Try changing this to True \n",
    "\n",
    "# here we create the table if not present\n",
    "session = sessionmaker()\n",
    "session.configure(bind=db)\n",
    "Base.metadata.create_all(db)"
   ]
  },
  {
   "cell_type": "code",
   "execution_count": 48,
   "metadata": {
    "collapsed": true
   },
   "outputs": [],
   "source": [
    "class SinglePost():\n",
    "    def __init__(self,url):\n",
    "        self.url = url\n",
    "        self.paths = { \n",
    "                      'title':'//*[@id=\"sticky-contact-bottom\"]/div[1]/h1/text()',\n",
    "                      'price':'//*[@id=\"sticky-contact-bottom\"]/div[1]/div[1]/div[1]/ul[1]/li[1]/span/text()',\n",
    "                      'rooms':'//*[@id=\"sticky-contact-bottom\"]/div[1]/div[1]/div[1]/ul[2]/li[1]/div[1]/span/text()',\n",
    "                      'bathrooms':'//*[@id=\"sticky-contact-bottom\"]/div[1]/div[1]/div[1]/ul[2]/li[2]/div[1]/span/text()',\n",
    "                      'area':'//*[@id=\"sticky-contact-bottom\"]/div[1]/div[1]/div[1]/ul[2]/li[3]/div[1]/span/text()'\n",
    "                     }\n",
    "        \n",
    "        # here we have some vars waiting to be assigned\n",
    "        self.r = None\n",
    "        self.tree = None\n",
    "        self.data = {}\n",
    "\n",
    "    # a function that is just waiting to be \n",
    "    def openUrl(self):\n",
    "        self.r = requests.get(self.url)\n",
    "        self.tree = html.fromstring(self.r.text)  \n",
    "    \n",
    "    # check if the data if ok avoiding errors\n",
    "    def controlData(self,data):\n",
    "        f = None\n",
    "        if data:\n",
    "            f = data[0].replace('€','').replace('\\xa0','').replace('.','')\n",
    "        else:\n",
    "            f = ''\n",
    "        return f\n",
    "    \n",
    "    # extract the data from the xpath\n",
    "    def getData(self):\n",
    "        for key, value in self.paths.items():\n",
    "            d = { key : self.controlData(self.tree.xpath(value)) }\n",
    "            self.data.update(d)\n",
    "            \n",
    "    # just show our data \n",
    "    def show(self):\n",
    "        print(self.data)\n",
    "      \n",
    "    def pushtoDB(self):\n",
    "        s = session()\n",
    "        post = MyTable( address = self.data['title'],\n",
    "                      price = self.data['price'],\n",
    "                      rooms = self.data['rooms'],\n",
    "                      bathrooms = self.data['bathrooms'],\n",
    "                      area = self.data['area'],\n",
    "                      url = self.url )\n",
    "        s.add(post)\n",
    "        s.commit()\n",
    "        \n",
    "         \n",
    "    def run(self):\n",
    "        self.openUrl()\n",
    "        self.getData()\n",
    "        self.pushtoDB()\n",
    "        self.show()"
   ]
  },
  {
   "cell_type": "code",
   "execution_count": 49,
   "metadata": {},
   "outputs": [
    {
     "name": "stdout",
     "output_type": "stream",
     "text": [
      "2018-07-02 15:27:49,782 INFO sqlalchemy.engine.base.Engine BEGIN (implicit)\n",
      "2018-07-02 15:27:49,785 INFO sqlalchemy.engine.base.Engine INSERT INTO mytable (address, price, rooms, bathrooms, area, url) VALUES (?, ?, ?, ?, ?, ?)\n",
      "2018-07-02 15:27:49,787 INFO sqlalchemy.engine.base.Engine ('Bilocale via Giuseppe Garibaldi 20, Loano', ' 279000', '2', '1', '53', 'https://www.immobiliare.it/66942457-Vendita-Bilocale-via-Giuseppe-Garibaldi-20-Loano.html')\n",
      "2018-07-02 15:27:49,790 INFO sqlalchemy.engine.base.Engine COMMIT\n",
      "{'title': 'Bilocale via Giuseppe Garibaldi 20, Loano', 'price': ' 279000', 'rooms': '2', 'bathrooms': '1', 'area': '53'}\n"
     ]
    }
   ],
   "source": [
    "url = \"https://www.immobiliare.it/66942457-Vendita-Bilocale-via-Giuseppe-Garibaldi-20-Loano.html\"\n",
    "single = SinglePost(url)\n",
    "single.run()\n"
   ]
  },
  {
   "cell_type": "code",
   "execution_count": null,
   "metadata": {
    "collapsed": true
   },
   "outputs": [],
   "source": []
  }
 ],
 "metadata": {
  "kernelspec": {
   "display_name": "Python 3",
   "language": "python",
   "name": "python3"
  },
  "language_info": {
   "codemirror_mode": {
    "name": "ipython",
    "version": 3
   },
   "file_extension": ".py",
   "mimetype": "text/x-python",
   "name": "python",
   "nbconvert_exporter": "python",
   "pygments_lexer": "ipython3",
   "version": "3.6.2"
  }
 },
 "nbformat": 4,
 "nbformat_minor": 2
}
