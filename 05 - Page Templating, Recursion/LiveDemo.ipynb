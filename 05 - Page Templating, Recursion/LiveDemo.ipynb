{
 "cells": [
  {
   "cell_type": "code",
   "execution_count": 2,
   "metadata": {
    "collapsed": true
   },
   "outputs": [],
   "source": [
    "import requests\n",
    "\n",
    "demo_url = 'https://www.portugalio.com/restaurantes/porto/'\n",
    "\n",
    "r = requests.get(demo_url)"
   ]
  },
  {
   "cell_type": "code",
   "execution_count": 5,
   "metadata": {},
   "outputs": [
    {
     "data": {
      "text/plain": [
       "200"
      ]
     },
     "execution_count": 5,
     "metadata": {},
     "output_type": "execute_result"
    }
   ],
   "source": [
    "r.status_code"
   ]
  },
  {
   "cell_type": "code",
   "execution_count": null,
   "metadata": {
    "collapsed": true
   },
   "outputs": [],
   "source": [
    "# //*[@id=\"list-container\"]/div[1]/div[1]/div/div[1]/div[2]/p[1]/a\n",
    "# //*[@id=\"list-container\"]/div[1]/div[17]/div/div[1]/div[2]/p[1]/a"
   ]
  },
  {
   "cell_type": "code",
   "execution_count": 13,
   "metadata": {},
   "outputs": [],
   "source": [
    "xpaths = []\n",
    "for n in range(1,18):\n",
    "    first = '//*[@id=\"list-container\"]/div[1]/div['\n",
    "    sncd = ']/div/div[1]/div[2]/p[1]/a/@href'\n",
    "    path = first+str(n)+sncd \n",
    "    xpaths.append(path)\n"
   ]
  },
  {
   "cell_type": "code",
   "execution_count": 14,
   "metadata": {},
   "outputs": [
    {
     "name": "stdout",
     "output_type": "stream",
     "text": [
      "['//*[@id=\"list-container\"]/div[1]/div[1]/div/div[1]/div[2]/p[1]/a/@href', '//*[@id=\"list-container\"]/div[1]/div[2]/div/div[1]/div[2]/p[1]/a/@href', '//*[@id=\"list-container\"]/div[1]/div[3]/div/div[1]/div[2]/p[1]/a/@href', '//*[@id=\"list-container\"]/div[1]/div[4]/div/div[1]/div[2]/p[1]/a/@href', '//*[@id=\"list-container\"]/div[1]/div[5]/div/div[1]/div[2]/p[1]/a/@href', '//*[@id=\"list-container\"]/div[1]/div[6]/div/div[1]/div[2]/p[1]/a/@href', '//*[@id=\"list-container\"]/div[1]/div[7]/div/div[1]/div[2]/p[1]/a/@href', '//*[@id=\"list-container\"]/div[1]/div[8]/div/div[1]/div[2]/p[1]/a/@href', '//*[@id=\"list-container\"]/div[1]/div[9]/div/div[1]/div[2]/p[1]/a/@href', '//*[@id=\"list-container\"]/div[1]/div[10]/div/div[1]/div[2]/p[1]/a/@href', '//*[@id=\"list-container\"]/div[1]/div[11]/div/div[1]/div[2]/p[1]/a/@href', '//*[@id=\"list-container\"]/div[1]/div[12]/div/div[1]/div[2]/p[1]/a/@href', '//*[@id=\"list-container\"]/div[1]/div[13]/div/div[1]/div[2]/p[1]/a/@href', '//*[@id=\"list-container\"]/div[1]/div[14]/div/div[1]/div[2]/p[1]/a/@href', '//*[@id=\"list-container\"]/div[1]/div[15]/div/div[1]/div[2]/p[1]/a/@href', '//*[@id=\"list-container\"]/div[1]/div[16]/div/div[1]/div[2]/p[1]/a/@href', '//*[@id=\"list-container\"]/div[1]/div[17]/div/div[1]/div[2]/p[1]/a/@href']\n"
     ]
    }
   ],
   "source": [
    "print(xpaths)"
   ]
  },
  {
   "cell_type": "code",
   "execution_count": 15,
   "metadata": {
    "collapsed": true
   },
   "outputs": [],
   "source": [
    "from lxml import html"
   ]
  },
  {
   "cell_type": "code",
   "execution_count": 16,
   "metadata": {
    "collapsed": true
   },
   "outputs": [],
   "source": [
    "tree = html.fromstring(r.text)"
   ]
  },
  {
   "cell_type": "code",
   "execution_count": 30,
   "metadata": {},
   "outputs": [
    {
     "name": "stdout",
     "output_type": "stream",
     "text": [
      "['http://www.portugalio.com/restaurante-capa-negra/', 'http://www.portugalio.com/restaurante-essencia/', 'http://www.portugalio.com/singular-prestigio/', 'http://www.portugalio.com/restaurante-terra-dos-grovios/', 'http://www.portugalio.com/restaurante-portucale/', 'http://www.portugalio.com/restaurante-pimms/', 'http://www.portugalio.com/fuji-restaurante-japones/', 'http://www.portugalio.com/clerigos-vinhos-petiscos/', 'http://www.portugalio.com/galeria-de-paris-restaurante-bar/', 'http://www.portugalio.com/restaurante-artemisia/', 'http://www.portugalio.com/restaurante-pedro-lemos/', 'http://www.portugalio.com/restaurante-elebe-baixa/', 'http://www.portugalio.com/restaurante-de-serralves/', 'http://www.portugalio.com/restaurante-elebe-centro/', 'http://www.portugalio.com/zest-restaurant/']\n"
     ]
    }
   ],
   "source": [
    "posts_url = []\n",
    "mydomain = 'http://www.portugalio.com'\n",
    "for p in xpaths:\n",
    "    #print(p)\n",
    "    result = tree.xpath(p)\n",
    "    #if result != []:\n",
    "    if result:\n",
    "        posts_url.append(mydomain+result[0])\n",
    "\n",
    "print(posts_url)"
   ]
  },
  {
   "cell_type": "code",
   "execution_count": null,
   "metadata": {
    "collapsed": true
   },
   "outputs": [],
   "source": []
  }
 ],
 "metadata": {
  "kernelspec": {
   "display_name": "Python 3",
   "language": "python",
   "name": "python3"
  },
  "language_info": {
   "codemirror_mode": {
    "name": "ipython",
    "version": 3
   },
   "file_extension": ".py",
   "mimetype": "text/x-python",
   "name": "python",
   "nbconvert_exporter": "python",
   "pygments_lexer": "ipython3",
   "version": "3.6.2"
  }
 },
 "nbformat": 4,
 "nbformat_minor": 2
}
