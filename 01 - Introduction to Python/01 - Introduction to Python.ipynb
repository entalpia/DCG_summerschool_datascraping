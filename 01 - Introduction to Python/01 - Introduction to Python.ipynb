{
 "cells": [
  {
   "cell_type": "markdown",
   "metadata": {},
   "source": [
    "# Introduction to Jupyter \n",
    "\n",
    "Jupyther it's a Web Application that allow the user to create \"notebooks of code\" where the code can be executed and edited from the user, and the jupyther file can be shared with other user easily like any other files.\n",
    "\n",
    "The interface permit also to add block of text in between the code blocks making easier understand of the code itself.\n",
    "\n",
    "Down here an example of code. To execute the block, select it and pres **SHIFT + ENTER** or the the **Play button** in the toolbar "
   ]
  },
  {
   "cell_type": "code",
   "execution_count": 1,
   "metadata": {},
   "outputs": [
    {
     "name": "stdout",
     "output_type": "stream",
     "text": [
      "Hello World\n"
     ]
    }
   ],
   "source": [
    "# print out \"Hello World\" on the terminal\n",
    "print(\"Hello World\")"
   ]
  },
  {
   "cell_type": "markdown",
   "metadata": {},
   "source": [
    "# 1. A FFW (Fast Forward) on Python\n",
    "\n",
    "Here we introduce basic elements of Python code that will allow you to play with the exercitation code blocks :)\n",
    "\n",
    "- 1.1 Variables\n",
    "- 1.2 Number,Stings and Booleans\n",
    "- 1.3 Tuples,Lists\n",
    "- 1.4 Dictionaries\n",
    "- 1.5 Contidional (If, Else, Elif, While) \n",
    "- 1.6 Loops\n",
    "- 1.7 Functions\n",
    "- 1.8 Class\n",
    "- 1.9 Import from external libraries\n",
    "\n",
    "\n",
    "## 1.1 Variables\n",
    "\n",
    "Variables are used in programming to store information,\n",
    "in Python is pretty easy to assing a value to a variables :"
   ]
  },
  {
   "cell_type": "code",
   "execution_count": 2,
   "metadata": {},
   "outputs": [
    {
     "name": "stdout",
     "output_type": "stream",
     "text": [
      "Homer\n",
      "39\n"
     ]
    }
   ],
   "source": [
    "name = 'Homer' # to define a string value is necessary to use '' or \"\" wrapping and isolating the string by the rest of the code\n",
    "age = 39 # 39 is an integer, if we want to assing a float (with decimal numbers) we can just write it like 39. \n",
    "\n",
    "print(name)\n",
    "print(age)"
   ]
  },
  {
   "cell_type": "markdown",
   "metadata": {},
   "source": [
    "In previews block of code we are assigning to a *__name of the variable (name)__* the *__value of the variable ('Homer')__* through an *__equal symbol (=)__*.\n",
    "\n",
    "If you want to change the contenute of a variable, just re-assign the variable to another content:"
   ]
  },
  {
   "cell_type": "code",
   "execution_count": 3,
   "metadata": {},
   "outputs": [
    {
     "name": "stdout",
     "output_type": "stream",
     "text": [
      "Pluto\n"
     ]
    }
   ],
   "source": [
    "name = 'Pluto'\n",
    "\n",
    "print(name)"
   ]
  },
  {
   "cell_type": "markdown",
   "metadata": {},
   "source": [
    "Python will accept as variables values: \n",
    "- Integers | 39 \n",
    "- Floats   | 39.0 , 39. , 0.1 \n",
    "- Strings  | \"Homer\" \n",
    "- Booleans | True / False, 0 / 1  \n",
    "- Lists    | ( \"mario\" , \"luigi\" , \"tod\" ) \n",
    "- Tuples   | [ \"mario\" , \"luigi\" , \"tod\" ] \n",
    "- Dictionaries  | { \"name\" : \"Mario\"; \"job\": \"Plumber\"; \"age\": \"older than Luigi\" } { \"key\": \"value\" }\n",
    "# 1.2 Numbers,Stings and Booleans"
   ]
  },
  {
   "cell_type": "code",
   "execution_count": 4,
   "metadata": {},
   "outputs": [
    {
     "name": "stdout",
     "output_type": "stream",
     "text": [
      "Homer 39 180.0 1\n"
     ]
    }
   ],
   "source": [
    "name = 'Homer'     # like before use '' or \"\" to isolate the string content\n",
    "age = 39           # this variable will store an Integer\n",
    "height = 180.0     # this one instead will store a Float \n",
    "employed = True    # here we are storing a boolean, True / False\n",
    "\n",
    "# booleans can be extracted by the 1, 0 values where the firts means True and the second False\n",
    "employed = 1     # in this case, Python store a int but in case we ask to give as a boolean result \n",
    "                   # it will give us a boolean answer\n",
    "\n",
    "# print function can also accept this way of operating\n",
    "print(name,age,height,employed)"
   ]
  },
  {
   "cell_type": "code",
   "execution_count": 5,
   "metadata": {},
   "outputs": [
    {
     "name": "stdout",
     "output_type": "stream",
     "text": [
      "Homer 39 180.0 1\n"
     ]
    }
   ],
   "source": [
    "# with string formatting \n",
    "data = (name,age,height,employed)\n",
    "print(\"%s %s %s %s\" %data)"
   ]
  },
  {
   "cell_type": "code",
   "execution_count": 6,
   "metadata": {},
   "outputs": [
    {
     "name": "stdout",
     "output_type": "stream",
     "text": [
      "HomerSimpson\n"
     ]
    }
   ],
   "source": [
    "# a really simple string editing\n",
    "name = 'Homer'+'Simpson'\n",
    "# where +' '+ is used to concatenate and empty space between the words\n",
    "print(name)"
   ]
  },
  {
   "cell_type": "code",
   "execution_count": 7,
   "metadata": {},
   "outputs": [
    {
     "name": "stdout",
     "output_type": "stream",
     "text": [
      "HemerSimpsen\n"
     ]
    }
   ],
   "source": [
    "# play with some string function\n",
    "## replace\n",
    "\n",
    "edited = name.replace('o','e')\n",
    "print (edited)\n"
   ]
  },
  {
   "cell_type": "code",
   "execution_count": 8,
   "metadata": {},
   "outputs": [
    {
     "name": "stdout",
     "output_type": "stream",
     "text": [
      "HmerSimpsn\n"
     ]
    }
   ],
   "source": [
    "# you can use replace to remove string\n",
    "edited = name.replace('o','')\n",
    "print (edited)"
   ]
  },
  {
   "cell_type": "code",
   "execution_count": 9,
   "metadata": {},
   "outputs": [
    {
     "name": "stdout",
     "output_type": "stream",
     "text": [
      "['lets', 'split', 'this', 'text']\n"
     ]
    }
   ],
   "source": [
    "## split\n",
    "text = 'lets_split_this_text'\n",
    "splitted = text.split('_')\n",
    "print(splitted)"
   ]
  },
  {
   "cell_type": "code",
   "execution_count": 10,
   "metadata": {},
   "outputs": [
    {
     "name": "stdout",
     "output_type": "stream",
     "text": [
      " lets strip this text       <-- this thext contains:  27 chars\n",
      "lets strip this text <-- this thext contains:  20 chars\n"
     ]
    }
   ],
   "source": [
    "## strip (really usefull)\n",
    "text = ' lets strip this text      '\n",
    "stripped = text.strip()\n",
    "print(text,\"<-- this thext contains: \",len(text),\"chars\")\n",
    "print(stripped,\"<-- this thext contains: \",len(stripped),\"chars\")"
   ]
  },
  {
   "cell_type": "markdown",
   "metadata": {},
   "source": [
    "# 1.3 TUPLE and LISTS\n",
    "\n",
    "tuples and list are collection values stored in one variable\n",
    "they are both very similar, with few differences\n",
    "\n",
    "here listed few examples:"
   ]
  },
  {
   "cell_type": "code",
   "execution_count": 11,
   "metadata": {},
   "outputs": [
    {
     "name": "stdout",
     "output_type": "stream",
     "text": [
      "('apple', 'banana', 'peach', 'raspberry')\n"
     ]
    }
   ],
   "source": [
    "# what is a tuple?\n",
    "\n",
    "t = ('apple','banana','peach','raspberry')\n",
    "\n",
    "print(t)"
   ]
  },
  {
   "cell_type": "code",
   "execution_count": 12,
   "metadata": {},
   "outputs": [
    {
     "name": "stdout",
     "output_type": "stream",
     "text": [
      "apple\n"
     ]
    }
   ],
   "source": [
    "t = ('apple',15,'peach',1)\n",
    "\n",
    "# where 0 is the means is the first alement of the list\n",
    "print(t[0])"
   ]
  },
  {
   "cell_type": "code",
   "execution_count": 13,
   "metadata": {},
   "outputs": [
    {
     "name": "stdout",
     "output_type": "stream",
     "text": [
      "['apple', 'banana', 'peach', 'raspberry', 'orange']\n"
     ]
    }
   ],
   "source": [
    "# what is a list?\n",
    "\n",
    "l = ['apple','banana','peach','raspberry']\n",
    "\n",
    "# it seems identical to tuples but has something more\n",
    "# append\n",
    "l.append('orange')\n",
    "\n",
    "print(l)"
   ]
  },
  {
   "cell_type": "code",
   "execution_count": 14,
   "metadata": {},
   "outputs": [
    {
     "name": "stdout",
     "output_type": "stream",
     "text": [
      "['apple', 'banana', 'peach', 'raspberry']\n"
     ]
    }
   ],
   "source": [
    "# pop\n",
    "l.pop()\n",
    "print(l)"
   ]
  },
  {
   "cell_type": "code",
   "execution_count": 15,
   "metadata": {},
   "outputs": [
    {
     "name": "stdout",
     "output_type": "stream",
     "text": [
      "apple\n"
     ]
    }
   ],
   "source": [
    "# print indexed item\n",
    "# index start by 0 and -1 is the last one\n",
    "\n",
    "print(l[0])\n",
    "\n",
    "#print(l[0])\n",
    "#print(l[-1])"
   ]
  },
  {
   "cell_type": "code",
   "execution_count": 16,
   "metadata": {},
   "outputs": [
    {
     "name": "stdout",
     "output_type": "stream",
     "text": [
      "['lemon', 'banana', 'peach', 'raspberry']\n"
     ]
    }
   ],
   "source": [
    "# update indexed item\n",
    "l[0] = 'lemon'\n",
    "print(l)"
   ]
  },
  {
   "cell_type": "code",
   "execution_count": 17,
   "metadata": {},
   "outputs": [
    {
     "name": "stdout",
     "output_type": "stream",
     "text": [
      "['http://www.google.com', 'http://www.wikipedia.com', 'http://www.nytimes.com']\n"
     ]
    }
   ],
   "source": [
    "# contestualized example\n",
    "urls = ['http://www.google.com',\"http://www.wikipedia.com\",\"http://www.nytimes.com\"]\n",
    "\n",
    "print(urls)"
   ]
  },
  {
   "cell_type": "markdown",
   "metadata": {},
   "source": [
    "# 1.4 Dictionaries\n",
    "\n",
    "a dictionary it's a powerful resource in Python\n",
    "It will allow us to create structurated data"
   ]
  },
  {
   "cell_type": "code",
   "execution_count": 18,
   "metadata": {},
   "outputs": [
    {
     "name": "stdout",
     "output_type": "stream",
     "text": [
      "{'name': 'Homer', 'surname': 'Simpson', 'age': 39, 'height': 180, 'employed': True}\n"
     ]
    }
   ],
   "source": [
    "# a dictionary is a datatype that is contained in bewteen these two {}\n",
    "# to make an empty dictionary\n",
    "\n",
    "mydictionary = {}\n",
    "\n",
    "# or \n",
    "user = { 'name':'Homer', \n",
    "         'surname':'Simpson', \n",
    "         'age':39, \n",
    "         'height':180, \n",
    "         'employed':True }\n",
    "\n",
    "print(user)\n"
   ]
  },
  {
   "cell_type": "code",
   "execution_count": 19,
   "metadata": {},
   "outputs": [
    {
     "name": "stdout",
     "output_type": "stream",
     "text": [
      "Homer\n",
      "True\n"
     ]
    }
   ],
   "source": [
    "# what the difference between lists and dictionaries?\n",
    "\n",
    "# in dictionary, you can select a value by is't own key, and not an index \n",
    "print(user[\"name\"])\n",
    "print(user[\"employed\"])"
   ]
  },
  {
   "cell_type": "code",
   "execution_count": 20,
   "metadata": {},
   "outputs": [
    {
     "name": "stdout",
     "output_type": "stream",
     "text": [
      "{'name': 'Homer', 'surname': 'Simpson', 'age': 39, 'height': 180, 'employed': True, 'hasglasses': False}\n"
     ]
    }
   ],
   "source": [
    "# add to the dictionary\n",
    "\n",
    "user[\"hasglasses\"] = False\n",
    "\n",
    "print(user)"
   ]
  },
  {
   "cell_type": "code",
   "execution_count": 21,
   "metadata": {},
   "outputs": [
    {
     "name": "stdout",
     "output_type": "stream",
     "text": [
      "{'name': 'Homer', 'surname': 'Simpson', 'age': 39, 'height': 180, 'employed': True}\n"
     ]
    }
   ],
   "source": [
    "# remove item\n",
    "\n",
    "del user[\"hasglasses\"]\n",
    "\n",
    "print(user)"
   ]
  },
  {
   "cell_type": "code",
   "execution_count": 22,
   "metadata": {},
   "outputs": [
    {
     "name": "stdout",
     "output_type": "stream",
     "text": [
      "{'name': 'Homer', 'surname': 'Simpson', 'age': 39, 'height': 180, 'employed': True, 'collections': ['Timestamps', 'Butterflies']}\n"
     ]
    }
   ],
   "source": [
    "# can store also arrays\n",
    "\n",
    "user[\"collections\"] = [\"Timestamps\",\"Butterflies\"]\n",
    "\n",
    "print(user)"
   ]
  },
  {
   "cell_type": "code",
   "execution_count": 23,
   "metadata": {},
   "outputs": [
    {
     "name": "stdout",
     "output_type": "stream",
     "text": [
      "[{'name': 'Homer', 'surname': 'Simpson', 'age': 39, 'height': 180, 'employed': True, 'collections': ['Timestamps', 'Butterflies']}, {'name': 'Homer', 'surname': 'Simpson', 'age': 39, 'height': 180, 'employed': True, 'collections': ['Timestamps', 'Butterflies']}, {'name': 'Homer', 'surname': 'Simpson', 'age': 39, 'height': 180, 'employed': True, 'collections': ['Timestamps', 'Butterflies']}]\n"
     ]
    }
   ],
   "source": [
    "\n",
    "# create a list of dictionary\n",
    "\n",
    "# create an empty list\n",
    "l = []\n",
    "\n",
    "l.append(user)\n",
    "l.append(user)\n",
    "l.append(user)\n",
    "print(l)"
   ]
  },
  {
   "cell_type": "markdown",
   "metadata": {},
   "source": [
    "# 1.5 CONDITIONAL\n",
    "\n"
   ]
  },
  {
   "cell_type": "code",
   "execution_count": 24,
   "metadata": {},
   "outputs": [
    {
     "name": "stdout",
     "output_type": "stream",
     "text": [
      "Simpson\n"
     ]
    }
   ],
   "source": [
    "# if something is egual,different,bigger,smaller,empty,true,false do something \n",
    "# if else do something else\n",
    "\n",
    "if user['name'] == 'Homer':\n",
    "    # run this is the statement is true\n",
    "    print(user['surname'])\n",
    "    "
   ]
  },
  {
   "cell_type": "code",
   "execution_count": 25,
   "metadata": {},
   "outputs": [
    {
     "name": "stdout",
     "output_type": "stream",
     "text": [
      "Still Homer\n"
     ]
    }
   ],
   "source": [
    "if user['name'] == 'Marge':\n",
    "    # run this is the statement is true  \n",
    "    print('We found Marge')\n",
    "else:\n",
    "    # run this is the statement is false\n",
    "    print('Still Homer')\n"
   ]
  },
  {
   "cell_type": "code",
   "execution_count": 26,
   "metadata": {},
   "outputs": [
    {
     "name": "stdout",
     "output_type": "stream",
     "text": [
      "Still Homer\n"
     ]
    }
   ],
   "source": [
    "if user['name'] == 'Marge':\n",
    "    # run this is the statement is true  \n",
    "    print('We found Marge')\n",
    "elif user['name'] == 'Bart':\n",
    "    # run this is the statement is true\n",
    "    print('We Found Bart')\n",
    "else:\n",
    "    # run this is the statement is false\n",
    "    print('Still Homer')"
   ]
  },
  {
   "cell_type": "code",
   "execution_count": 27,
   "metadata": {},
   "outputs": [
    {
     "name": "stdout",
     "output_type": "stream",
     "text": [
      "Homer is younger than 45 he is now 35 years old\n",
      "Homer is younger than 45 he is now 36 years old\n",
      "Homer is younger than 45 he is now 37 years old\n",
      "Homer is younger than 45 he is now 38 years old\n",
      "Homer is younger than 45 he is now 39 years old\n",
      "Homer is younger than 45 he is now 40 years old\n",
      "Homer is younger than 45 he is now 41 years old\n",
      "Homer is younger than 45 he is now 42 years old\n",
      "Homer is younger than 45 he is now 43 years old\n",
      "Homer is younger than 45 he is now 44 years old\n",
      "Now Homer is  45\n"
     ]
    }
   ],
   "source": [
    "# while condition is true repeat this code\n",
    "user[\"age\"] = 35\n",
    "limit = 45\n",
    "\n",
    "while user['age'] < limit:\n",
    "    print('Homer is younger than',limit,'he is now',user['age'], 'years old')\n",
    "    user['age'] = user['age'] + 1 # or  user['age'] += 1 means the same\n",
    "    \n",
    "print(\"Now Homer is \",limit )"
   ]
  },
  {
   "cell_type": "markdown",
   "metadata": {},
   "source": [
    "# 1.6 LOOPS\n"
   ]
  },
  {
   "cell_type": "code",
   "execution_count": 28,
   "metadata": {},
   "outputs": [
    {
     "name": "stdout",
     "output_type": "stream",
     "text": [
      "http://www.google.com\n",
      "http://www.wikipedia.com\n",
      "http://www.nytimes.com\n"
     ]
    }
   ],
   "source": [
    "# loops are usefool for passing trough all the of lists and dictionaries\n",
    "urls = [\"http://www.google.com\",\n",
    "        \"http://www.wikipedia.com\",\n",
    "        \"http://www.nytimes.com\"]\n",
    "\n",
    "for url in urls:\n",
    "    print(url)\n",
    "    "
   ]
  },
  {
   "cell_type": "code",
   "execution_count": 29,
   "metadata": {},
   "outputs": [
    {
     "name": "stdout",
     "output_type": "stream",
     "text": [
      "google\n",
      "wikipedia\n",
      "nytimes\n"
     ]
    }
   ],
   "source": [
    "# before we just print, but you can do mostly whatever what you want \n",
    "\n",
    "for url in urls:\n",
    "    edit = url.replace(\"http://www.\",'').replace('.com','')\n",
    "    print(edit)\n",
    "    \n"
   ]
  },
  {
   "cell_type": "markdown",
   "metadata": {},
   "source": [
    "# 1.7 Functions\n",
    "\n",
    "are bricks of a set operation that you can use whenever you want "
   ]
  },
  {
   "cell_type": "code",
   "execution_count": 30,
   "metadata": {},
   "outputs": [
    {
     "name": "stdout",
     "output_type": "stream",
     "text": [
      "20\n"
     ]
    }
   ],
   "source": [
    "def customsum(a,b):\n",
    "    \n",
    "    return a+b\n",
    "\n",
    "data = customsum(10,10)\n",
    "\n",
    "print(data)"
   ]
  },
  {
   "cell_type": "code",
   "execution_count": 31,
   "metadata": {},
   "outputs": [
    {
     "name": "stdout",
     "output_type": "stream",
     "text": [
      "25\n"
     ]
    }
   ],
   "source": [
    "a = customsum(10,15)\n",
    "print(a)"
   ]
  },
  {
   "cell_type": "markdown",
   "metadata": {},
   "source": [
    "# 1.10 Classes\n",
    "\n"
   ]
  },
  {
   "cell_type": "code",
   "execution_count": 33,
   "metadata": {},
   "outputs": [
    {
     "name": "stdout",
     "output_type": "stream",
     "text": [
      "<__main__.Character object at 0x10566ea20>\n"
     ]
    }
   ],
   "source": [
    "# this is the way how to set-up a class\n",
    "class Character():\n",
    "    # permit to set up the classes variables\n",
    "    def __init__(self):\n",
    "        self.name = None\n",
    "        self.surname = None\n",
    "        self.age = None\n",
    "        self.height = None\n",
    "    \n",
    "    # a function inside the class in named method\n",
    "    def hoursinlife(self):\n",
    "        hours = self.age * 365 * 24 \n",
    "        print(hours)\n",
    "        \n",
    "# to instance the class we need to create a copy into a variable, in this case the variable c         \n",
    "c = Character()\n",
    "\n",
    "# to add attributes \n",
    "c.name = \"Homer\"\n",
    "c.surname = \"Simpson\"\n",
    "c.age = 39 \n",
    "c.height = 180.0\n",
    "\n",
    "print(c)"
   ]
  },
  {
   "cell_type": "code",
   "execution_count": 34,
   "metadata": {},
   "outputs": [
    {
     "name": "stdout",
     "output_type": "stream",
     "text": [
      "Homer\n"
     ]
    }
   ],
   "source": [
    "print(c.name)"
   ]
  },
  {
   "cell_type": "code",
   "execution_count": 35,
   "metadata": {},
   "outputs": [
    {
     "name": "stdout",
     "output_type": "stream",
     "text": [
      "341640\n"
     ]
    }
   ],
   "source": [
    "# if we run the method instead\n",
    "c.hoursinlife()"
   ]
  },
  {
   "cell_type": "code",
   "execution_count": 36,
   "metadata": {},
   "outputs": [
    {
     "name": "stdout",
     "output_type": "stream",
     "text": [
      "we have the radius 10.0\n",
      "the area is:  314.1592653589793\n"
     ]
    }
   ],
   "source": [
    "import math\n",
    "\n",
    "class circle():\n",
    "    def __init__(self):\n",
    "        self.radius = None\n",
    "        self.diameter = None\n",
    "        self.area = None\n",
    "    \n",
    "    def calc_area(self):\n",
    "        if self.radius: #if exist, means is not none\n",
    "            print('we have the radius',self.radius )\n",
    "            self.area = math.pi * ( self.radius**2 ) \n",
    "        elif self.diameter: #if exist, means is not none\n",
    "            print('we have the diameter',self.diameter)\n",
    "            self.area = math.pi * ( (self.diameter/2))**2  \n",
    "        elif self.area: \n",
    "            pass \n",
    "        else:\n",
    "             print('not enought data')\n",
    "            \n",
    "    def show_area(self):\n",
    "        if self.area:\n",
    "            print('the area is: ',self.area)\n",
    "        else:\n",
    "            print('not enought data')\n",
    "            \n",
    "    def run(self):\n",
    "        self.calc_area()\n",
    "        self.show_area()\n",
    "            \n",
    "cerchio = circle()   \n",
    "cerchio.radius = 10.\n",
    "cerchio.run()"
   ]
  },
  {
   "cell_type": "code",
   "execution_count": 37,
   "metadata": {},
   "outputs": [
    {
     "name": "stdout",
     "output_type": "stream",
     "text": [
      "we have the diameter 20.0\n"
     ]
    }
   ],
   "source": [
    "cerchio = None\n",
    "cerchio = circle()  \n",
    "cerchio.diameter = 20.\n",
    "cerchio.calc_area()"
   ]
  },
  {
   "cell_type": "code",
   "execution_count": 38,
   "metadata": {},
   "outputs": [
    {
     "name": "stdout",
     "output_type": "stream",
     "text": [
      "we have the diameter 10\n",
      "the area is:  78.53981633974483\n",
      "we have the radius 20\n",
      "the area is:  1256.6370614359173\n",
      "the area is:  100\n"
     ]
    }
   ],
   "source": [
    "import math\n",
    "\n",
    "class circle():\n",
    "    def __init__(self,radius,diameter,area):\n",
    "        self.radius = radius\n",
    "        self.diameter = diameter\n",
    "        self.area = area\n",
    "    \n",
    "    def calc_area(self):\n",
    "        if self.radius: #if exist, means is not none\n",
    "            print('we have the radius',self.radius )\n",
    "            self.area = math.pi * ( self.radius**2 ) \n",
    "            self.diamtere = self.radius * 2\n",
    "        elif self.diameter: #if exist, means is not none\n",
    "            print('we have the diameter',self.diameter)\n",
    "            self.radius = self.diameter/2\n",
    "            self.area = math.pi * self.radius **2  \n",
    "        elif self.area: \n",
    "            self.diameter = self.radius * 2 \n",
    "            pass \n",
    "        else:\n",
    "             print('not enought data')\n",
    "            \n",
    "    def show_area(self):\n",
    "        if self.area:\n",
    "            print('the area is: ',self.area)\n",
    "        else:\n",
    "            print('not enought data')\n",
    "            \n",
    "    def run(self):\n",
    "        self.calc_area()\n",
    "        self.show_area()\n",
    "        \n",
    "        \n",
    "        \n",
    "data =  [[0,10,0],[20,0,0],[0,0,100]]\n",
    "\n",
    "for d in data:\n",
    "    c = circle(d[0],d[1],d[2])\n",
    "    c.run()"
   ]
  },
  {
   "cell_type": "code",
   "execution_count": null,
   "metadata": {
    "collapsed": true
   },
   "outputs": [],
   "source": []
  }
 ],
 "metadata": {
  "anaconda-cloud": {},
  "kernelspec": {
   "display_name": "Python 3",
   "language": "python",
   "name": "python3"
  },
  "language_info": {
   "codemirror_mode": {
    "name": "ipython",
    "version": 3
   },
   "file_extension": ".py",
   "mimetype": "text/x-python",
   "name": "python",
   "nbconvert_exporter": "python",
   "pygments_lexer": "ipython3",
   "version": "3.6.2"
  }
 },
 "nbformat": 4,
 "nbformat_minor": 1
}
