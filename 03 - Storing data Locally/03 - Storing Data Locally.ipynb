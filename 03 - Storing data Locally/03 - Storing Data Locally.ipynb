{
 "cells": [
  {
   "cell_type": "markdown",
   "metadata": {},
   "source": [
    "# Ok, but... we would love to store the Data we had plot on screen locally.\n",
    "\n",
    "before continues in adding complexity into our script we jump on storing the data locally.\n",
    "\n",
    "The most common procedure is to write a file. If possible a CSV (comma,separated,value)\n",
    "\n",
    "a first example:"
   ]
  },
  {
   "cell_type": "code",
   "execution_count": 2,
   "metadata": {
    "collapsed": true
   },
   "outputs": [],
   "source": [
    "# create the file\n",
    "file = open('firstexample.txt','w') \n",
    "\n",
    "# write this\n",
    "file.write('This is') \n",
    "# and this\n",
    "file.write('Our') \n",
    "# and this\n",
    "file.write('First Example') \n",
    "# and this\n",
    "file.write('On Writing a File') \n",
    "\n",
    "# close the file\n",
    "file.close() "
   ]
  },
  {
   "cell_type": "markdown",
   "metadata": {},
   "source": [
    "If you go now looking inside your exercitation folder you will find the file.\n",
    "the content of the file will be something like \"This isOurFirst ExampleOn Writing a File\"\n",
    "\n",
    "why?\n",
    "\n",
    "To add the line-brake you should had the '\\n' at the end of the string.\n",
    "\n",
    "File Modes, the ways you can access to a file: \n",
    "- ‘r’ – Read mode which, just read a file \n",
    "- ‘w’ – Write mode, write a file if does not exitst and overwrite if exist \n",
    "- ‘a’ – Appending mode, add stuff to the last line.\n",
    "- ‘r+’ – Special read and write mode, contains both read and write charactersitics.\n",
    "\n"
   ]
  },
  {
   "cell_type": "code",
   "execution_count": 1,
   "metadata": {
    "collapsed": true
   },
   "outputs": [],
   "source": [
    "# create the file\n",
    "file = open('secondexample.txt','w') \n",
    "\n",
    "# write this\n",
    "file.write('This is'+'\\n') \n",
    "# and this\n",
    "file.write('Our'+'\\n') \n",
    "# and this\n",
    "file.write('First Example'+'\\n') \n",
    "# and this\n",
    "file.write('On Writing a File'+'\\n') \n",
    "\n",
    "# close the file\n",
    "file.close() "
   ]
  },
  {
   "cell_type": "markdown",
   "metadata": {},
   "source": [
    "# Make a CSV by scratch\n",
    "\n",
    "Here we will try to setup a csv by scratch."
   ]
  },
  {
   "cell_type": "code",
   "execution_count": 4,
   "metadata": {},
   "outputs": [],
   "source": [
    "# an example of data, first list are the rows, inners list are the \n",
    "data = [[1,2,3,4],\n",
    "        [5,6,7,8],\n",
    "        [\"one\",\"two\",10,11],\n",
    "        [13,14,15,16]]\n",
    "\n",
    "# create the file\n",
    "file = open('thirdexample.csv','w') \n",
    "# making the header of the table\n",
    "file.write('column_1,'+'column_2,'+'column_3,'+'column_4'+'\\n')\n",
    "# write the content of the table\n",
    "for row in data:\n",
    "    # write in each row, the first, the second, the third and fourth item of the list. Before that, tranform from INTGERT TO STRING with STR()\n",
    "    file.write(str(row[0])+','+str(row[1])+','+str(row[2])+','+str(row[3])+'\\n')\n",
    "file.close()"
   ]
  },
  {
   "cell_type": "markdown",
   "metadata": {},
   "source": [
    "# Make a CSV using CSV library \n",
    "\n",
    "And now the same thing with CSV library"
   ]
  },
  {
   "cell_type": "code",
   "execution_count": 5,
   "metadata": {
    "collapsed": true
   },
   "outputs": [],
   "source": [
    "import csv\n",
    "\n",
    "# an example of data, first list are the rows, inners list are the \n",
    "data = [[1,2,3,4],\n",
    "        [5,6,7,8],\n",
    "        [\"one,two\",10,11,12],\n",
    "        [13,14,15,16]\n",
    "       ]\n",
    "\n",
    "# create the file\n",
    "file = open('fourthexample.csv','w')\n",
    "# setup the csv writer \n",
    "writer = csv.writer(file, \n",
    "                    delimiter=',', \n",
    "                    quotechar='\"',\n",
    "                    quoting=csv.QUOTE_ALL\n",
    "                   )\n",
    "# write the header\n",
    "header = ['col_1','col_2','col_3','col_4']\n",
    "\n",
    "writer.writerow(header)\n",
    "for row in data:\n",
    "    # write a row\n",
    "    writer.writerow(row)\n",
    "# close a file\n",
    "file.close()\n",
    " "
   ]
  },
  {
   "cell_type": "markdown",
   "metadata": {},
   "source": [
    "# Read a CSV \n",
    "\n",
    "read a CSV is easier that writing one"
   ]
  },
  {
   "cell_type": "code",
   "execution_count": 6,
   "metadata": {},
   "outputs": [
    {
     "name": "stdout",
     "output_type": "stream",
     "text": [
      "['col_1', 'col_2', 'col_3', 'col_4']\n",
      "['1', '2', '3', '4']\n",
      "['5', '6', '7', '8']\n",
      "['one,two', '10', '11', '12']\n",
      "['13', '14', '15', '16']\n"
     ]
    }
   ],
   "source": [
    "import csv\n",
    "\n",
    "file = open('fourthexample.csv','r')\n",
    "reader = csv.reader(file)\n",
    "for row in reader:\n",
    "    print(row)\n",
    "    \n",
    "file.close()"
   ]
  },
  {
   "cell_type": "markdown",
   "metadata": {},
   "source": [
    "# Print a table using a format in print( )\n",
    "\n",
    "to print on sceen some data in a table format using print()"
   ]
  },
  {
   "cell_type": "code",
   "execution_count": 7,
   "metadata": {},
   "outputs": [
    {
     "name": "stdout",
     "output_type": "stream",
     "text": [
      "col_1           col_2  col_3  col_4  \n",
      "1               2      3      4      \n",
      "5               6      7      8      \n",
      "one,two         10     11     12     \n",
      "13              14     15     16     \n"
     ]
    }
   ],
   "source": [
    "# open the file\n",
    "file = open('fourthexample.csv','r')\n",
    "# start te csv reader\n",
    "reader = csv.reader(file)\n",
    "# create a table format\n",
    "f = '{0:<15} {1:<6} {2:<6} {3:<6} '\n",
    "# open each row\n",
    "for row in reader:\n",
    "    # print following the format\n",
    "    print(f.format(row[0],row[1],row[2],row[3]))\n",
    "\n",
    "# close the file\n",
    "file.close()"
   ]
  },
  {
   "cell_type": "code",
   "execution_count": null,
   "metadata": {
    "collapsed": true
   },
   "outputs": [],
   "source": []
  }
 ],
 "metadata": {
  "kernelspec": {
   "display_name": "Python 3",
   "language": "python",
   "name": "python3"
  },
  "language_info": {
   "codemirror_mode": {
    "name": "ipython",
    "version": 3
   },
   "file_extension": ".py",
   "mimetype": "text/x-python",
   "name": "python",
   "nbconvert_exporter": "python",
   "pygments_lexer": "ipython3",
   "version": "3.6.2"
  }
 },
 "nbformat": 4,
 "nbformat_minor": 2
}
