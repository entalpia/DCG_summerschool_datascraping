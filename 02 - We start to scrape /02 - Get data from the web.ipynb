{
 "cells": [
  {
   "cell_type": "markdown",
   "metadata": {},
   "source": [
    "# How to make a request to open an URL in Python\n",
    "\n",
    "Here down i will explain in steps an approach (of many that are possible) to OPEN / COLLECT / FILTER / STORE data contained into a Webpage.\n",
    "\n",
    "In these exapmple we will use few external libraries:\n",
    "- Requests http://docs.python-requests.org/en/master/\n",
    "- LXML http://lxml.de/xpathxslt.html\n",
    "\n",
    "Here an exaple of a basic attempt to reach the google.com webpage:"
   ]
  },
  {
   "cell_type": "code",
   "execution_count": 5,
   "metadata": {},
   "outputs": [
    {
     "data": {
      "text/plain": [
       "200"
      ]
     },
     "execution_count": 5,
     "metadata": {},
     "output_type": "execute_result"
    }
   ],
   "source": [
    "\n",
    "# import a library that permit to do HTTP requests\n",
    "import requests\n",
    "\n",
    "# we will store in this variable a string with the url of the website to open\n",
    "url = 'http://www.google.com'\n",
    "\n",
    "# initialize the request and we store the result of the request in the r variable\n",
    "# get is one of the method of the class requests \n",
    "r = requests.get(url)\n",
    "# print the status code \n",
    "r.status_code\n"
   ]
  },
  {
   "cell_type": "markdown",
   "metadata": {},
   "source": [
    "In the example, we had as output a number 200,\n",
    "200 means the webpage was reached\n",
    "\n",
    "follow this link to get a complete list of response code for the HTTP protocol:\n",
    "- Status Codes https://en.wikipedia.org/wiki/List_of_HTTP_status_codes\n",
    "\n",
    "Down here, we will try to open a random page (in this case a page from Wikipedia) and extract its source code"
   ]
  },
  {
   "cell_type": "code",
   "execution_count": 2,
   "metadata": {},
   "outputs": [
    {
     "data": {
      "text/plain": [
       "'<!DOCTYPE html>\\n<html class=\"client-nojs\" lang=\"en\" dir=\"ltr\">\\n<head>\\n<meta charset=\"UTF-8\"/>\\n<title>Vice Squad - Wikipedia</title>\\n<script>document.documentElement.className = document.documentElement.className.replace( /(^|\\\\s)client-nojs(\\\\s|$)/, \"$1client-js$2\" );</script>\\n<script>(window.RLQ=window.RLQ||[]).push(function(){mw.config.set({\"wgCanonicalNamespace\":\"\",\"wgCanonicalSpecialPageName\":false,\"wgNamespaceNumber\":0,\"wgPageName\":\"Vice_Squad\",\"wgTitle\":\"Vice Squad\",\"wgCurRevisionId\":847735856,\"wgRevisionId\":847735856,\"wgArticleId\":1774263,\"wgIsArticle\":true,\"wgIsRedirect\":false,\"wgAction\":\"view\",\"wgUserName\":null,\"wgUserGroups\":[\"*\"],\"wgCategories\":[\"EngvarB from April 2013\",\"Use dmy dates from April 2013\",\"Articles with hCards\",\"Wikipedia articles with ISNI identifiers\",\"Wikipedia articles with MusicBrainz identifiers\",\"English punk rock groups\",\"Musical groups from Bristol\",\"Street punk groups\",\"Musical groups established in 1978\"],\"wgBreakFrames\":false,\"wgPageContentLanguage\":\"en\",\"wgPageContentModel\":\"wikitext\",\"wgSeparatorTransformTable\":[\"\",\"\"],\"wgDigitTransformTable\":[\"\",\"\"],\"wgDefaultDateFormat\":\"dmy\",\"wgMonthNames\":[\"\",\"January\",\"February\",\"March\",\"April\",\"May\",\"June\",\"July\",\"August\",\"September\",\"October\",\"November\",\"December\"],\"wgMonthNamesShort\":[\"\",\"Jan\",\"Feb\",\"Mar\",\"Apr\",\"May\",\"Jun\",\"Jul\",\"Aug\",\"Sep\",\"Oct\",\"Nov\",\"Dec\"],\"wgRelevantPageName\":\"Vice_Squad\",\"wgRelevantArticleId\":1774263,\"wgRequestId\":\"WzON0ApAIC8AAGl1vHsAAAAI\",\"wgIsProbablyEditable\":true,\"wgRelevantPageIsProbablyEditable\":true,\"wgRestrictionEdit\":[],\"wgRestrictionMove\":[],\"wgFlaggedRevsParams\":{\"tags\":{}},\"wgStableRevisionId\":null,\"wgCategoryTreePageCategoryOptions\":\"{\\\\\"mode\\\\\":0,\\\\\"hideprefix\\\\\":20,\\\\\"showcount\\\\\":true,\\\\\"namespaces\\\\\":false}\",\"wgWikiEditorEnabledModules\":[],\"wgBetaFeaturesFeatures\":[],\"wgMediaViewerOnClick\":true,\"wgMediaViewerEnabledByDefault\":true,\"wgPopupsShouldSendModuleToUser\":true,\"wgPopupsConflictsWithNavPopupGadget\":false,\"wgVisualEditor\":{\"pageLanguageCode\":\"en\",\"pageLanguageDir\":\"ltr\",\"pageVariantFallbacks\":\"en\",\"usePageImages\":true,\"usePageDescriptions\":true},\"wgPreferredVariant\":\"en\",\"wgMFExpandAllSectionsUserOption\":true,\"wgMFEnableFontChanger\":true,\"wgMFDisplayWikibaseDescriptions\":{\"search\":true,\"nearby\":true,\"watchlist\":true,\"tagline\":false},\"wgRelatedArticles\":null,\"wgRelatedArticlesUseCirrusSearch\":true,\"wgRelatedArticlesOnlyUseCirrusSearch\":false,\"wgULSCurrentAutonym\":\"English\",\"wgNoticeProject\":\"wikipedia\",\"wgCentralNoticeCookiesToDelete\":[],\"wgCentralNoticeCategoriesUsingLegacy\":[\"Fundraising\",\"fundraising\"],\"wgWikibaseItemId\":\"Q2001096\",\"wgScoreNoteLanguages\":{\"arabic\":\"العربية\",\"catalan\":\"català\",\"deutsch\":\"Deutsch\",\"english\":\"English\",\"espanol\":\"español\",\"italiano\":\"italiano\",\"nederlands\":\"Nederlands\",\"norsk\":\"norsk\",\"portugues\":\"português\",\"suomi\":\"suomi\",\"svenska\":\"svenska\",\"vlaams\":\"West-Vlams\"},\"wgScoreDefaultNoteLanguage\":\"nederlands\",\"wgCentralAuthMobileDomain\":false,\"wgCodeMirrorEnabled\":true,\"wgVisualEditorToolbarScrollOffset\":0,\"wgVisualEditorUnsupportedEditParams\":[\"undo\",\"undoafter\",\"veswitched\"],\"wgEditSubmitButtonLabelPublish\":true});mw.loader.state({\"ext.gadget.charinsert-styles\":\"ready\",\"ext.globalCssJs.user.styles\":\"ready\",\"ext.globalCssJs.site.styles\":\"ready\",\"site.styles\":\"ready\",\"noscript\":\"ready\",\"user.styles\":\"ready\",\"ext.globalCssJs.user\":\"ready\",\"ext.globalCssJs.site\":\"ready\",\"user\":\"ready\",\"user.options\":\"ready\",\"user.tokens\":\"loading\",\"ext.cite.styles\":\"ready\",\"mediawiki.legacy.shared\":\"ready\",\"mediawiki.legacy.commonPrint\":\"ready\",\"wikibase.client.init\":\"ready\",\"ext.visualEditor.desktopArticleTarget.noscript\":\"ready\",\"ext.uls.interlanguage\":\"ready\",\"ext.wikimediaBadges\":\"ready\",\"mediawiki.skinning.interface\":\"ready\",\"skins.vector.styles\":\"ready\"});mw.loader.implement(\"user.tokens@1dqfd7l\",function($,jQuery,require,module){/*@nomin*/mw.user.tokens.set({\"editToken\":\"+\\\\\\\\\",\"patrolToken\":\"+\\\\\\\\\",\"watchToken\":\"+\\\\\\\\\",\"csrfToken\":\"+\\\\\\\\\"});\\n});mw.loader.load([\"ext.cite.a11y\",\"site\",\"mediawiki.page.startup\",\"mediawiki.user\",\"mediawiki.hidpi\",\"mediawiki.page.ready\",\"mediawiki.toc\",\"mediawiki.searchSuggest\",\"ext.gadget.teahouse\",\"ext.gadget.ReferenceTooltips\",\"ext.gadget.watchlist-notice\",\"ext.gadget.DRN-wizard\",\"ext.gadget.charinsert\",\"ext.gadget.refToolbar\",\"ext.gadget.extra-toolbar-buttons\",\"ext.gadget.switcher\",\"ext.centralauth.centralautologin\",\"mmv.head\",\"mmv.bootstrap.autostart\",\"ext.popups\",\"ext.visualEditor.desktopArticleTarget.init\",\"ext.visualEditor.targetLoader\",\"ext.eventLogging.subscriber\",\"ext.wikimediaEvents\",\"ext.navigationTiming\",\"ext.uls.eventlogger\",\"ext.uls.init\",\"ext.uls.compactlinks\",\"ext.uls.interface\",\"ext.3d\",\"ext.centralNotice.geoIP\",\"ext.centralNotice.startUp\",\"skins.vector.js\"]);});</script>\\n<link rel=\"stylesheet\" href=\"/w/load.php?debug=false&amp;lang=en&amp;modules=ext.cite.styles%7Cext.uls.interlanguage%7Cext.visualEditor.desktopArticleTarget.noscript%7Cext.wikimediaBadges%7Cmediawiki.legacy.commonPrint%2Cshared%7Cmediawiki.skinning.interface%7Cskins.vector.styles%7Cwikibase.client.init&amp;only=styles&amp;skin=vector\"/>\\n<script async=\"\" src=\"/w/load.php?debug=false&amp;lang=en&amp;modules=startup&amp;only=scripts&amp;skin=vector\"></script>\\n<meta name=\"ResourceLoaderDynamicStyles\" content=\"\"/>\\n<link rel=\"stylesheet\" href=\"/w/load.php?debug=false&amp;lang=en&amp;modules=ext.gadget.charinsert-styles&amp;only=styles&amp;skin=vector\"/>\\n<link rel=\"stylesheet\" href=\"/w/load.php?debug=false&amp;lang=en&amp;modules=site.styles&amp;only=styles&amp;skin=vector\"/>\\n<meta name=\"generator\" content=\"MediaWiki 1.32.0-wmf.8\"/>\\n<meta name=\"referrer\" content=\"origin\"/>\\n<meta name=\"referrer\" content=\"origin-when-crossorigin\"/>\\n<meta name=\"referrer\" content=\"origin-when-cross-origin\"/>\\n<meta property=\"og:image\" content=\"https://upload.wikimedia.org/wikipedia/commons/thumb/b/b3/Vice_Squad_-_20051002.jpg/1200px-Vice_Squad_-_20051002.jpg\"/>\\n<link rel=\"alternate\" href=\"android-app://org.wikipedia/http/en.m.wikipedia.org/wiki/Vice_Squad\"/>\\n<link rel=\"alternate\" type=\"application/x-wiki\" title=\"Edit this page\" href=\"/w/index.php?title=Vice_Squad&amp;action=edit\"/>\\n<link rel=\"edit\" title=\"Edit this page\" href=\"/w/index.php?title=Vice_Squad&amp;action=edit\"/>\\n<link rel=\"apple-touch-icon\" href=\"/static/apple-touch/wikipedia.png\"/>\\n<link rel=\"shortcut icon\" href=\"/static/favicon/wikipedia.ico\"/>\\n<link rel=\"search\" type=\"application/opensearchdescription+xml\" href=\"/w/opensearch_desc.php\" title=\"Wikipedia (en)\"/>\\n<link rel=\"EditURI\" type=\"application/rsd+xml\" href=\"//en.wikipedia.org/w/api.php?action=rsd\"/>\\n<link rel=\"license\" href=\"//creativecommons.org/licenses/by-sa/3.0/\"/>\\n<link rel=\"canonical\" href=\"https://en.wikipedia.org/wiki/Vice_Squad\"/>\\n<link rel=\"dns-prefetch\" href=\"//login.wikimedia.org\"/>\\n<link rel=\"dns-prefetch\" href=\"//meta.wikimedia.org\" />\\n<!--[if lt IE 9]><script src=\"/w/load.php?debug=false&amp;lang=en&amp;modules=html5shiv&amp;only=scripts&amp;skin=vector&amp;sync=1\"></script><![endif]-->\\n</head>\\n<body class=\"mediawiki ltr sitedir-ltr mw-hide-empty-elt ns-0 ns-subject page-Vice_Squad rootpage-Vice_Squad skin-vector action-view\">\\t\\t<div id=\"mw-page-base\" class=\"noprint\"></div>\\n\\t\\t<div id=\"mw-head-base\" class=\"noprint\"></div>\\n\\t\\t<div id=\"content\" class=\"mw-body\" role=\"main\">\\n\\t\\t\\t<a id=\"top\"></a>\\n\\t\\t\\t<div id=\"siteNotice\" class=\"mw-body-content\"><!-- CentralNotice --></div><div class=\"mw-indicators mw-body-content\">\\n</div>\\n<h1 id=\"firstHeading\" class=\"firstHeading\" lang=\"en\">Vice Squad</h1>\\t\\t\\t<div id=\"bodyContent\" class=\"mw-body-content\">\\n\\t\\t\\t\\t<div id=\"siteSub\" class=\"noprint\">From Wikipedia, the free encyclopedia</div>\\t\\t\\t\\t<div id=\"contentSub\"></div>\\n\\t\\t\\t\\t<div id=\"jump-to-nav\"></div>\\t\\t\\t\\t<a class=\"mw-jump-link\" href=\"#mw-head\">Jump to navigation</a>\\n\\t\\t\\t\\t<a class=\"mw-jump-link\" href=\"#p-search\">Jump to search</a>\\n\\t\\t\\t\\t<div id=\"mw-content-text\" lang=\"en\" dir=\"ltr\" class=\"mw-content-ltr\"><div class=\"mw-parser-output\"><div role=\"note\" class=\"hatnote navigation-not-searchable\">For other uses, see <a href=\"/wiki/Vice_squad_(disambiguation)\" class=\"mw-disambig\" title=\"Vice squad (disambiguation)\">Vice squad (disambiguation)</a>.</div>\\n<table class=\"infobox vcard plainlist\" style=\"width:22em\">\\n<tr>\\n<th colspan=\"2\" style=\"text-align:center;font-size:125%;font-weight:bold;background-color: #b0c4de\"><span class=\"fn org\">Vice Squad</span></th>\\n</tr>\\n<tr>\\n<td colspan=\"2\" style=\"text-align:center\"><a href=\"/wiki/File:Vice_Squad_-_20051002.jpg\" class=\"image\"><img alt=\"Vice Squad - 20051002.jpg\" src=\"//upload.wikimedia.org/wikipedia/commons/thumb/b/b3/Vice_Squad_-_20051002.jpg/220px-Vice_Squad_-_20051002.jpg\" width=\"220\" height=\"304\" srcset=\"//upload.wikimedia.org/wikipedia/commons/thumb/b/b3/Vice_Squad_-_20051002.jpg/330px-Vice_Squad_-_20051002.jpg 1.5x, //upload.wikimedia.org/wikipedia/commons/thumb/b/b3/Vice_Squad_-_20051002.jpg/440px-Vice_Squad_-_20051002.jpg 2x\" data-file-width=\"1557\" data-file-height=\"2153\" /></a></td>\\n</tr>\\n<tr>\\n<th colspan=\"2\" style=\"text-align:center;background-color: #b0c4de\">Background information</th>\\n</tr>\\n<tr>\\n<th scope=\"row\">Origin</th>\\n<td><a href=\"/wiki/Bristol\" title=\"Bristol\">Bristol</a>, England</td>\\n</tr>\\n<tr>\\n<th scope=\"row\">Genres</th>\\n<td><a href=\"/wiki/Punk_rock\" title=\"Punk rock\">Punk rock</a><br />\\n<a href=\"/wiki/Street_punk\" title=\"Street punk\">Street punk</a></td>\\n</tr>\\n<tr>\\n<th scope=\"row\"><span class=\"nowrap\">Years active</span></th>\\n<td>1979–1985, 1997–present</td>\\n</tr>\\n<tr>\\n<th scope=\"row\">Labels</th>\\n<td><a href=\"/wiki/Heartbeat_Records_(Bristol)\" class=\"mw-redirect\" title=\"Heartbeat Records (Bristol)\">Heartbeat</a>, <a href=\"/wiki/Riot_City_Records\" title=\"Riot City Records\">Riot City</a>, <a href=\"/wiki/EMI\" title=\"EMI\">EMI</a>, <a href=\"/w/index.php?title=Anagram_Records&amp;action=edit&amp;redlink=1\" class=\"new\" title=\"Anagram Records (page does not exist)\">Anagram</a>, <a href=\"/wiki/SOS_Records\" title=\"SOS Records\">SOS</a>, <a href=\"/wiki/Sudden_Death_Records\" title=\"Sudden Death Records\">Sudden Death</a>, <a href=\"/w/index.php?title=Rhythm_Vicar_Records&amp;action=edit&amp;redlink=1\" class=\"new\" title=\"Rhythm Vicar Records (page does not exist)\">Rhythm Vicar</a>, Last Rockers</td>\\n</tr>\\n<tr>\\n<th scope=\"row\"><span class=\"nowrap\">Associated acts</span></th>\\n<td>Beki &amp; the Bombshells, Ligotage, <a href=\"/wiki/Chaotic_Dischord\" title=\"Chaotic Dischord\">Chaotic Dischord</a>, Sweet Revenge</td>\\n</tr>\\n<tr>\\n<th scope=\"row\">Website</th>\\n<td><a rel=\"nofollow\" class=\"external text\" href=\"http://www.vicesquad.co.uk/\">www.vicesquad.co.uk</a></td>\\n</tr>\\n<tr>\\n<th colspan=\"2\" style=\"text-align:center;background-color: #b0c4de\"></th>\\n</tr>\\n<tr>\\n<th scope=\"row\">Members</th>\\n<td><a href=\"/wiki/Beki_Bondage\" title=\"Beki Bondage\">Beki Bondage</a><br />\\n<a href=\"/w/index.php?title=Paul_Rooney_(producer)&amp;action=edit&amp;redlink=1\" class=\"new\" title=\"Paul Rooney (producer) (page does not exist)\">Paul Rooney</a><br />\\n<a href=\"/w/index.php?title=Wayne_Firefly&amp;action=edit&amp;redlink=1\" class=\"new\" title=\"Wayne Firefly (page does not exist)\">Wayne Firefly</a><br />\\n<a href=\"/w/index.php?title=Django_(Vice_Squad)&amp;action=edit&amp;redlink=1\" class=\"new\" title=\"Django (Vice Squad) (page does not exist)\">Django</a></td>\\n</tr>\\n<tr>\\n<th colspan=\"2\" style=\"text-align:center;background-color: #b0c4de\"></th>\\n</tr>\\n<tr>\\n<th scope=\"row\"><span class=\"nowrap\">Past members</span></th>\\n<td>Original band:<br />\\nDave Bateman †<br />\\nMark Hambly<br />\\nShane Baldwin<br />\\nJulia Rumbelow<br />\\nMark \"Sooty\" Byrne<br />\\nJon Chilcott<br />\\n<br />\\nNew band:<br />\\nMichael Giaquinto<br />\\nWayne Cotton<br />\\nKev Taylor<br />\\nTony Piper<br />\\nViolet the Canonball (Sarah Stow)</td>\\n</tr>\\n</table>\\n<p><b>Vice Squad</b> are an English <a href=\"/wiki/Punk_band\" class=\"mw-redirect\" title=\"Punk band\">punk band</a> formed in 1979 in <a href=\"/wiki/Bristol\" title=\"Bristol\">Bristol</a>. The band was formed from two other local punk bands, The Contingent and TV Brakes. The songwriter and vocalist <a href=\"/wiki/Beki_Bondage\" title=\"Beki Bondage\">Beki Bondage</a> (born <b>Rebecca Louise Bond</b>) was a founding member of the band. Although there was a period of time when the band had a different vocalist she reformed the band in 1997.<sup id=\"cite_ref-1\" class=\"reference\"><a href=\"#cite_note-1\">[1]</a></sup>.</p>\\n<p></p>\\n<div id=\"toc\" class=\"toc\">\\n<div class=\"toctitle\" lang=\"en\" dir=\"ltr\">\\n<h2>Contents</h2>\\n</div>\\n<ul>\\n<li class=\"toclevel-1 tocsection-1\"><a href=\"#History\"><span class=\"tocnumber\">1</span> <span class=\"toctext\">History</span></a>\\n<ul>\\n<li class=\"toclevel-2 tocsection-2\"><a href=\"#Original_band\"><span class=\"tocnumber\">1.1</span> <span class=\"toctext\">Original band</span></a></li>\\n<li class=\"toclevel-2 tocsection-3\"><a href=\"#New_band\"><span class=\"tocnumber\">1.2</span> <span class=\"toctext\">New band</span></a></li>\\n<li class=\"toclevel-2 tocsection-4\"><a href=\"#Back_to_&quot;old_school_punk&quot;\"><span class=\"tocnumber\">1.3</span> <span class=\"toctext\">Back to \"old school punk\"</span></a></li>\\n</ul>\\n</li>\\n<li class=\"toclevel-1 tocsection-5\"><a href=\"#Discography\"><span class=\"tocnumber\">2</span> <span class=\"toctext\">Discography</span></a>\\n<ul>\\n<li class=\"toclevel-2 tocsection-6\"><a href=\"#Singles\"><span class=\"tocnumber\">2.1</span> <span class=\"toctext\">Singles</span></a></li>\\n<li class=\"toclevel-2 tocsection-7\"><a href=\"#Studio_albums\"><span class=\"tocnumber\">2.2</span> <span class=\"toctext\">Studio albums</span></a></li>\\n<li class=\"toclevel-2 tocsection-8\"><a href=\"#Live_albums\"><span class=\"tocnumber\">2.3</span> <span class=\"toctext\">Live albums</span></a></li>\\n<li class=\"toclevel-2 tocsection-9\"><a href=\"#Compilation_albums\"><span class=\"tocnumber\">2.4</span> <span class=\"toctext\">Compilation albums</span></a></li>\\n</ul>\\n</li>\\n<li class=\"toclevel-1 tocsection-10\"><a href=\"#References\"><span class=\"tocnumber\">3</span> <span class=\"toctext\">References</span></a></li>\\n<li class=\"toclevel-1 tocsection-11\"><a href=\"#External_links\"><span class=\"tocnumber\">4</span> <span class=\"toctext\">External links</span></a></li>\\n</ul>\\n</div>\\n<p></p>\\n<h2><span class=\"mw-headline\" id=\"History\">History</span><span class=\"mw-editsection\"><span class=\"mw-editsection-bracket\">[</span><a href=\"/w/index.php?title=Vice_Squad&amp;action=edit&amp;section=1\" title=\"Edit section: History\">edit</a><span class=\"mw-editsection-bracket\">]</span></span></h2>\\n<h3><span class=\"mw-headline\" id=\"Original_band\">Original band</span><span class=\"mw-editsection\"><span class=\"mw-editsection-bracket\">[</span><a href=\"/w/index.php?title=Vice_Squad&amp;action=edit&amp;section=2\" title=\"Edit section: Original band\">edit</a><span class=\"mw-editsection-bracket\">]</span></span></h3>\\n<p>Vice Squad was formed in 1979 with an initial line-up of Beki Bondage (vocals), Dave Bateman (guitar), Mark Hambly (bass guitar) and Shane Baldwin (drums), and played its first gig at <a href=\"/wiki/Bristol_University\" class=\"mw-redirect\" title=\"Bristol University\">Bristol University</a>\\'s Anson Rooms on 12 April 1979.<sup id=\"cite_ref-Glasper_2-0\" class=\"reference\"><a href=\"#cite_note-Glasper-2\">[2]</a></sup> Bateman and Baldwin had previously been members of the TV Brakes.<sup id=\"cite_ref-Glasper_2-1\" class=\"reference\"><a href=\"#cite_note-Glasper-2\">[2]</a></sup> The first release by TV Brakes was the track \"Nothing\", which was included on the 1979 compilation <i><a href=\"/wiki/Avon_Calling\" title=\"Avon Calling\">Avon Calling</a></i>. Members of the band were involved in setting up the <a href=\"/wiki/Riot_City_Records\" title=\"Riot City Records\">Riot City</a> label with Simon Edwards, the label becoming one of the major punk labels of the era. Vice Squad took some time to make further impact, only playing six gigs in 1980. Its first single, \"Last Rockers\" in 1981, was well-received, selling over 20,000 copies and spending almost forty weeks in the <a href=\"/wiki/UK_Indie_Chart\" class=\"mw-redirect\" title=\"UK Indie Chart\">UK Indie Chart</a>, reaching number 7.<sup id=\"cite_ref-Glasper_2-2\" class=\"reference\"><a href=\"#cite_note-Glasper-2\">[2]</a></sup> The follow-up, \"Resurrection\", reached number 4, and the band undertook a tour supporting <a href=\"/wiki/UK_Subs\" class=\"mw-redirect\" title=\"UK Subs\">UK Subs</a>. The singles received airplay and support from <a href=\"/wiki/BBC_Radio_1\" title=\"BBC Radio 1\">BBC Radio 1</a> DJ <a href=\"/wiki/John_Peel\" title=\"John Peel\">John Peel</a>, and the band went on to record two sessions for his show, in 1981 and 1982.<sup id=\"cite_ref-kip_3-0\" class=\"reference\"><a href=\"#cite_note-kip-3\">[3]</a></sup></p>\\n<p>In 1981, the band signed with the major label <a href=\"/wiki/EMI\" title=\"EMI\">EMI</a> (on their <i>Zonophone</i> subsidiary), prompting criticism from many within the DIY punk scene.<sup id=\"cite_ref-Glasper_2-3\" class=\"reference\"><a href=\"#cite_note-Glasper-2\">[2]</a></sup><sup id=\"cite_ref-Strong_4-0\" class=\"reference\"><a href=\"#cite_note-Strong-4\">[4]</a></sup> Their first album, <i>No Cause For Concern</i>, was released in late 1981, reaching number 32 in the <a href=\"/wiki/UK_Album_Chart\" class=\"mw-redirect\" title=\"UK Album Chart\">UK Album Chart</a>. A second album followed in 1982, and the band embarked on a tour of the United States and Canada. On returning from the US, Bondage announced that she was leaving the band.<sup id=\"cite_ref-Glasper_2-4\" class=\"reference\"><a href=\"#cite_note-Glasper-2\">[2]</a></sup> She went on to front <a href=\"/w/index.php?title=Ligotage&amp;action=edit&amp;redlink=1\" class=\"new\" title=\"Ligotage (page does not exist)\">Ligotage</a> and later <a href=\"/w/index.php?title=Beki_and_the_Bombshells&amp;action=edit&amp;redlink=1\" class=\"new\" title=\"Beki and the Bombshells (page does not exist)\">Beki and the Bombshells</a>, and, without her, Vice Squad were dropped by EMI.<sup id=\"cite_ref-Glasper_2-5\" class=\"reference\"><a href=\"#cite_note-Glasper-2\">[2]</a></sup> The band carried on, however, replacing Bondage with a new singer called Lia (who was previously known as Jools and had been the singer for local band Affairs of the Heart).<sup id=\"cite_ref-Glasper_2-6\" class=\"reference\"><a href=\"#cite_note-Glasper-2\">[2]</a></sup> The new line-up, also including the band\\'s manager Mark \"Sooty\" Byrne on second guitar, signed with <a href=\"/w/index.php?title=Anagram_Records&amp;action=edit&amp;redlink=1\" class=\"new\" title=\"Anagram Records (page does not exist)\">Anagram Records</a>, and recorded a session for <a href=\"/wiki/David_Jensen\" title=\"David Jensen\">David Jensen</a>\\'s BBC radio show. Indie hits continued with singles such as \"Black Sheep\" and \"You\\'ll Never Know\", but sales dwindled, and the band split up in 1985.<sup id=\"cite_ref-Strong_4-1\" class=\"reference\"><a href=\"#cite_note-Strong-4\">[4]</a></sup> Dave Bateman died in 2007.</p>\\n<h3><span class=\"mw-headline\" id=\"New_band\">New band</span><span class=\"mw-editsection\"><span class=\"mw-editsection-bracket\">[</span><a href=\"/w/index.php?title=Vice_Squad&amp;action=edit&amp;section=3\" title=\"Edit section: New band\">edit</a><span class=\"mw-editsection-bracket\">]</span></span></h3>\\n<div class=\"thumb tright\">\\n<div class=\"thumbinner\" style=\"width:222px;\"><a href=\"/wiki/File:Bekibondagevicesquad.jpg\" class=\"image\"><img alt=\"\" src=\"//upload.wikimedia.org/wikipedia/commons/thumb/6/67/Bekibondagevicesquad.jpg/220px-Bekibondagevicesquad.jpg\" width=\"220\" height=\"165\" class=\"thumbimage\" srcset=\"//upload.wikimedia.org/wikipedia/commons/thumb/6/67/Bekibondagevicesquad.jpg/330px-Bekibondagevicesquad.jpg 1.5x, //upload.wikimedia.org/wikipedia/commons/thumb/6/67/Bekibondagevicesquad.jpg/440px-Bekibondagevicesquad.jpg 2x\" data-file-width=\"2272\" data-file-height=\"1704\" /></a>\\n<div class=\"thumbcaption\">\\n<div class=\"magnify\"><a href=\"/wiki/File:Bekibondagevicesquad.jpg\" class=\"internal\" title=\"Enlarge\"></a></div>\\nPerforming in 2005</div>\\n</div>\\n</div>\\n<p>Bondage formed a new version of Vice Squad in 1997, along with former members of The Bombshells, after being persuaded to perform the old material at the <i>Holidays in the Sun</i> festival.<sup id=\"cite_ref-Glasper_2-7\" class=\"reference\"><a href=\"#cite_note-Glasper-2\">[2]</a></sup> The line-up was initially Bondage on vocals, Paul Rooney (guitar), Stilton (bass guitar) and Pumpy (drums). The rhythm section was replaced by Michael Giaquinto (bass guitar) and Tony Piper (drums) in late 1999/early 2000.<sup id=\"cite_ref-Glasper_2-8\" class=\"reference\"><a href=\"#cite_note-Glasper-2\">[2]</a></sup> This new line-up recorded several albums and toured Europe and the United States. In 2006, they released the album <i><a href=\"/w/index.php?title=Defiant_(album)&amp;action=edit&amp;redlink=1\" class=\"new\" title=\"Defiant (album) (page does not exist)\">Defiant</a></i>, produced by Rooney.</p>\\n<h3><span id=\"Back_to_.22old_school_punk.22\"></span><span class=\"mw-headline\" id=\"Back_to_&quot;old_school_punk&quot;\">Back to \"old school punk\"</span><span class=\"mw-editsection\"><span class=\"mw-editsection-bracket\">[</span><a href=\"/w/index.php?title=Vice_Squad&amp;action=edit&amp;section=4\" title=\"Edit section: Back to &quot;old school punk&quot;\">edit</a><span class=\"mw-editsection-bracket\">]</span></span></h3>\\n<p>2008 was spent recording the album, <i><a href=\"/w/index.php?title=Fairground_for_the_Demented&amp;action=edit&amp;redlink=1\" class=\"new\" title=\"Fairground for the Demented (page does not exist)\">Fairground for the Demented</a></i> which was shelved as the band decided the finished collection of songs did not represent the \\'Old School\\' punk sound that the band wanted to achieve. This collection of songs is currently released in digital form with retailers such as <a href=\"/wiki/ITunes\" title=\"ITunes\">iTunes</a> and <a href=\"/wiki/Napster\" title=\"Napster\">Napster</a>. The gritty punk style was eventually realised in 2009 when Vice Squad released the <i>London Underground</i> album which was co-produced by Bond and Rooney. Released on their own Last Rockers Label, <i>London Underground</i> has received rave reviews on the <a href=\"/w/index.php?title=Studs_And_Punks&amp;action=edit&amp;redlink=1\" class=\"new\" title=\"Studs And Punks (page does not exist)\">Studs And Punks</a> website and songs such as \"Punx United\", \"Old Skool\" and \"Sniffing Glue\" form a major part of the band\\'s live show.</p>\\n<p>Vice Squad returned to America in 2009 on an 18 date tour of the western states promoting <i>London Underground</i> with the American drummer Nick Manning, and Wayne Cotton on Bass (Ex Stuntface bass / front man) with support from The Lower Class Brats.<sup id=\"cite_ref-5\" class=\"reference\"><a href=\"#cite_note-5\">[5]</a></sup><sup id=\"cite_ref-6\" class=\"reference\"><a href=\"#cite_note-6\">[6]</a></sup> The album <i>Punk Rock Radio</i> was released in 2011.</p>\\n<p>In 2014 The band’s new album, <i><a href=\"/w/index.php?title=Cardboard_Country&amp;action=edit&amp;redlink=1\" class=\"new\" title=\"Cardboard Country (page does not exist)\">Cardboard Country</a></i><sup id=\"cite_ref-7\" class=\"reference\"><a href=\"#cite_note-7\">[7]</a></sup> is completed and is released on the band’s own Last Rockers Records label on with funding from fans via the bands first ever Pledge Music Campaign.</p>\\n<h2><span class=\"mw-headline\" id=\"Discography\">Discography</span><span class=\"mw-editsection\"><span class=\"mw-editsection-bracket\">[</span><a href=\"/w/index.php?title=Vice_Squad&amp;action=edit&amp;section=5\" title=\"Edit section: Discography\">edit</a><span class=\"mw-editsection-bracket\">]</span></span></h2>\\n<h3><span class=\"mw-headline\" id=\"Singles\">Singles</span><span class=\"mw-editsection\"><span class=\"mw-editsection-bracket\">[</span><a href=\"/w/index.php?title=Vice_Squad&amp;action=edit&amp;section=6\" title=\"Edit section: Singles\">edit</a><span class=\"mw-editsection-bracket\">]</span></span></h3>\\n<ul>\\n<li>\"Last Rockers\" (1980) <a href=\"/wiki/Riot_City_Records\" title=\"Riot City Records\">Riot City</a> (UK Indie No. 7)<sup id=\"cite_ref-Lazell_8-0\" class=\"reference\"><a href=\"#cite_note-Lazell-8\">[8]</a></sup></li>\\n<li>\"Resurrection\" (1981) Riot City (UK Indie No. 4)<sup id=\"cite_ref-Lazell_8-1\" class=\"reference\"><a href=\"#cite_note-Lazell-8\">[8]</a></sup></li>\\n<li><i>Special Edition Tour EP</i> (1982) Riot City (UK Indie No. 21)<sup id=\"cite_ref-Lazell_8-2\" class=\"reference\"><a href=\"#cite_note-Lazell-8\">[8]</a></sup></li>\\n<li>\"Out of Reach\" (1982) <a href=\"/wiki/EMI\" title=\"EMI\">EMI</a>/<a href=\"/wiki/Zonophone\" title=\"Zonophone\">Zonophone</a> (UK No. 68)<sup id=\"cite_ref-Strong_4-2\" class=\"reference\"><a href=\"#cite_note-Strong-4\">[4]</a></sup></li>\\n<li>\"Stand Strong\" (1982) EMI/Zonophone</li>\\n<li>\"State of the Nation\" (1982) Riot City</li>\\n<li>\"Black Sheep\" (1983) <a href=\"/w/index.php?title=Anagram_Records&amp;action=edit&amp;redlink=1\" class=\"new\" title=\"Anagram Records (page does not exist)\">Anagram</a> (UK Indie No. 13)<sup id=\"cite_ref-Lazell_8-3\" class=\"reference\"><a href=\"#cite_note-Lazell-8\">[8]</a></sup></li>\\n<li>\"You\\'ll Never Know\" (1984) Anagram</li>\\n<li>\"Teenage Rampage\" (1985) Anagram (UK Indie No. 44)<sup id=\"cite_ref-Lazell_8-4\" class=\"reference\"><a href=\"#cite_note-Lazell-8\">[8]</a></sup></li>\\n<li>\"Lavender Hill Mob\" (2000) Combat Rock</li>\\n<li>\"Santa Claws Is Coming to Town\" (2009) Last Rockers</li>\\n<li>\"Rockin\\' Around the Christmas Tree\" (2010) Last Rockers</li>\\n<li><i>London Lowlife EP</i> (2011) Last Rockers – limited edition four track CD single (tracks: \"Drama Queen\" / \"Plain Jane\" / \"Jimmy Jaguar\" / \"Dead Doll\")</li>\\n</ul>\\n<h3><span class=\"mw-headline\" id=\"Studio_albums\">Studio albums</span><span class=\"mw-editsection\"><span class=\"mw-editsection-bracket\">[</span><a href=\"/w/index.php?title=Vice_Squad&amp;action=edit&amp;section=7\" title=\"Edit section: Studio albums\">edit</a><span class=\"mw-editsection-bracket\">]</span></span></h3>\\n<ul>\\n<li><i><a href=\"/wiki/No_Cause_for_Concern\" title=\"No Cause for Concern\">No Cause for Concern</a></i> (1981) <a href=\"/wiki/Zonophone\" title=\"Zonophone\">Zonophone</a> (UK No. 32)<sup id=\"cite_ref-Strong_4-3\" class=\"reference\"><a href=\"#cite_note-Strong-4\">[4]</a></sup></li>\\n<li><i><a href=\"/wiki/Stand_Strong_Stand_Proud\" title=\"Stand Strong Stand Proud\">Stand Strong Stand Proud</a></i> (1982) Zonophone (UK No. 47)<sup id=\"cite_ref-Strong_4-4\" class=\"reference\"><a href=\"#cite_note-Strong-4\">[4]</a></sup></li>\\n<li><i><a href=\"/wiki/Shot_Away\" title=\"Shot Away\">Shot Away</a></i> (1985) Anagram</li>\\n<li><i><a href=\"/wiki/Get_a_Life_(Vice_Squad_album)\" title=\"Get a Life (Vice Squad album)\">Get a Life</a></i> (1999) Rhythm Vicar</li>\\n<li><i><a href=\"/wiki/Resurrection_(Vice_Squad_album)\" title=\"Resurrection (Vice Squad album)\">Resurrection</a></i> (1999) Rhythm Vicar</li>\\n<li><i><a href=\"/w/index.php?title=Lo-Fi_Life&amp;action=edit&amp;redlink=1\" class=\"new\" title=\"Lo-Fi Life (page does not exist)\">Lo-Fi Life</a></i> (2000) Sudden Death</li>\\n<li><i><a href=\"/w/index.php?title=Rich_and_Famous_(Vice_Squad_album)&amp;action=edit&amp;redlink=1\" class=\"new\" title=\"Rich and Famous (Vice Squad album) (page does not exist)\">Rich and Famous</a></i> (2003) EMI</li>\\n<li><i><a href=\"/w/index.php?title=Defiant_(album)&amp;action=edit&amp;redlink=1\" class=\"new\" title=\"Defiant (album) (page does not exist)\">Defiant</a></i> (2006) <a href=\"/wiki/SOS_Records\" title=\"SOS Records\">SOS</a></li>\\n<li><i><a href=\"/w/index.php?title=Unreleased_2008&amp;action=edit&amp;redlink=1\" class=\"new\" title=\"Unreleased 2008 (page does not exist)\">Unreleased 2008</a></i> (2009) Last Rockers</li>\\n<li><i><a href=\"/w/index.php?title=London_Underground_(Vice_Squad_album)&amp;action=edit&amp;redlink=1\" class=\"new\" title=\"London Underground (Vice Squad album) (page does not exist)\">London Underground</a></i> (2009) Last Rockers</li>\\n<li><i><a href=\"/w/index.php?title=Punk_Rock_Radio_(album)&amp;action=edit&amp;redlink=1\" class=\"new\" title=\"Punk Rock Radio (album) (page does not exist)\">Punk Rock Radio</a></i> (2011) Last Rockers</li>\\n<li><i><a href=\"/w/index.php?title=Cardboard_Country_(album)&amp;action=edit&amp;redlink=1\" class=\"new\" title=\"Cardboard Country (album) (page does not exist)\">Cardboard Country</a></i> (2014) Last Rockers</li>\\n</ul>\\n<h3><span class=\"mw-headline\" id=\"Live_albums\">Live albums</span><span class=\"mw-editsection\"><span class=\"mw-editsection-bracket\">[</span><a href=\"/w/index.php?title=Vice_Squad&amp;action=edit&amp;section=8\" title=\"Edit section: Live albums\">edit</a><span class=\"mw-editsection-bracket\">]</span></span></h3>\\n<ul>\\n<li><i>Live in Sheffield</i> (1981) Chaos Tapes Cat: Live003 – cassette only release – limited edition of 3000<sup id=\"cite_ref-9\" class=\"reference\"><a href=\"#cite_note-9\">[9]</a></sup></li>\\n</ul>\\n<p><sub>Track Listing: A Side: Resurrection / We\\'re Still Dying / Coward / Young Blood. B Side: The Times They Are A Changing / 1981 / Change The Record / Saturday Night Special / Sell Out.</sub></p>\\n<ul>\\n<li><i>Live and Loud!!</i> (1988) Link</li>\\n</ul>\\n<h3><span class=\"mw-headline\" id=\"Compilation_albums\">Compilation albums</span><span class=\"mw-editsection\"><span class=\"mw-editsection-bracket\">[</span><a href=\"/w/index.php?title=Vice_Squad&amp;action=edit&amp;section=9\" title=\"Edit section: Compilation albums\">edit</a><span class=\"mw-editsection-bracket\">]</span></span></h3>\\n<ul>\\n<li><i>Last Rockers – The Singles</i> (1992) Abstract</li>\\n<li><i>The Punk Singles Collection</i> (1995) Anagram</li>\\n<li><i>The BBC Sessions</i> (1997) Anagram</li>\\n<li><i>The Rarities</i> (1999) <a href=\"/wiki/Captain_Oi!_Records\" title=\"Captain Oi! Records\">Captain Oi!</a></li>\\n<li><i>The Very Best Of</i> (2000) Anagram</li>\\n<li><i>Bang to Rights: The Essential Vice Squad Collection</i> (2001) EMI</li>\\n<li><i>The Riot City Years</i> (2004) Step-1</li>\\n<li><i>Fuck Authority</i> (2007) Anarchy</li>\\n<li><i>Punks for a Princess Vol.2</i> (2012)</li>\\n</ul>\\n<h2><span class=\"mw-headline\" id=\"References\">References</span><span class=\"mw-editsection\"><span class=\"mw-editsection-bracket\">[</span><a href=\"/w/index.php?title=Vice_Squad&amp;action=edit&amp;section=10\" title=\"Edit section: References\">edit</a><span class=\"mw-editsection-bracket\">]</span></span></h2>\\n<div class=\"reflist\" style=\"list-style-type: decimal;\">\\n<div class=\"mw-references-wrap\">\\n<ol class=\"references\">\\n<li id=\"cite_note-1\"><span class=\"mw-cite-backlink\"><b><a href=\"#cite_ref-1\">^</a></b></span> <span class=\"reference-text\"><cite class=\"citation news\">Dewhurst, Tony (2 June 2014). <a rel=\"nofollow\" class=\"external text\" href=\"http://www.lancashiretelegraph.co.uk/leisure/whats_on/darwen/11249705.Beki_Bondage_s_bond_with_punk_still_going_strong/\">\"Beki Bondage\\'s bond with punk still going strong\"</a>. <i>Lancashire Telegraph</i><span class=\"reference-accessdate\">. Retrieved <span class=\"nowrap\">24 December</span> 2015</span>.</cite><span title=\"ctx_ver=Z39.88-2004&amp;rft_val_fmt=info%3Aofi%2Ffmt%3Akev%3Amtx%3Ajournal&amp;rft.genre=article&amp;rft.jtitle=Lancashire+Telegraph&amp;rft.atitle=Beki+Bondage%27s+bond+with+punk+still+going+strong&amp;rft.date=2014-06-02&amp;rft.aulast=Dewhurst&amp;rft.aufirst=Tony&amp;rft_id=http%3A%2F%2Fwww.lancashiretelegraph.co.uk%2Fleisure%2Fwhats_on%2Fdarwen%2F11249705.Beki_Bondage_s_bond_with_punk_still_going_strong%2F&amp;rfr_id=info%3Asid%2Fen.wikipedia.org%3AVice+Squad\" class=\"Z3988\"><span style=\"display:none;\">&#160;</span></span></span></li>\\n<li id=\"cite_note-Glasper-2\"><span class=\"mw-cite-backlink\">^ <a href=\"#cite_ref-Glasper_2-0\"><sup><i><b>a</b></i></sup></a> <a href=\"#cite_ref-Glasper_2-1\"><sup><i><b>b</b></i></sup></a> <a href=\"#cite_ref-Glasper_2-2\"><sup><i><b>c</b></i></sup></a> <a href=\"#cite_ref-Glasper_2-3\"><sup><i><b>d</b></i></sup></a> <a href=\"#cite_ref-Glasper_2-4\"><sup><i><b>e</b></i></sup></a> <a href=\"#cite_ref-Glasper_2-5\"><sup><i><b>f</b></i></sup></a> <a href=\"#cite_ref-Glasper_2-6\"><sup><i><b>g</b></i></sup></a> <a href=\"#cite_ref-Glasper_2-7\"><sup><i><b>h</b></i></sup></a> <a href=\"#cite_ref-Glasper_2-8\"><sup><i><b>i</b></i></sup></a></span> <span class=\"reference-text\"><cite class=\"citation book\">Glasper, Ian (2004). <i>Burning Britain: The History of Punk 1980–1984</i>. Cherry Red Books. <a href=\"/wiki/International_Standard_Book_Number\" title=\"International Standard Book Number\">ISBN</a>&#160;<a href=\"/wiki/Special:BookSources/1-901447-24-3\" title=\"Special:BookSources/1-901447-24-3\">1-901447-24-3</a>.</cite><span title=\"ctx_ver=Z39.88-2004&amp;rft_val_fmt=info%3Aofi%2Ffmt%3Akev%3Amtx%3Abook&amp;rft.genre=book&amp;rft.btitle=Burning+Britain%3A+The+History+of+Punk+1980%E2%80%931984&amp;rft.pub=Cherry+Red+Books&amp;rft.date=2004&amp;rft.isbn=1-901447-24-3&amp;rft.aulast=Glasper&amp;rft.aufirst=Ian&amp;rfr_id=info%3Asid%2Fen.wikipedia.org%3AVice+Squad\" class=\"Z3988\"><span style=\"display:none;\">&#160;</span></span></span></li>\\n<li id=\"cite_note-kip-3\"><span class=\"mw-cite-backlink\"><b><a href=\"#cite_ref-kip_3-0\">^</a></b></span> <span class=\"reference-text\"><cite class=\"citation web\"><a rel=\"nofollow\" class=\"external text\" href=\"http://www.bbc.co.uk/radio1/johnpeel/artists/v/vicesquad/\">\"BBC – Radio 1 – Keeping It Peel – Vice Squad\"</a>. <i>Keeping It Peel</i>. BBC<span class=\"reference-accessdate\">. Retrieved <span class=\"nowrap\">29 March</span> 2008</span>.</cite><span title=\"ctx_ver=Z39.88-2004&amp;rft_val_fmt=info%3Aofi%2Ffmt%3Akev%3Amtx%3Ajournal&amp;rft.genre=unknown&amp;rft.jtitle=Keeping+It+Peel&amp;rft.atitle=BBC+%E2%80%93+Radio+1+%E2%80%93+Keeping+It+Peel+%E2%80%93+Vice+Squad&amp;rft_id=http%3A%2F%2Fwww.bbc.co.uk%2Fradio1%2Fjohnpeel%2Fartists%2Fv%2Fvicesquad%2F&amp;rfr_id=info%3Asid%2Fen.wikipedia.org%3AVice+Squad\" class=\"Z3988\"><span style=\"display:none;\">&#160;</span></span></span></li>\\n<li id=\"cite_note-Strong-4\"><span class=\"mw-cite-backlink\">^ <a href=\"#cite_ref-Strong_4-0\"><sup><i><b>a</b></i></sup></a> <a href=\"#cite_ref-Strong_4-1\"><sup><i><b>b</b></i></sup></a> <a href=\"#cite_ref-Strong_4-2\"><sup><i><b>c</b></i></sup></a> <a href=\"#cite_ref-Strong_4-3\"><sup><i><b>d</b></i></sup></a> <a href=\"#cite_ref-Strong_4-4\"><sup><i><b>e</b></i></sup></a></span> <span class=\"reference-text\"><cite class=\"citation book\">Strong, Martin C. (1999). <i>The Great Alternative &amp; Indie Discography</i>. Canongate. <a href=\"/wiki/International_Standard_Book_Number\" title=\"International Standard Book Number\">ISBN</a>&#160;<a href=\"/wiki/Special:BookSources/0-86241-913-1\" title=\"Special:BookSources/0-86241-913-1\">0-86241-913-1</a>.</cite><span title=\"ctx_ver=Z39.88-2004&amp;rft_val_fmt=info%3Aofi%2Ffmt%3Akev%3Amtx%3Abook&amp;rft.genre=book&amp;rft.btitle=The+Great+Alternative+%26+Indie+Discography&amp;rft.pub=Canongate&amp;rft.date=1999&amp;rft.isbn=0-86241-913-1&amp;rft.aulast=Strong&amp;rft.aufirst=Martin+C.&amp;rfr_id=info%3Asid%2Fen.wikipedia.org%3AVice+Squad\" class=\"Z3988\"><span style=\"display:none;\">&#160;</span></span></span></li>\\n<li id=\"cite_note-5\"><span class=\"mw-cite-backlink\"><b><a href=\"#cite_ref-5\">^</a></b></span> <span class=\"reference-text\"><cite class=\"citation web\"><a rel=\"nofollow\" class=\"external text\" href=\"http://www.punknews.org/article/33524\">\"Lower Class Brats / Vice Squad\"</a>. Punknews.org. 13 May 2009<span class=\"reference-accessdate\">. Retrieved <span class=\"nowrap\">2012-04-29</span></span>.</cite><span title=\"ctx_ver=Z39.88-2004&amp;rft_val_fmt=info%3Aofi%2Ffmt%3Akev%3Amtx%3Abook&amp;rft.genre=unknown&amp;rft.btitle=Lower+Class+Brats+%2F+Vice+Squad&amp;rft.pub=Punknews.org&amp;rft.date=2009-05-13&amp;rft_id=http%3A%2F%2Fwww.punknews.org%2Farticle%2F33524&amp;rfr_id=info%3Asid%2Fen.wikipedia.org%3AVice+Squad\" class=\"Z3988\"><span style=\"display:none;\">&#160;</span></span></span></li>\\n<li id=\"cite_note-6\"><span class=\"mw-cite-backlink\"><b><a href=\"#cite_ref-6\">^</a></b></span> <span class=\"reference-text\"><cite class=\"citation web\">Vice Squad Blog (15 April 2012). <a rel=\"nofollow\" class=\"external text\" href=\"http://ukpunk.blogspot.com/\">\"VICE SQUAD UK Punk Band\"</a>. Ukpunk.blogspot.com<span class=\"reference-accessdate\">. Retrieved <span class=\"nowrap\">2012-04-29</span></span>.</cite><span title=\"ctx_ver=Z39.88-2004&amp;rft_val_fmt=info%3Aofi%2Ffmt%3Akev%3Amtx%3Abook&amp;rft.genre=unknown&amp;rft.btitle=VICE+SQUAD+UK+Punk+Band&amp;rft.pub=Ukpunk.blogspot.com&amp;rft.date=2012-04-15&amp;rft.au=Vice+Squad+Blog&amp;rft_id=http%3A%2F%2Fukpunk.blogspot.com%2F&amp;rfr_id=info%3Asid%2Fen.wikipedia.org%3AVice+Squad\" class=\"Z3988\"><span style=\"display:none;\">&#160;</span></span></span></li>\\n<li id=\"cite_note-7\"><span class=\"mw-cite-backlink\"><b><a href=\"#cite_ref-7\">^</a></b></span> <span class=\"reference-text\"><cite class=\"citation web\"><a rel=\"nofollow\" class=\"external text\" href=\"http://vicesquad.co.uk/punkrock/biography\">\"Vice Squad Biography\"</a>. ViceSquad. 13 May 2009<span class=\"reference-accessdate\">. Retrieved <span class=\"nowrap\">2012-04-29</span></span>.</cite><span title=\"ctx_ver=Z39.88-2004&amp;rft_val_fmt=info%3Aofi%2Ffmt%3Akev%3Amtx%3Abook&amp;rft.genre=unknown&amp;rft.btitle=Vice+Squad+Biography&amp;rft.pub=ViceSquad&amp;rft.date=2009-05-13&amp;rft_id=http%3A%2F%2Fvicesquad.co.uk%2Fpunkrock%2Fbiography&amp;rfr_id=info%3Asid%2Fen.wikipedia.org%3AVice+Squad\" class=\"Z3988\"><span style=\"display:none;\">&#160;</span></span></span></li>\\n<li id=\"cite_note-Lazell-8\"><span class=\"mw-cite-backlink\">^ <a href=\"#cite_ref-Lazell_8-0\"><sup><i><b>a</b></i></sup></a> <a href=\"#cite_ref-Lazell_8-1\"><sup><i><b>b</b></i></sup></a> <a href=\"#cite_ref-Lazell_8-2\"><sup><i><b>c</b></i></sup></a> <a href=\"#cite_ref-Lazell_8-3\"><sup><i><b>d</b></i></sup></a> <a href=\"#cite_ref-Lazell_8-4\"><sup><i><b>e</b></i></sup></a></span> <span class=\"reference-text\"><cite class=\"citation book\">Lazell, Barry (1997). <i>Indie Hits 1980–1999</i>. Cherry Red Books. <a href=\"/wiki/International_Standard_Book_Number\" title=\"International Standard Book Number\">ISBN</a>&#160;<a href=\"/wiki/Special:BookSources/0-9517206-9-4\" title=\"Special:BookSources/0-9517206-9-4\">0-9517206-9-4</a>.</cite><span title=\"ctx_ver=Z39.88-2004&amp;rft_val_fmt=info%3Aofi%2Ffmt%3Akev%3Amtx%3Abook&amp;rft.genre=book&amp;rft.btitle=Indie+Hits+1980%E2%80%931999&amp;rft.pub=Cherry+Red+Books&amp;rft.date=1997&amp;rft.isbn=0-9517206-9-4&amp;rft.aulast=Lazell&amp;rft.aufirst=Barry&amp;rfr_id=info%3Asid%2Fen.wikipedia.org%3AVice+Squad\" class=\"Z3988\"><span style=\"display:none;\">&#160;</span></span></span></li>\\n<li id=\"cite_note-9\"><span class=\"mw-cite-backlink\"><b><a href=\"#cite_ref-9\">^</a></b></span> <span class=\"reference-text\"><a rel=\"nofollow\" class=\"external free\" href=\"http://www.discogs.com/Vice-Squad-Live-in-Sheffield-1981/release/1872420\">http://www.discogs.com/Vice-Squad-Live-in-Sheffield-1981/release/1872420</a></span></li>\\n</ol>\\n</div>\\n</div>\\n<h2><span class=\"mw-headline\" id=\"External_links\">External links</span><span class=\"mw-editsection\"><span class=\"mw-editsection-bracket\">[</span><a href=\"/w/index.php?title=Vice_Squad&amp;action=edit&amp;section=11\" title=\"Edit section: External links\">edit</a><span class=\"mw-editsection-bracket\">]</span></span></h2>\\n<ul>\\n<li><a rel=\"nofollow\" class=\"external text\" href=\"http://www.vicesquad.co.uk/\">Official Site</a></li>\\n<li><a rel=\"nofollow\" class=\"external text\" href=\"https://www.allmusic.com/artist/vice-squad-p21260\">Allmusic.com entry</a></li>\\n<li>Punk77 – <a rel=\"nofollow\" class=\"external text\" href=\"http://punk77.co.uk/groups/vicesquad.htm\">Interviews, history and media</a></li>\\n</ul>\\n<div role=\"navigation\" class=\"navbox\" aria-labelledby=\"Authority_control\" style=\"padding:3px\">\\n<table class=\"nowraplinks hlist navbox-inner\" style=\"border-spacing:0;background:transparent;color:inherit\">\\n<tr>\\n<th id=\"Authority_control\" scope=\"row\" class=\"navbox-group\" style=\"width:1%\"><a href=\"/wiki/Help:Authority_control\" title=\"Help:Authority control\">Authority control</a></th>\\n<td class=\"navbox-list navbox-odd\" style=\"text-align:left;border-left-width:2px;border-left-style:solid;width:100%;padding:0px\">\\n<div style=\"padding:0em 0.25em\">\\n<ul>\\n<li><span class=\"nowrap\"><a href=\"/wiki/International_Standard_Name_Identifier\" title=\"International Standard Name Identifier\">ISNI</a>: <span class=\"uid\"><a rel=\"nofollow\" class=\"external text\" href=\"http://isni.org/isni/0000000115037955\">0000 0001 1503 7955</a></span></span></li>\\n<li><span class=\"nowrap\"><a href=\"/wiki/MusicBrainz\" title=\"MusicBrainz\">MusicBrainz</a>: <span class=\"uid\"><a rel=\"nofollow\" class=\"external text\" href=\"https://musicbrainz.org/artist/6e6c2ffc-2a12-470b-8675-49d68edd7ba9\">6e6c2ffc-2a12-470b-8675-49d68edd7ba9</a></span></span></li>\\n</ul>\\n</div>\\n</td>\\n</tr>\\n</table>\\n</div>\\n\\n\\n<!-- \\nNewPP limit report\\nParsed by mw1248\\nCached time: 20180627123003\\nCache expiry: 1900800\\nDynamic content: false\\nCPU time usage: 0.168 seconds\\nReal time usage: 0.235 seconds\\nPreprocessor visited node count: 1182/1000000\\nPreprocessor generated node count: 0/1500000\\nPost‐expand include size: 20213/2097152 bytes\\nTemplate argument size: 1822/2097152 bytes\\nHighest expansion depth: 12/40\\nExpensive parser function count: 4/500\\nUnstrip recursion depth: 0/20\\nUnstrip post‐expand size: 10645/5000000 bytes\\nNumber of Wikibase entities loaded: 1/400\\nLua time usage: 0.078/10.000 seconds\\nLua memory usage: 3.69 MB/50 MB\\n-->\\n<!--\\nTransclusion expansion time report (%,ms,calls,template)\\n100.00%  206.809      1 -total\\n 36.38%   75.238      1 Template:Reflist\\n 20.99%   43.403      1 Template:Infobox_musical_artist\\n 15.60%   32.272      1 Template:Infobox\\n 14.52%   30.024      1 Template:Cite_news\\n 13.99%   28.939      1 Template:Authority_control\\n 11.43%   23.643      1 Template:EngvarB\\n  8.00%   16.541      4 Template:Cite_web\\n  7.62%   15.763      1 Template:Otheruses\\n  6.30%   13.039      3 Template:Cite_book\\n-->\\n</div>\\n<!-- Saved in parser cache with key enwiki:pcache:idhash:1774263-0!canonical and timestamp 20180627123003 and revision id 847735856\\n -->\\n<noscript><img src=\"//en.wikipedia.org/wiki/Special:CentralAutoLogin/start?type=1x1\" alt=\"\" title=\"\" width=\"1\" height=\"1\" style=\"border: none; position: absolute;\" /></noscript></div>\\t\\t\\t\\t\\t<div class=\"printfooter\">\\n\\t\\t\\t\\t\\t\\tRetrieved from \"<a dir=\"ltr\" href=\"https://en.wikipedia.org/w/index.php?title=Vice_Squad&amp;oldid=847735856\">https://en.wikipedia.org/w/index.php?title=Vice_Squad&amp;oldid=847735856</a>\"\\t\\t\\t\\t\\t</div>\\n\\t\\t\\t\\t<div id=\"catlinks\" class=\"catlinks\" data-mw=\"interface\"><div id=\"mw-normal-catlinks\" class=\"mw-normal-catlinks\"><a href=\"/wiki/Help:Category\" title=\"Help:Category\">Categories</a>: <ul><li><a href=\"/wiki/Category:English_punk_rock_groups\" title=\"Category:English punk rock groups\">English punk rock groups</a></li><li><a href=\"/wiki/Category:Musical_groups_from_Bristol\" title=\"Category:Musical groups from Bristol\">Musical groups from Bristol</a></li><li><a href=\"/wiki/Category:Street_punk_groups\" title=\"Category:Street punk groups\">Street punk groups</a></li><li><a href=\"/wiki/Category:Musical_groups_established_in_1978\" title=\"Category:Musical groups established in 1978\">Musical groups established in 1978</a></li></ul></div><div id=\"mw-hidden-catlinks\" class=\"mw-hidden-catlinks mw-hidden-cats-hidden\">Hidden categories: <ul><li><a href=\"/wiki/Category:EngvarB_from_April_2013\" title=\"Category:EngvarB from April 2013\">EngvarB from April 2013</a></li><li><a href=\"/wiki/Category:Use_dmy_dates_from_April_2013\" title=\"Category:Use dmy dates from April 2013\">Use dmy dates from April 2013</a></li><li><a href=\"/wiki/Category:Articles_with_hCards\" title=\"Category:Articles with hCards\">Articles with hCards</a></li><li><a href=\"/wiki/Category:Wikipedia_articles_with_ISNI_identifiers\" title=\"Category:Wikipedia articles with ISNI identifiers\">Wikipedia articles with ISNI identifiers</a></li><li><a href=\"/wiki/Category:Wikipedia_articles_with_MusicBrainz_identifiers\" title=\"Category:Wikipedia articles with MusicBrainz identifiers\">Wikipedia articles with MusicBrainz identifiers</a></li></ul></div></div>\\t\\t\\t\\t<div class=\"visualClear\"></div>\\n\\t\\t\\t\\t\\t\\t\\t</div>\\n\\t\\t</div>\\n\\t\\t<div id=\"mw-navigation\">\\n\\t\\t\\t<h2>Navigation menu</h2>\\n\\t\\t\\t<div id=\"mw-head\">\\n\\t\\t\\t\\t\\t\\t\\t\\t\\t<div id=\"p-personal\" role=\"navigation\" class=\"\" aria-labelledby=\"p-personal-label\">\\n\\t\\t\\t\\t\\t\\t<h3 id=\"p-personal-label\">Personal tools</h3>\\n\\t\\t\\t\\t\\t\\t<ul>\\n\\t\\t\\t\\t\\t\\t\\t<li id=\"pt-anonuserpage\">Not logged in</li><li id=\"pt-anontalk\"><a href=\"/wiki/Special:MyTalk\" title=\"Discussion about edits from this IP address [n]\" accesskey=\"n\">Talk</a></li><li id=\"pt-anoncontribs\"><a href=\"/wiki/Special:MyContributions\" title=\"A list of edits made from this IP address [y]\" accesskey=\"y\">Contributions</a></li><li id=\"pt-createaccount\"><a href=\"/w/index.php?title=Special:CreateAccount&amp;returnto=Vice+Squad\" title=\"You are encouraged to create an account and log in; however, it is not mandatory\">Create account</a></li><li id=\"pt-login\"><a href=\"/w/index.php?title=Special:UserLogin&amp;returnto=Vice+Squad\" title=\"You&#039;re encouraged to log in; however, it&#039;s not mandatory. [o]\" accesskey=\"o\">Log in</a></li>\\t\\t\\t\\t\\t\\t</ul>\\n\\t\\t\\t\\t\\t</div>\\n\\t\\t\\t\\t\\t\\t\\t\\t\\t<div id=\"left-navigation\">\\n\\t\\t\\t\\t\\t\\t\\t\\t\\t\\t<div id=\"p-namespaces\" role=\"navigation\" class=\"vectorTabs\" aria-labelledby=\"p-namespaces-label\">\\n\\t\\t\\t\\t\\t\\t<h3 id=\"p-namespaces-label\">Namespaces</h3>\\n\\t\\t\\t\\t\\t\\t<ul>\\n\\t\\t\\t\\t\\t\\t\\t<li id=\"ca-nstab-main\" class=\"selected\"><span><a href=\"/wiki/Vice_Squad\" title=\"View the content page [c]\" accesskey=\"c\">Article</a></span></li><li id=\"ca-talk\"><span><a href=\"/wiki/Talk:Vice_Squad\" rel=\"discussion\" title=\"Discussion about the content page [t]\" accesskey=\"t\">Talk</a></span></li>\\t\\t\\t\\t\\t\\t</ul>\\n\\t\\t\\t\\t\\t</div>\\n\\t\\t\\t\\t\\t\\t\\t\\t\\t\\t<div id=\"p-variants\" role=\"navigation\" class=\"vectorMenu emptyPortlet\" aria-labelledby=\"p-variants-label\">\\n\\t\\t\\t\\t\\t\\t\\t\\t\\t\\t\\t\\t<input type=\"checkbox\" class=\"vectorMenuCheckbox\" aria-labelledby=\"p-variants-label\" />\\n\\t\\t\\t\\t\\t\\t<h3 id=\"p-variants-label\">\\n\\t\\t\\t\\t\\t\\t\\t<span>Variants</span>\\n\\t\\t\\t\\t\\t\\t</h3>\\n\\t\\t\\t\\t\\t\\t<div class=\"menu\">\\n\\t\\t\\t\\t\\t\\t\\t<ul>\\n\\t\\t\\t\\t\\t\\t\\t\\t\\t\\t\\t\\t\\t\\t\\t</ul>\\n\\t\\t\\t\\t\\t\\t</div>\\n\\t\\t\\t\\t\\t</div>\\n\\t\\t\\t\\t\\t\\t\\t\\t\\t</div>\\n\\t\\t\\t\\t<div id=\"right-navigation\">\\n\\t\\t\\t\\t\\t\\t\\t\\t\\t\\t<div id=\"p-views\" role=\"navigation\" class=\"vectorTabs\" aria-labelledby=\"p-views-label\">\\n\\t\\t\\t\\t\\t\\t<h3 id=\"p-views-label\">Views</h3>\\n\\t\\t\\t\\t\\t\\t<ul>\\n\\t\\t\\t\\t\\t\\t\\t<li id=\"ca-view\" class=\"collapsible selected\"><span><a href=\"/wiki/Vice_Squad\">Read</a></span></li><li id=\"ca-edit\" class=\"collapsible\"><span><a href=\"/w/index.php?title=Vice_Squad&amp;action=edit\" title=\"Edit this page [e]\" accesskey=\"e\">Edit</a></span></li><li id=\"ca-history\" class=\"collapsible\"><span><a href=\"/w/index.php?title=Vice_Squad&amp;action=history\" title=\"Past revisions of this page [h]\" accesskey=\"h\">View history</a></span></li>\\t\\t\\t\\t\\t\\t</ul>\\n\\t\\t\\t\\t\\t</div>\\n\\t\\t\\t\\t\\t\\t\\t\\t\\t\\t<div id=\"p-cactions\" role=\"navigation\" class=\"vectorMenu emptyPortlet\" aria-labelledby=\"p-cactions-label\">\\n\\t\\t\\t\\t\\t\\t<input type=\"checkbox\" class=\"vectorMenuCheckbox\" aria-labelledby=\"p-cactions-label\" />\\n\\t\\t\\t\\t\\t\\t<h3 id=\"p-cactions-label\"><span>More</span></h3>\\n\\t\\t\\t\\t\\t\\t<div class=\"menu\">\\n\\t\\t\\t\\t\\t\\t\\t<ul>\\n\\t\\t\\t\\t\\t\\t\\t\\t\\t\\t\\t\\t\\t\\t\\t</ul>\\n\\t\\t\\t\\t\\t\\t</div>\\n\\t\\t\\t\\t\\t</div>\\n\\t\\t\\t\\t\\t\\t\\t\\t\\t\\t<div id=\"p-search\" role=\"search\">\\n\\t\\t\\t\\t\\t\\t<h3>\\n\\t\\t\\t\\t\\t\\t\\t<label for=\"searchInput\">Search</label>\\n\\t\\t\\t\\t\\t\\t</h3>\\n\\t\\t\\t\\t\\t\\t<form action=\"/w/index.php\" id=\"searchform\">\\n\\t\\t\\t\\t\\t\\t\\t<div id=\"simpleSearch\">\\n\\t\\t\\t\\t\\t\\t\\t\\t<input type=\"search\" name=\"search\" placeholder=\"Search Wikipedia\" title=\"Search Wikipedia [f]\" accesskey=\"f\" id=\"searchInput\"/><input type=\"hidden\" value=\"Special:Search\" name=\"title\"/><input type=\"submit\" name=\"fulltext\" value=\"Search\" title=\"Search Wikipedia for this text\" id=\"mw-searchButton\" class=\"searchButton mw-fallbackSearchButton\"/><input type=\"submit\" name=\"go\" value=\"Go\" title=\"Go to a page with this exact name if it exists\" id=\"searchButton\" class=\"searchButton\"/>\\t\\t\\t\\t\\t\\t\\t</div>\\n\\t\\t\\t\\t\\t\\t</form>\\n\\t\\t\\t\\t\\t</div>\\n\\t\\t\\t\\t\\t\\t\\t\\t\\t</div>\\n\\t\\t\\t</div>\\n\\t\\t\\t<div id=\"mw-panel\">\\n\\t\\t\\t\\t<div id=\"p-logo\" role=\"banner\"><a class=\"mw-wiki-logo\" href=\"/wiki/Main_Page\"  title=\"Visit the main page\"></a></div>\\n\\t\\t\\t\\t\\t\\t<div class=\"portal\" role=\"navigation\" id=\"p-navigation\" aria-labelledby=\"p-navigation-label\">\\n\\t\\t\\t<h3 id=\"p-navigation-label\">Navigation</h3>\\n\\t\\t\\t<div class=\"body\">\\n\\t\\t\\t\\t\\t\\t\\t\\t<ul>\\n\\t\\t\\t\\t\\t<li id=\"n-mainpage-description\"><a href=\"/wiki/Main_Page\" title=\"Visit the main page [z]\" accesskey=\"z\">Main page</a></li><li id=\"n-contents\"><a href=\"/wiki/Portal:Contents\" title=\"Guides to browsing Wikipedia\">Contents</a></li><li id=\"n-featuredcontent\"><a href=\"/wiki/Portal:Featured_content\" title=\"Featured content – the best of Wikipedia\">Featured content</a></li><li id=\"n-currentevents\"><a href=\"/wiki/Portal:Current_events\" title=\"Find background information on current events\">Current events</a></li><li id=\"n-randompage\"><a href=\"/wiki/Special:Random\" title=\"Load a random article [x]\" accesskey=\"x\">Random article</a></li><li id=\"n-sitesupport\"><a href=\"https://donate.wikimedia.org/wiki/Special:FundraiserRedirector?utm_source=donate&amp;utm_medium=sidebar&amp;utm_campaign=C13_en.wikipedia.org&amp;uselang=en\" title=\"Support us\">Donate to Wikipedia</a></li><li id=\"n-shoplink\"><a href=\"//shop.wikimedia.org\" title=\"Visit the Wikipedia store\">Wikipedia store</a></li>\\t\\t\\t\\t</ul>\\n\\t\\t\\t\\t\\t\\t\\t</div>\\n\\t\\t</div>\\n\\t\\t\\t<div class=\"portal\" role=\"navigation\" id=\"p-interaction\" aria-labelledby=\"p-interaction-label\">\\n\\t\\t\\t<h3 id=\"p-interaction-label\">Interaction</h3>\\n\\t\\t\\t<div class=\"body\">\\n\\t\\t\\t\\t\\t\\t\\t\\t<ul>\\n\\t\\t\\t\\t\\t<li id=\"n-help\"><a href=\"/wiki/Help:Contents\" title=\"Guidance on how to use and edit Wikipedia\">Help</a></li><li id=\"n-aboutsite\"><a href=\"/wiki/Wikipedia:About\" title=\"Find out about Wikipedia\">About Wikipedia</a></li><li id=\"n-portal\"><a href=\"/wiki/Wikipedia:Community_portal\" title=\"About the project, what you can do, where to find things\">Community portal</a></li><li id=\"n-recentchanges\"><a href=\"/wiki/Special:RecentChanges\" title=\"A list of recent changes in the wiki [r]\" accesskey=\"r\">Recent changes</a></li><li id=\"n-contactpage\"><a href=\"//en.wikipedia.org/wiki/Wikipedia:Contact_us\" title=\"How to contact Wikipedia\">Contact page</a></li>\\t\\t\\t\\t</ul>\\n\\t\\t\\t\\t\\t\\t\\t</div>\\n\\t\\t</div>\\n\\t\\t\\t<div class=\"portal\" role=\"navigation\" id=\"p-tb\" aria-labelledby=\"p-tb-label\">\\n\\t\\t\\t<h3 id=\"p-tb-label\">Tools</h3>\\n\\t\\t\\t<div class=\"body\">\\n\\t\\t\\t\\t\\t\\t\\t\\t<ul>\\n\\t\\t\\t\\t\\t<li id=\"t-whatlinkshere\"><a href=\"/wiki/Special:WhatLinksHere/Vice_Squad\" title=\"List of all English Wikipedia pages containing links to this page [j]\" accesskey=\"j\">What links here</a></li><li id=\"t-recentchangeslinked\"><a href=\"/wiki/Special:RecentChangesLinked/Vice_Squad\" rel=\"nofollow\" title=\"Recent changes in pages linked from this page [k]\" accesskey=\"k\">Related changes</a></li><li id=\"t-upload\"><a href=\"/wiki/Wikipedia:File_Upload_Wizard\" title=\"Upload files [u]\" accesskey=\"u\">Upload file</a></li><li id=\"t-specialpages\"><a href=\"/wiki/Special:SpecialPages\" title=\"A list of all special pages [q]\" accesskey=\"q\">Special pages</a></li><li id=\"t-permalink\"><a href=\"/w/index.php?title=Vice_Squad&amp;oldid=847735856\" title=\"Permanent link to this revision of the page\">Permanent link</a></li><li id=\"t-info\"><a href=\"/w/index.php?title=Vice_Squad&amp;action=info\" title=\"More information about this page\">Page information</a></li><li id=\"t-wikibase\"><a href=\"https://www.wikidata.org/wiki/Special:EntityPage/Q2001096\" title=\"Link to connected data repository item [g]\" accesskey=\"g\">Wikidata item</a></li><li id=\"t-cite\"><a href=\"/w/index.php?title=Special:CiteThisPage&amp;page=Vice_Squad&amp;id=847735856\" title=\"Information on how to cite this page\">Cite this page</a></li>\\t\\t\\t\\t</ul>\\n\\t\\t\\t\\t\\t\\t\\t</div>\\n\\t\\t</div>\\n\\t\\t\\t<div class=\"portal\" role=\"navigation\" id=\"p-coll-print_export\" aria-labelledby=\"p-coll-print_export-label\">\\n\\t\\t\\t<h3 id=\"p-coll-print_export-label\">Print/export</h3>\\n\\t\\t\\t<div class=\"body\">\\n\\t\\t\\t\\t\\t\\t\\t\\t<ul>\\n\\t\\t\\t\\t\\t<li id=\"coll-create_a_book\"><a href=\"/w/index.php?title=Special:Book&amp;bookcmd=book_creator&amp;referer=Vice+Squad\">Create a book</a></li><li id=\"coll-download-as-rdf2latex\"><a href=\"/w/index.php?title=Special:ElectronPdf&amp;page=Vice+Squad&amp;action=show-download-screen\">Download as PDF</a></li><li id=\"t-print\"><a href=\"/w/index.php?title=Vice_Squad&amp;printable=yes\" title=\"Printable version of this page [p]\" accesskey=\"p\">Printable version</a></li>\\t\\t\\t\\t</ul>\\n\\t\\t\\t\\t\\t\\t\\t</div>\\n\\t\\t</div>\\n\\t\\t\\t<div class=\"portal\" role=\"navigation\" id=\"p-wikibase-otherprojects\" aria-labelledby=\"p-wikibase-otherprojects-label\">\\n\\t\\t\\t<h3 id=\"p-wikibase-otherprojects-label\">In other projects</h3>\\n\\t\\t\\t<div class=\"body\">\\n\\t\\t\\t\\t\\t\\t\\t\\t<ul>\\n\\t\\t\\t\\t\\t<li class=\"wb-otherproject-link wb-otherproject-commons\"><a href=\"https://commons.wikimedia.org/wiki/Category:Vice_Squad\" hreflang=\"en\">Wikimedia Commons</a></li>\\t\\t\\t\\t</ul>\\n\\t\\t\\t\\t\\t\\t\\t</div>\\n\\t\\t</div>\\n\\t\\t\\t<div class=\"portal\" role=\"navigation\" id=\"p-lang\" aria-labelledby=\"p-lang-label\">\\n\\t\\t\\t<h3 id=\"p-lang-label\">Languages</h3>\\n\\t\\t\\t<div class=\"body\">\\n\\t\\t\\t\\t\\t\\t\\t\\t<ul>\\n\\t\\t\\t\\t\\t<li class=\"interlanguage-link interwiki-cy\"><a href=\"https://cy.wikipedia.org/wiki/Vice_Squad\" title=\"Vice Squad – Welsh\" lang=\"cy\" hreflang=\"cy\" class=\"interlanguage-link-target\">Cymraeg</a></li><li class=\"interlanguage-link interwiki-de\"><a href=\"https://de.wikipedia.org/wiki/Vice_Squad\" title=\"Vice Squad – German\" lang=\"de\" hreflang=\"de\" class=\"interlanguage-link-target\">Deutsch</a></li><li class=\"interlanguage-link interwiki-es\"><a href=\"https://es.wikipedia.org/wiki/Vice_Squad\" title=\"Vice Squad – Spanish\" lang=\"es\" hreflang=\"es\" class=\"interlanguage-link-target\">Español</a></li><li class=\"interlanguage-link interwiki-fr\"><a href=\"https://fr.wikipedia.org/wiki/Vice_Squad_(groupe)\" title=\"Vice Squad (groupe) – French\" lang=\"fr\" hreflang=\"fr\" class=\"interlanguage-link-target\">Français</a></li><li class=\"interlanguage-link interwiki-it\"><a href=\"https://it.wikipedia.org/wiki/Vice_Squad\" title=\"Vice Squad – Italian\" lang=\"it\" hreflang=\"it\" class=\"interlanguage-link-target\">Italiano</a></li><li class=\"interlanguage-link interwiki-hu\"><a href=\"https://hu.wikipedia.org/wiki/Vice_Squad\" title=\"Vice Squad – Hungarian\" lang=\"hu\" hreflang=\"hu\" class=\"interlanguage-link-target\">Magyar</a></li><li class=\"interlanguage-link interwiki-pt\"><a href=\"https://pt.wikipedia.org/wiki/Vice_Squad\" title=\"Vice Squad – Portuguese\" lang=\"pt\" hreflang=\"pt\" class=\"interlanguage-link-target\">Português</a></li><li class=\"interlanguage-link interwiki-ru\"><a href=\"https://ru.wikipedia.org/wiki/Vice_Squad\" title=\"Vice Squad – Russian\" lang=\"ru\" hreflang=\"ru\" class=\"interlanguage-link-target\">Русский</a></li><li class=\"interlanguage-link interwiki-sv\"><a href=\"https://sv.wikipedia.org/wiki/Vice_Squad\" title=\"Vice Squad – Swedish\" lang=\"sv\" hreflang=\"sv\" class=\"interlanguage-link-target\">Svenska</a></li>\\t\\t\\t\\t</ul>\\n\\t\\t\\t\\t<div class=\"after-portlet after-portlet-lang\"><span class=\"wb-langlinks-edit wb-langlinks-link\"><a href=\"https://www.wikidata.org/wiki/Special:EntityPage/Q2001096#sitelinks-wikipedia\" title=\"Edit interlanguage links\" class=\"wbc-editpage\">Edit links</a></span></div>\\t\\t\\t</div>\\n\\t\\t</div>\\n\\t\\t\\t\\t</div>\\n\\t\\t</div>\\n\\t\\t\\t\\t<div id=\"footer\" role=\"contentinfo\">\\n\\t\\t\\t\\t\\t\\t<ul id=\"footer-info\">\\n\\t\\t\\t\\t\\t\\t\\t\\t<li id=\"footer-info-lastmod\"> This page was last edited on 27 June 2018, at 12:30<span class=\"anonymous-show\">\\xa0(UTC)</span>.</li>\\n\\t\\t\\t\\t\\t\\t\\t\\t<li id=\"footer-info-copyright\">Text is available under the <a rel=\"license\" href=\"//en.wikipedia.org/wiki/Wikipedia:Text_of_Creative_Commons_Attribution-ShareAlike_3.0_Unported_License\">Creative Commons Attribution-ShareAlike License</a><a rel=\"license\" href=\"//creativecommons.org/licenses/by-sa/3.0/\" style=\"display:none;\"></a>;\\nadditional terms may apply.  By using this site, you agree to the <a href=\"//wikimediafoundation.org/wiki/Terms_of_Use\">Terms of Use</a> and <a href=\"//wikimediafoundation.org/wiki/Privacy_policy\">Privacy Policy</a>. Wikipedia® is a registered trademark of the <a href=\"//www.wikimediafoundation.org/\">Wikimedia Foundation, Inc.</a>, a non-profit organization.</li>\\n\\t\\t\\t\\t\\t\\t\\t</ul>\\n\\t\\t\\t\\t\\t\\t<ul id=\"footer-places\">\\n\\t\\t\\t\\t\\t\\t\\t\\t<li id=\"footer-places-privacy\"><a href=\"https://wikimediafoundation.org/wiki/Privacy_policy\" class=\"extiw\" title=\"wmf:Privacy policy\">Privacy policy</a></li>\\n\\t\\t\\t\\t\\t\\t\\t\\t<li id=\"footer-places-about\"><a href=\"/wiki/Wikipedia:About\" title=\"Wikipedia:About\">About Wikipedia</a></li>\\n\\t\\t\\t\\t\\t\\t\\t\\t<li id=\"footer-places-disclaimer\"><a href=\"/wiki/Wikipedia:General_disclaimer\" title=\"Wikipedia:General disclaimer\">Disclaimers</a></li>\\n\\t\\t\\t\\t\\t\\t\\t\\t<li id=\"footer-places-contact\"><a href=\"//en.wikipedia.org/wiki/Wikipedia:Contact_us\">Contact Wikipedia</a></li>\\n\\t\\t\\t\\t\\t\\t\\t\\t<li id=\"footer-places-developers\"><a href=\"https://www.mediawiki.org/wiki/Special:MyLanguage/How_to_contribute\">Developers</a></li>\\n\\t\\t\\t\\t\\t\\t\\t\\t<li id=\"footer-places-cookiestatement\"><a href=\"https://wikimediafoundation.org/wiki/Cookie_statement\">Cookie statement</a></li>\\n\\t\\t\\t\\t\\t\\t\\t\\t<li id=\"footer-places-mobileview\"><a href=\"//en.m.wikipedia.org/w/index.php?title=Vice_Squad&amp;mobileaction=toggle_view_mobile\" class=\"noprint stopMobileRedirectToggle\">Mobile view</a></li>\\n\\t\\t\\t\\t\\t\\t\\t</ul>\\n\\t\\t\\t\\t\\t\\t\\t\\t\\t\\t<ul id=\"footer-icons\" class=\"noprint\">\\n\\t\\t\\t\\t\\t\\t\\t\\t\\t\\t<li id=\"footer-copyrightico\">\\n\\t\\t\\t\\t\\t\\t<a href=\"https://wikimediafoundation.org/\"><img src=\"/static/images/wikimedia-button.png\" srcset=\"/static/images/wikimedia-button-1.5x.png 1.5x, /static/images/wikimedia-button-2x.png 2x\" width=\"88\" height=\"31\" alt=\"Wikimedia Foundation\"/></a>\\t\\t\\t\\t\\t</li>\\n\\t\\t\\t\\t\\t\\t\\t\\t\\t\\t<li id=\"footer-poweredbyico\">\\n\\t\\t\\t\\t\\t\\t<a href=\"//www.mediawiki.org/\"><img src=\"/static/images/poweredby_mediawiki_88x31.png\" alt=\"Powered by MediaWiki\" srcset=\"/static/images/poweredby_mediawiki_132x47.png 1.5x, /static/images/poweredby_mediawiki_176x62.png 2x\" width=\"88\" height=\"31\"/></a>\\t\\t\\t\\t\\t</li>\\n\\t\\t\\t\\t\\t\\t\\t\\t\\t</ul>\\n\\t\\t\\t\\t\\t\\t<div style=\"clear: both;\"></div>\\n\\t\\t</div>\\n\\t\\t\\n<script>(window.RLQ=window.RLQ||[]).push(function(){mw.config.set({\"wgPageParseReport\":{\"limitreport\":{\"cputime\":\"0.168\",\"walltime\":\"0.235\",\"ppvisitednodes\":{\"value\":1182,\"limit\":1000000},\"ppgeneratednodes\":{\"value\":0,\"limit\":1500000},\"postexpandincludesize\":{\"value\":20213,\"limit\":2097152},\"templateargumentsize\":{\"value\":1822,\"limit\":2097152},\"expansiondepth\":{\"value\":12,\"limit\":40},\"expensivefunctioncount\":{\"value\":4,\"limit\":500},\"unstrip-depth\":{\"value\":0,\"limit\":20},\"unstrip-size\":{\"value\":10645,\"limit\":5000000},\"entityaccesscount\":{\"value\":1,\"limit\":400},\"timingprofile\":[\"100.00%  206.809      1 -total\",\" 36.38%   75.238      1 Template:Reflist\",\" 20.99%   43.403      1 Template:Infobox_musical_artist\",\" 15.60%   32.272      1 Template:Infobox\",\" 14.52%   30.024      1 Template:Cite_news\",\" 13.99%   28.939      1 Template:Authority_control\",\" 11.43%   23.643      1 Template:EngvarB\",\"  8.00%   16.541      4 Template:Cite_web\",\"  7.62%   15.763      1 Template:Otheruses\",\"  6.30%   13.039      3 Template:Cite_book\"]},\"scribunto\":{\"limitreport-timeusage\":{\"value\":\"0.078\",\"limit\":\"10.000\"},\"limitreport-memusage\":{\"value\":3864483,\"limit\":52428800}},\"cachereport\":{\"origin\":\"mw1248\",\"timestamp\":\"20180627123003\",\"ttl\":1900800,\"transientcontent\":false}}});mw.config.set({\"wgBackendResponseTime\":78,\"wgHostname\":\"mw1326\"});});</script>\\n\\t</body>\\n</html>\\n'"
      ]
     },
     "execution_count": 2,
     "metadata": {},
     "output_type": "execute_result"
    }
   ],
   "source": [
    "\n",
    "# like te example before will store in this variable a string with the url of the website to open\n",
    "url = 'https://en.wikipedia.org/wiki/Vice_Squad'\n",
    "\n",
    "# initialize the request and we store the result of the request in the r variable\n",
    "# get is one of the method of the class requests \n",
    "r = requests.get(url)\n",
    "# get the text of the r response\n",
    "r.text\n"
   ]
  },
  {
   "cell_type": "markdown",
   "metadata": {},
   "source": [
    "\n",
    "The output of last example is like as opening the same URL with your browser and \n",
    "clicking __alt+cmd+U__ (this works perfectly on Chrome on Mac, Firefox and Safari will use a similar combination on Windows it will be like alt+cntrl+U, we need to check it out during the workshop)\n",
    "\n",
    "To transfrom text collected in a structured HTML we need to __import__ a library that will help in doing that\n"
   ]
  },
  {
   "cell_type": "code",
   "execution_count": 3,
   "metadata": {},
   "outputs": [
    {
     "name": "stdout",
     "output_type": "stream",
     "text": [
      "<Element html at 0x107ba7e58>\n"
     ]
    }
   ],
   "source": [
    "\n",
    "# we are adding an interpreter of HTML structure, it will allow us to parse the content\n",
    "from lxml import html\n",
    "\n",
    "# we transform the pure text into a structured HTML \n",
    "tree = html.fromstring(r.text)\n",
    "\n",
    "# if we print the tree now is trasformed into and Object\n",
    "print(tree)\n"
   ]
  },
  {
   "cell_type": "markdown",
   "metadata": {},
   "source": [
    "\n",
    "In the last block of code we transformed a bunch of text in a structured HTML. \n",
    "We tried to print it out, but we got nothing fancy as aspected but instead something like this:\n",
    "\n",
    "__Element html at 0x10b7e6cc8__ why?\n",
    "\n",
    "Here down, we will extract from the Python Object that contains the HTML a specific content giving it an XPath\n"
   ]
  },
  {
   "cell_type": "code",
   "execution_count": 4,
   "metadata": {},
   "outputs": [
    {
     "name": "stdout",
     "output_type": "stream",
     "text": [
      "['Vice Squad']\n"
     ]
    }
   ],
   "source": [
    "# which is the path for the title?\n",
    "path = '//*[@id=\"firstHeading\"]/text()'\n",
    "\n",
    "\n",
    "# //*[@id=\"firstHeading\"]\n",
    "\n",
    "# remember that the XPath can reach diffrent types of information, you can use the last part of the path to \n",
    "# explain wich information you want: es. @href text() @src\n",
    "\n",
    "# we store in this variable the content of the title\n",
    "title = tree.xpath(path)\n",
    "\n",
    "# and here we go\n",
    "print(title)"
   ]
  },
  {
   "cell_type": "markdown",
   "metadata": {},
   "source": [
    "## We did it once, now scale up our Script.\n",
    "\n",
    "Now we need to scale our script in a way that it will be able to repeat the process all the times\n",
    "with diffrent urls that are using the same HTML structure.\n",
    "\n",
    "down here the example:"
   ]
  },
  {
   "cell_type": "code",
   "execution_count": 6,
   "metadata": {},
   "outputs": [
    {
     "name": "stdout",
     "output_type": "stream",
     "text": [
      "['Yannick Keith Lizé']\n",
      "['Jeffrey M. Lacker']\n",
      "['SRCM Mod. 35']\n",
      "['ServiceOps']\n"
     ]
    }
   ],
   "source": [
    "# we put in a list a set of URLs to visit ;)\n",
    "import time\n",
    "\n",
    "urls = [\"https://en.wikipedia.org/wiki/Yannick_Keith_Liz%C3%A9\",\n",
    "        \"https://en.wikipedia.org/wiki/Jeffrey_M._Lacker\",\n",
    "        \"https://en.wikipedia.org/wiki/SRCM_Mod._35\",\n",
    "        \"https://en.wikipedia.org/wiki/ServiceOps\"]\n",
    "\n",
    "# tha Xpath will be the same for all, if we change the website template we will need to privide a different Xpath\n",
    "title_path = '//*[@id=\"firstHeading\"]/text()'\n",
    "\n",
    "# loop the our preview script thru all the urls\n",
    "for url in urls:\n",
    "    # request to open the url\n",
    "    r = requests.get(url)\n",
    "    # tranform the pure text into structured HTML \n",
    "    tree = html.fromstring(r.text)\n",
    "    # parse the tree and get the title looking for that path\n",
    "    title = tree.xpath(title_path)\n",
    "    # print the title\n",
    "    print(title)\n",
    "    time.sleep(2)\n",
    "    \n",
    "    "
   ]
  },
  {
   "cell_type": "markdown",
   "metadata": {},
   "source": [
    "As you can see the title is stored into a list es. ['Yannick Keith Lizé']\n",
    "To reach the string inside the list, we will use later title[0] reaching the 0 element inside the list\n",
    "we will do it assuring that the list will have at least 1 element, otherwise the script will crash.\n",
    "\n",
    "# Collect multiple Data from the same page.\n",
    "\n",
    "In the next block of code we will play with Macrumors. \n",
    "\n",
    "For the sake of the exercitation we will run the script a very few amount of times, \n",
    "access too many times at the same website from the same source IP it will lead probably to be banned from the site (the entire day)\n",
    "\n",
    "With the next script will try to get all the links that are goint straight to posts listed into the Homepage of the Website\n",
    "\n",
    "(Sorry Macrumors, it's just an exercitation there is nothing personal)\n",
    "\n",
    "here we go:"
   ]
  },
  {
   "cell_type": "code",
   "execution_count": 7,
   "metadata": {},
   "outputs": [
    {
     "name": "stdout",
     "output_type": "stream",
     "text": [
      "['//www.macrumors.com/2018/06/29/microsoft-dual-screen-pocket-surface/']\n",
      "['//www.macrumors.com/2018/06/29/2018-iphones-embedded-apple-sim/']\n",
      "['//www.macrumors.com/2018/06/29/apple-maps-to-be-rebuilt/']\n",
      "['//www.macrumors.com/2018/06/28/five-mac-apps-june-2018/']\n",
      "['//www.macrumors.com/2018/06/28/att-911-call-outage-fine/']\n",
      "['//www.macrumors.com/2018/06/28/lg-supply-2-4-million-oled-panels-iphone-x-plus/']\n",
      "['//www.macrumors.com/2018/06/27/apple-streaming-service-bundle-tv-music-news/']\n",
      "['//www.macrumors.com/2018/06/27/att-doubles-administrative-fees/']\n",
      "['//www.macrumors.com/2018/06/27/apple-samsung-patent-dispute-settled/']\n",
      "['//www.macrumors.com/2018/06/27/samsung-galaxy-note-9-coming-in-august/']\n",
      "['//www.macrumors.com/2018/06/27/apple-headphone-jack-adapter-top-seller-best-buy/']\n",
      "['//www.macrumors.com/2018/06/27/play-impossible-gameball/']\n",
      "['/2/']\n"
     ]
    }
   ],
   "source": [
    "# strategies for pagination\n",
    "# websites 'macrumors.com' \n",
    "\n",
    "url = \"https://www.macrumors.com/\"\n",
    "\n",
    "# a) get the first page, and print all the post links\n",
    "\n",
    "# First  Title  //*[@id=\"content\"]/div/div[3]/h2\n",
    "# Second Title  //*[@id=\"content\"]/div/div[5]/h2\n",
    "# Third  Title  //*[@id=\"content\"]/div/div[7]/h2\n",
    "# Fourth Title  //*[@id=\"content\"]/div/div[9]/h2\n",
    "# Fifth  Title  //*[@id=\"content\"]/div/div[10]/h2\n",
    "# Sixth  Title  //*[@id=\"content\"]/div/div[11]/h2\n",
    "#               //*[@id=\"content\"]/div/div[12]/h2\n",
    "#               //*[@id=\"content\"]/div/div[13]/h2\n",
    "#               //*[@id=\"content\"]/div/div[14]/h2\n",
    "#               //*[@id=\"content\"]/div/div[15]/h2\n",
    "#               //*[@id=\"content\"]/div/div[16]/h2\n",
    "# Last   Title  //*[@id=\"content\"]/div/div[17]/h2\n",
    "# Next Page     //*[@id=\"content\"]/div/div[18]/div[3]/a/@href\n",
    "\n",
    "# in this list we will store the Xpath we want to search into the HTML to extracting some Data. \n",
    "paths = [\n",
    "        '//*[@id=\"content\"]/div/div[3]/h2/a/@href',\n",
    "        '//*[@id=\"content\"]/div/div[5]/h2/a/@href',\n",
    "        '//*[@id=\"content\"]/div/div[7]/h2/a/@href',\n",
    "        '//*[@id=\"content\"]/div/div[9]/h2/a/@href',\n",
    "        '//*[@id=\"content\"]/div/div[10]/h2/a/@href',\n",
    "        '//*[@id=\"content\"]/div/div[11]/h2/a/@href',\n",
    "        '//*[@id=\"content\"]/div/div[12]/h2/a/@href',\n",
    "        '//*[@id=\"content\"]/div/div[13]/h2/a/@href',\n",
    "        '//*[@id=\"content\"]/div/div[14]/h2/a/@href',\n",
    "        '//*[@id=\"content\"]/div/div[15]/h2/a/@href',\n",
    "        '//*[@id=\"content\"]/div/div[16]/h2/a/@href',\n",
    "        '//*[@id=\"content\"]/div/div[17]/h2/a/@href'\n",
    "        ]\n",
    "\n",
    "# here we store the next page Xpath\n",
    "nextpage_path = '//*[@id=\"content\"]/div/div[18]/div[3]/a/@href'\n",
    "\n",
    "# starting the request\n",
    "r = requests.get(url)\n",
    "# transforming the text in HTML \n",
    "tree = html.fromstring(r.text)\n",
    "# pass thru all the paths in the list\n",
    "for path in paths:\n",
    "    # get the result coming from this Xpath\n",
    "    url = tree.xpath(path)\n",
    "    # Print the Url\n",
    "    print(url)\n",
    "\n",
    "# now extract from the tree the nexpage link\n",
    "nextpage = tree.xpath(nextpage_path)\n",
    "# print the link\n",
    "print(nextpage)"
   ]
  },
  {
   "cell_type": "markdown",
   "metadata": {},
   "source": [
    "# Make the script works until he find a nexpage to open (well... more or less)\n",
    "\n",
    "\n",
    "\n",
    "\n",
    "\n"
   ]
  },
  {
   "cell_type": "code",
   "execution_count": 8,
   "metadata": {},
   "outputs": [
    {
     "name": "stdout",
     "output_type": "stream",
     "text": [
      "http://www.macrumors.com/2018/06/29/microsoft-dual-screen-pocket-surface/\n",
      "http://www.macrumors.com/2018/06/29/2018-iphones-embedded-apple-sim/\n",
      "http://www.macrumors.com/2018/06/29/apple-maps-to-be-rebuilt/\n",
      "http://www.macrumors.com/2018/06/28/five-mac-apps-june-2018/\n",
      "http://www.macrumors.com/2018/06/28/att-911-call-outage-fine/\n",
      "http://www.macrumors.com/2018/06/28/lg-supply-2-4-million-oled-panels-iphone-x-plus/\n",
      "http://www.macrumors.com/2018/06/27/apple-streaming-service-bundle-tv-music-news/\n",
      "http://www.macrumors.com/2018/06/27/att-doubles-administrative-fees/\n",
      "http://www.macrumors.com/2018/06/27/apple-samsung-patent-dispute-settled/\n",
      "http://www.macrumors.com/2018/06/27/samsung-galaxy-note-9-coming-in-august/\n",
      "http://www.macrumors.com/2018/06/27/apple-headphone-jack-adapter-top-seller-best-buy/\n",
      "http://www.macrumors.com/2018/06/27/play-impossible-gameball/\n",
      "['https://www.macrumors.com']\n",
      "http://www.macrumors.com/2018/06/26/nikkei-airpods-charging-case-plus-iphone/\n",
      "http://www.macrumors.com/2018/06/25/cook-social-issues-interview-fortune/\n",
      "http://www.macrumors.com/2018/06/25/apple-releases-first-ios-12-public-beta/\n",
      "http://www.macrumors.com/2018/06/25/apple-seeds-ios-11-4-1-beta-4-to-developers/\n",
      "http://www.macrumors.com/2018/06/25/tech-advocacy-group-meeting/\n",
      "http://www.macrumors.com/2018/06/25/macbook-keyboard-program-details/\n",
      "http://www.macrumors.com/2018/06/25/gurman-higher-end-airpods/\n",
      "http://www.macrumors.com/2018/06/25/apple-news-midterm-elections-2018-section/\n",
      "http://www.macrumors.com/2018/06/25/apple-celebrates-pride-san-francisco/\n",
      "['https://www.macrumors.com', 'https://www.macrumors.com/2/']\n",
      "http://www.macrumors.com/2018/06/22/tsmc-ramps-up-7nm-chips/\n",
      "http://www.macrumors.com/2018/06/21/apple-challenges-qualcomm-patents/\n",
      "http://www.macrumors.com/2018/06/21/tim-cook-reaffirms-commitment-to-ireland/\n",
      "http://www.macrumors.com/2018/06/21/apple-considered-no-lightning-on-iphone-x/\n",
      "http://www.macrumors.com/2018/06/21/apple-plans-french-show-calls/\n",
      "http://www.macrumors.com/2018/06/21/gurman-airpower-by-september/\n",
      "http://www.macrumors.com/2018/06/20/apple-car-consortium-digital-car-key/\n",
      "http://www.macrumors.com/2018/06/20/apple-sesame-workshop-partnership/\n",
      "http://www.macrumors.com/2018/06/20/apple-lawsuit-3d-touch-key-flicks/\n",
      "['https://www.macrumors.com', 'https://www.macrumors.com/2/', 'https://www.macrumors.com/3/']\n",
      "http://www.macrumors.com/2018/06/19/apple-seeds-macos-mojave-beta-2-to-developers/\n",
      "http://www.macrumors.com/2018/06/19/apple-ios-12-beta-2-to-developers/\n",
      "http://www.macrumors.com/2018/06/19/smart-speaker-connected-home/\n",
      "http://www.macrumors.com/2018/06/19/tim-cook-visits-ireland/\n",
      "http://www.macrumors.com/2018/06/18/macos-quick-look-encrypted-data-bug/\n",
      "http://www.macrumors.com/2018/06/18/apple-seeds-ios-11-4-1-beta-3-to-developers/\n",
      "http://www.macrumors.com/2018/06/18/apple-camp-registration-2018/\n",
      "http://www.macrumors.com/2018/06/18/supreme-court-to-review-app-store-monopoly-suit/\n",
      "http://www.macrumors.com/2018/06/18/ios-12-rapidsos-911-calls/\n",
      "['https://www.macrumors.com', 'https://www.macrumors.com/2/', 'https://www.macrumors.com/3/', 'https://www.macrumors.com/4/']\n",
      "http://www.macrumors.com/2018/06/15/apple-oprah-winfrey-partnership/\n",
      "http://www.macrumors.com/2018/06/15/wsj-lcd-vs-oled-2018-iphones/\n",
      "http://www.macrumors.com/2018/06/15/apple-maps-down-directions-not-available/\n",
      "http://www.macrumors.com/2018/06/15/homepod-can-now-read-news-in-canada/\n",
      "http://www.macrumors.com/2018/06/15/apple-behind-the-mac-ads/\n",
      "http://www.macrumors.com/2018/06/14/hands-on-watchos-5/\n",
      "http://www.macrumors.com/2018/06/14/apple-animated-movie-deal-cartoon-saloon/\n",
      "http://www.macrumors.com/2018/06/14/verizon-above-unlimited-75gb-data-plan/\n",
      "http://www.macrumors.com/2018/06/14/steam-link-removes-game-purchasing/\n",
      "['https://www.macrumors.com', 'https://www.macrumors.com/2/', 'https://www.macrumors.com/3/', 'https://www.macrumors.com/4/', 'https://www.macrumors.com/5/']\n"
     ]
    }
   ],
   "source": [
    "# instead of print, collect all the post links and url of the paged you scraped\n",
    "\n",
    "start_url = \"https://www.macrumors.com\"\n",
    "\n",
    "# here we create some empty lists that will collect all your data\n",
    "urls_to_scrape = []\n",
    "urls_scraped = []\n",
    "urls_posts = []\n",
    "\n",
    "# in this list are stored all the paths needed to parse on the homepage\n",
    "post_paths = [ '//*[@id=\"content\"]/div/div[3]/h2/a/@href',\n",
    "               '//*[@id=\"content\"]/div/div[5]/h2/a/@href',\n",
    "               '//*[@id=\"content\"]/div/div[7]/h2/a/@href',\n",
    "               '//*[@id=\"content\"]/div/div[9]/h2/a/@href',\n",
    "               '//*[@id=\"content\"]/div/div[10]/h2/a/@href',\n",
    "               '//*[@id=\"content\"]/div/div[11]/h2/a/@href',\n",
    "               '//*[@id=\"content\"]/div/div[12]/h2/a/@href',\n",
    "               '//*[@id=\"content\"]/div/div[13]/h2/a/@href',\n",
    "               '//*[@id=\"content\"]/div/div[14]/h2/a/@href',\n",
    "               '//*[@id=\"content\"]/div/div[15]/h2/a/@href',\n",
    "               '//*[@id=\"content\"]/div/div[16]/h2/a/@href',\n",
    "               '//*[@id=\"content\"]/div/div[17]/h2/a/@href'\n",
    "             ]\n",
    "\n",
    "# this is the path of the link of next page\n",
    "nextpage_path = '//*[@id=\"content\"]/div/div[18]/div[3]/a/@href'\n",
    "\n",
    "# a counter, we will use it to stop the script after a certain point\n",
    "counter = 0 \n",
    "run_n_times =5\n",
    "\n",
    "\n",
    "def main():\n",
    "    \n",
    "    # if the list of links to scrape is not empty\n",
    "    global counter \n",
    "    \n",
    "    if urls_to_scrape:\n",
    "        \n",
    "        # take the fist element of the list  \n",
    "        url = urls_to_scrape[0]\n",
    "        # open the url\n",
    "        r = requests.get(url)\n",
    "        # transform the pure text in HTML \n",
    "        tree = html.fromstring(r.text)\n",
    "        # for all the path in paths \n",
    "        for path in post_paths:\n",
    "            # extract the url \n",
    "            u = tree.xpath(path)\n",
    "            # if not empty \n",
    "            if u:\n",
    "                # the url comes with //www, we replace the sting with this to have a proper address\n",
    "                u = u[0].replace(\"//www\",'http://www')\n",
    "                # add the url to the posts url list\n",
    "                urls_posts.append(u)\n",
    "                # print the address\n",
    "                print(u)\n",
    "            \n",
    "        \n",
    "        # get the next page (it comes in '/2/' format)\n",
    "        nextpage = tree.xpath(nextpage_path)\n",
    "        # here we join the start_url 'http://www.macroumors.com' with the '/2/'\n",
    "        urls_to_scrape.append(start_url+nextpage[0])\n",
    "        # than we add the new url to the we scraped\n",
    "        urls_scraped.append(urls_to_scrape[0])\n",
    "        # now we take out the first element in the list of the one to scrape (it was the homepage)\n",
    "        urls_to_scrape.pop(0)\n",
    "        # print the last url you got\n",
    "        print(urls_scraped)\n",
    "        # add a item into the counter \n",
    "        counter = counter + 1\n",
    "        \n",
    "        # here we assure that after a certain numeber i stop\n",
    "        if counter < run_n_times :\n",
    "            # if is less of the run_n_times run all main again \n",
    "            main()\n",
    "              \n",
    "    else:\n",
    "        # if the list is empty, add the start url\n",
    "        urls_to_scrape.append(start_url)\n",
    "        # than run main \n",
    "        main()\n",
    "    \n",
    "\n",
    "# here we initialize the script\n",
    "main()\n",
    "\n",
    "\n"
   ]
  },
  {
   "cell_type": "code",
   "execution_count": null,
   "metadata": {
    "collapsed": true
   },
   "outputs": [],
   "source": []
  }
 ],
 "metadata": {
  "kernelspec": {
   "display_name": "Python 3",
   "language": "python",
   "name": "python3"
  },
  "language_info": {
   "codemirror_mode": {
    "name": "ipython",
    "version": 3
   },
   "file_extension": ".py",
   "mimetype": "text/x-python",
   "name": "python",
   "nbconvert_exporter": "python",
   "pygments_lexer": "ipython3",
   "version": "3.6.2"
  }
 },
 "nbformat": 4,
 "nbformat_minor": 2
}
